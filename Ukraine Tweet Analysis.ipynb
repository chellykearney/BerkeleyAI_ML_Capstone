{
 "cells": [
  {
   "cell_type": "markdown",
   "id": "e5234677",
   "metadata": {},
   "source": [
    "# Capstone Project: Can We Track Pro-Ukrainian Sentiment Through Tweets?"
   ]
  },
  {
   "cell_type": "markdown",
   "id": "3475226b",
   "metadata": {},
   "source": [
    "**Overview:** This project uses Natural Language Processing to classify tweets as Pro-Ukrainian following the Russian invasion of Uktraine, and then compares the performance of Classification models on a tweet dataset."
   ]
  },
  {
   "cell_type": "code",
   "execution_count": 1,
   "id": "2516598c",
   "metadata": {},
   "outputs": [
    {
     "name": "stderr",
     "output_type": "stream",
     "text": [
      "[nltk_data] Downloading package vader_lexicon to C:\\Users\\Chelly\n",
      "[nltk_data]     Kearney\\AppData\\Roaming\\nltk_data...\n",
      "[nltk_data]   Package vader_lexicon is already up-to-date!\n"
     ]
    },
    {
     "data": {
      "text/plain": [
       "True"
      ]
     },
     "execution_count": 1,
     "metadata": {},
     "output_type": "execute_result"
    }
   ],
   "source": [
    "import pandas as pd\n",
    "import numpy as np\n",
    "import seaborn as sns\n",
    "import plotly.express as px\n",
    "import matplotlib.pyplot as plt\n",
    "import matplotlib.patches as mpatches\n",
    "import nltk\n",
    "import re\n",
    "import sys\n",
    "import os\n",
    "import nltk\n",
    "import string\n",
    "from textblob import TextBlob\n",
    "\n",
    "from sklearn.compose import make_column_selector, make_column_transformer\n",
    "from sklearn.preprocessing import OneHotEncoder, StandardScaler, PolynomialFeatures\n",
    "from sklearn.linear_model import LogisticRegression\n",
    "from sklearn.feature_selection import SelectFromModel\n",
    "from sklearn.pipeline import Pipeline\n",
    "from sklearn.model_selection import train_test_split, GridSearchCV\n",
    "from sklearn.metrics import ConfusionMatrixDisplay, RocCurveDisplay, accuracy_score, precision_score, recall_score, plot_confusion_matrix, confusion_matrix\n",
    "from sklearn.neighbors import KNeighborsClassifier\n",
    "from sklearn.tree import DecisionTreeClassifier, export_text, plot_tree\n",
    "from sklearn.svm import SVC\n",
    "from nltk.stem import PorterStemmer, WordNetLemmatizer\n",
    "from nltk import word_tokenize\n",
    "from nltk.sentiment.vader import SentimentIntensityAnalyzer\n",
    "\n",
    "nltk.download('vader_lexicon')"
   ]
  },
  {
   "cell_type": "markdown",
   "id": "7b30ce28",
   "metadata": {},
   "source": [
    "## Business Understanding"
   ]
  },
  {
   "cell_type": "markdown",
   "id": "15d0c84b",
   "metadata": {},
   "source": [
    "On February 24, 2022, Russia invaded Ukraine. This led to the largest refugee and humanitarian crisis within Europe since the Yugoslav Wars in the 1990s. According to a report by the [Council on Foreign Relations](https://www.cfr.org/article/how-much-aid-has-us-sent-ukraine-here-are-six-charts), forty-seven countries have provided military aid to Ukraine. The U.S. alone has directed more than \\\\$75 billion in assistance for humanitarian, financial, and military support. Ukraine expects a \\\\$38 billion budget deficit this year and the Ukrainian government is requesting an additional \\$14 billion in foreign aid for rapid reconstruction of critical infrastructure [(Reuters).](https://www.reuters.com/world/europe/ukraine-says-its-received-167-bln-foreign-aid-this-year-2023-05-11/). Continued foreign aid is heavily dependent on public support for Ukraine. \n",
    "\n",
    "The goal of this project is to determine if we can track public sentiment for Ukraine through tweets."
   ]
  },
  {
   "cell_type": "markdown",
   "id": "3c727dda",
   "metadata": {},
   "source": [
    "## Data Understanding"
   ]
  },
  {
   "cell_type": "markdown",
   "id": "3e443b06",
   "metadata": {},
   "source": [
    "The dataset used for this project comes from Daria Purtova on [Kaggle.](https://www.kaggle.com/datasets/foklacu/ukraine-war-tweets-dataset-65-days) Purtova compiled tweets between January 1, 2022 to March 6, 2022. She searched on the following phrases and compiled results into 8 separate CSV files based on the search phrases.\n",
    "\n",
    "* ukraine war\n",
    "* ukraine troops\n",
    "* ukraine border\n",
    "* ukraine NATO\n",
    "* StandWithUkraine\n",
    "* russian troops\n",
    "* russian border ukraine\n",
    "* russia invade\n",
    "\n",
    "Each file consisted of 29 features. Some of the columns were identifiers, not unique, redundant or not populated enough to be useful. Nine of the features were useful for this study. They include the following:\n",
    "\n",
    "* **Date** - the date the tweet was posted (object)\n",
    "* **Content** - the text of the tweet (object)\n",
    "* **replyCount** - the number of replies to the tweet (int64)\n",
    "* **retweetCount** - the number of times the tweet was retweeted (int64)\n",
    "* **likeCount** - the number of times the tweet was liked (int64)\n",
    "* **quoteCount** - the number of times the tweet was quoted (int64)\n",
    "* **SourceLabel** - the type of app from which the tweet was sent (e.g. iPhone, Android, Web app) (object)\n",
    "* **hashtags** - hashtags included in the text\n",
    "* **Searh** - the search phrase used to compile the text\n",
    "\n",
    "The language of the text was one of the features, but only English texts were used for this study. Only texts that included hashtags were used for this study. To save on computational time, 7000 tweets were randomnly selected from each of the 8 CSV files to make the final dataset."
   ]
  },
  {
   "cell_type": "markdown",
   "id": "40e74ddf",
   "metadata": {},
   "source": [
    "## Data Preparation"
   ]
  },
  {
   "cell_type": "markdown",
   "id": "4e8030fc",
   "metadata": {},
   "source": [
    "To save on computational time - clean each file separately and reduce. Then combine files to build dataset."
   ]
  },
  {
   "cell_type": "markdown",
   "id": "e2fe6111",
   "metadata": {},
   "source": [
    "### First File: 'StandWithUkraine' dataset"
   ]
  },
  {
   "cell_type": "code",
   "execution_count": 2,
   "id": "311bd363",
   "metadata": {},
   "outputs": [],
   "source": [
    "swu = pd.read_csv('data/StandWithUkraine.csv')"
   ]
  },
  {
   "cell_type": "markdown",
   "id": "14b8e1c6",
   "metadata": {},
   "source": [
    "##### Select only English tweets"
   ]
  },
  {
   "cell_type": "code",
   "execution_count": 3,
   "id": "33fdb216",
   "metadata": {},
   "outputs": [
    {
     "name": "stdout",
     "output_type": "stream",
     "text": [
      "<class 'pandas.core.frame.DataFrame'>\n",
      "Int64Index: 87819 entries, 0 to 148144\n",
      "Data columns (total 29 columns):\n",
      " #   Column            Non-Null Count  Dtype  \n",
      "---  ------            --------------  -----  \n",
      " 0   _type             87819 non-null  object \n",
      " 1   url               87819 non-null  object \n",
      " 2   date              87819 non-null  object \n",
      " 3   content           87819 non-null  object \n",
      " 4   renderedContent   87819 non-null  object \n",
      " 5   id                87819 non-null  int64  \n",
      " 6   user              87819 non-null  object \n",
      " 7   replyCount        87819 non-null  int64  \n",
      " 8   retweetCount      87819 non-null  int64  \n",
      " 9   likeCount         87819 non-null  int64  \n",
      " 10  quoteCount        87819 non-null  int64  \n",
      " 11  conversationId    87819 non-null  int64  \n",
      " 12  lang              87819 non-null  object \n",
      " 13  source            87819 non-null  object \n",
      " 14  sourceUrl         87819 non-null  object \n",
      " 15  sourceLabel       87819 non-null  object \n",
      " 16  outlinks          34642 non-null  object \n",
      " 17  tcooutlinks       34642 non-null  object \n",
      " 18  media             19443 non-null  object \n",
      " 19  retweetedTweet    0 non-null      float64\n",
      " 20  quotedTweet       21495 non-null  object \n",
      " 21  inReplyToTweetId  27959 non-null  float64\n",
      " 22  inReplyToUser     27959 non-null  object \n",
      " 23  mentionedUsers    38210 non-null  object \n",
      " 24  coordinates       2397 non-null   object \n",
      " 25  place             2397 non-null   object \n",
      " 26  hashtags          69582 non-null  object \n",
      " 27  cashtags          53 non-null     object \n",
      " 28  Searh             87819 non-null  object \n",
      "dtypes: float64(2), int64(6), object(21)\n",
      "memory usage: 20.1+ MB\n"
     ]
    }
   ],
   "source": [
    "swu_en = swu[swu['lang']=='en']\n",
    "swu_en.info()"
   ]
  },
  {
   "cell_type": "markdown",
   "id": "e72398da",
   "metadata": {},
   "source": [
    "##### Remove non-applicable columns\n",
    "Some columns have redundant information (SourceURL and SourceLabel). Some have so few entries as to be useful. Some columns are not unique to a tweet (type)."
   ]
  },
  {
   "cell_type": "code",
   "execution_count": 4,
   "id": "e852ba97",
   "metadata": {},
   "outputs": [
    {
     "data": {
      "text/plain": [
       "(87819, 8)"
      ]
     },
     "execution_count": 4,
     "metadata": {},
     "output_type": "execute_result"
    }
   ],
   "source": [
    "swu_col = swu_en[['date','content','replyCount','retweetCount','likeCount','quoteCount','sourceLabel','Searh']]\n",
    "swu_col.shape"
   ]
  },
  {
   "cell_type": "markdown",
   "id": "e26ea884",
   "metadata": {},
   "source": [
    "##### Remove tweets with null values"
   ]
  },
  {
   "cell_type": "code",
   "execution_count": 5,
   "id": "b1d73f76",
   "metadata": {},
   "outputs": [
    {
     "data": {
      "text/plain": [
       "date            0\n",
       "content         0\n",
       "replyCount      0\n",
       "retweetCount    0\n",
       "likeCount       0\n",
       "quoteCount      0\n",
       "sourceLabel     0\n",
       "Searh           0\n",
       "dtype: int64"
      ]
     },
     "execution_count": 5,
     "metadata": {},
     "output_type": "execute_result"
    }
   ],
   "source": [
    "swu_col.isnull().sum().sort_values()"
   ]
  },
  {
   "cell_type": "markdown",
   "id": "44454b18",
   "metadata": {},
   "source": [
    "##### Remove duplicates"
   ]
  },
  {
   "cell_type": "code",
   "execution_count": 6,
   "id": "32cf9bac",
   "metadata": {},
   "outputs": [
    {
     "name": "stderr",
     "output_type": "stream",
     "text": [
      "C:\\Users\\Chelly Kearney\\AppData\\Local\\Temp\\ipykernel_792\\2919549061.py:1: SettingWithCopyWarning: \n",
      "A value is trying to be set on a copy of a slice from a DataFrame\n",
      "\n",
      "See the caveats in the documentation: https://pandas.pydata.org/pandas-docs/stable/user_guide/indexing.html#returning-a-view-versus-a-copy\n",
      "  swu_col.drop_duplicates(keep='first', inplace=True)\n"
     ]
    },
    {
     "data": {
      "text/plain": [
       "(87816, 8)"
      ]
     },
     "execution_count": 6,
     "metadata": {},
     "output_type": "execute_result"
    }
   ],
   "source": [
    "swu_col.drop_duplicates(keep='first', inplace=True)\n",
    "swu_col.shape"
   ]
  },
  {
   "cell_type": "markdown",
   "id": "68050b93",
   "metadata": {},
   "source": [
    "##### Reduce the dataset to minimize computation time"
   ]
  },
  {
   "cell_type": "code",
   "execution_count": 7,
   "id": "a3946c55",
   "metadata": {},
   "outputs": [
    {
     "name": "stdout",
     "output_type": "stream",
     "text": [
      "<class 'pandas.core.frame.DataFrame'>\n",
      "Int64Index: 7000 entries, 78698 to 98394\n",
      "Data columns (total 8 columns):\n",
      " #   Column        Non-Null Count  Dtype \n",
      "---  ------        --------------  ----- \n",
      " 0   date          7000 non-null   object\n",
      " 1   content       7000 non-null   object\n",
      " 2   replyCount    7000 non-null   int64 \n",
      " 3   retweetCount  7000 non-null   int64 \n",
      " 4   likeCount     7000 non-null   int64 \n",
      " 5   quoteCount    7000 non-null   int64 \n",
      " 6   sourceLabel   7000 non-null   object\n",
      " 7   Searh         7000 non-null   object\n",
      "dtypes: int64(4), object(4)\n",
      "memory usage: 492.2+ KB\n"
     ]
    }
   ],
   "source": [
    "swu_final = swu_col.sample(n=7000, replace=False, random_state=42)\n",
    "swu_final.info()"
   ]
  },
  {
   "cell_type": "markdown",
   "id": "a192d74f",
   "metadata": {},
   "source": [
    "### Second File: 'Russia_invade' dataset"
   ]
  },
  {
   "cell_type": "code",
   "execution_count": 8,
   "id": "cafc8ccd",
   "metadata": {},
   "outputs": [],
   "source": [
    "ri = pd.read_csv('data/Russia_invade.csv')"
   ]
  },
  {
   "cell_type": "markdown",
   "id": "b9500ee8",
   "metadata": {},
   "source": [
    "##### Select only English tweets"
   ]
  },
  {
   "cell_type": "code",
   "execution_count": 9,
   "id": "0ba99be2",
   "metadata": {},
   "outputs": [
    {
     "name": "stdout",
     "output_type": "stream",
     "text": [
      "<class 'pandas.core.frame.DataFrame'>\n",
      "Int64Index: 165649 entries, 0 to 170834\n",
      "Data columns (total 29 columns):\n",
      " #   Column            Non-Null Count   Dtype  \n",
      "---  ------            --------------   -----  \n",
      " 0   _type             165649 non-null  object \n",
      " 1   url               165649 non-null  object \n",
      " 2   date              165649 non-null  object \n",
      " 3   content           165649 non-null  object \n",
      " 4   renderedContent   165649 non-null  object \n",
      " 5   id                165649 non-null  int64  \n",
      " 6   user              165649 non-null  object \n",
      " 7   replyCount        165649 non-null  int64  \n",
      " 8   retweetCount      165649 non-null  int64  \n",
      " 9   likeCount         165649 non-null  int64  \n",
      " 10  quoteCount        165649 non-null  int64  \n",
      " 11  conversationId    165649 non-null  int64  \n",
      " 12  lang              165649 non-null  object \n",
      " 13  source            165649 non-null  object \n",
      " 14  sourceUrl         165649 non-null  object \n",
      " 15  sourceLabel       165649 non-null  object \n",
      " 16  outlinks          37949 non-null   object \n",
      " 17  tcooutlinks       37949 non-null   object \n",
      " 18  media             11160 non-null   object \n",
      " 19  retweetedTweet    0 non-null       float64\n",
      " 20  quotedTweet       11743 non-null   object \n",
      " 21  inReplyToTweetId  92217 non-null   float64\n",
      " 22  inReplyToUser     92217 non-null   object \n",
      " 23  mentionedUsers    98023 non-null   object \n",
      " 24  coordinates       1657 non-null    object \n",
      " 25  place             1657 non-null    object \n",
      " 26  hashtags          18389 non-null   object \n",
      " 27  cashtags          671 non-null     object \n",
      " 28  Searh             165649 non-null  object \n",
      "dtypes: float64(2), int64(6), object(21)\n",
      "memory usage: 37.9+ MB\n"
     ]
    }
   ],
   "source": [
    "ri_en = ri[ri['lang']=='en']\n",
    "ri_en.info()"
   ]
  },
  {
   "cell_type": "markdown",
   "id": "929694e8",
   "metadata": {},
   "source": [
    "##### Remove non-applicable columns"
   ]
  },
  {
   "cell_type": "code",
   "execution_count": 10,
   "id": "08027260",
   "metadata": {},
   "outputs": [
    {
     "data": {
      "text/plain": [
       "(165649, 8)"
      ]
     },
     "execution_count": 10,
     "metadata": {},
     "output_type": "execute_result"
    }
   ],
   "source": [
    "ri_col = ri_en[['date','content','replyCount','retweetCount','likeCount','quoteCount','sourceLabel', 'Searh']]\n",
    "ri_col.shape"
   ]
  },
  {
   "cell_type": "markdown",
   "id": "0310b534",
   "metadata": {},
   "source": [
    "##### Remove tweets with null values"
   ]
  },
  {
   "cell_type": "code",
   "execution_count": 11,
   "id": "8c73cea1",
   "metadata": {},
   "outputs": [
    {
     "data": {
      "text/plain": [
       "date            0\n",
       "content         0\n",
       "replyCount      0\n",
       "retweetCount    0\n",
       "likeCount       0\n",
       "quoteCount      0\n",
       "sourceLabel     0\n",
       "Searh           0\n",
       "dtype: int64"
      ]
     },
     "execution_count": 11,
     "metadata": {},
     "output_type": "execute_result"
    }
   ],
   "source": [
    "ri_col.isnull().sum().sort_values()"
   ]
  },
  {
   "cell_type": "markdown",
   "id": "b675495c",
   "metadata": {},
   "source": [
    "##### Remove duplicates"
   ]
  },
  {
   "cell_type": "code",
   "execution_count": 12,
   "id": "31e577e6",
   "metadata": {},
   "outputs": [
    {
     "name": "stderr",
     "output_type": "stream",
     "text": [
      "C:\\Users\\Chelly Kearney\\AppData\\Local\\Temp\\ipykernel_792\\973425052.py:1: SettingWithCopyWarning: \n",
      "A value is trying to be set on a copy of a slice from a DataFrame\n",
      "\n",
      "See the caveats in the documentation: https://pandas.pydata.org/pandas-docs/stable/user_guide/indexing.html#returning-a-view-versus-a-copy\n",
      "  ri_col.drop_duplicates(keep='first', inplace=True)\n"
     ]
    },
    {
     "data": {
      "text/plain": [
       "(165646, 8)"
      ]
     },
     "execution_count": 12,
     "metadata": {},
     "output_type": "execute_result"
    }
   ],
   "source": [
    "ri_col.drop_duplicates(keep='first', inplace=True)\n",
    "ri_col.shape"
   ]
  },
  {
   "cell_type": "markdown",
   "id": "af0d429a",
   "metadata": {},
   "source": [
    "##### Reduce dataset to minimize computational time"
   ]
  },
  {
   "cell_type": "code",
   "execution_count": 13,
   "id": "5133ae37",
   "metadata": {},
   "outputs": [
    {
     "name": "stdout",
     "output_type": "stream",
     "text": [
      "<class 'pandas.core.frame.DataFrame'>\n",
      "Int64Index: 7000 entries, 14074 to 124304\n",
      "Data columns (total 8 columns):\n",
      " #   Column        Non-Null Count  Dtype \n",
      "---  ------        --------------  ----- \n",
      " 0   date          7000 non-null   object\n",
      " 1   content       7000 non-null   object\n",
      " 2   replyCount    7000 non-null   int64 \n",
      " 3   retweetCount  7000 non-null   int64 \n",
      " 4   likeCount     7000 non-null   int64 \n",
      " 5   quoteCount    7000 non-null   int64 \n",
      " 6   sourceLabel   7000 non-null   object\n",
      " 7   Searh         7000 non-null   object\n",
      "dtypes: int64(4), object(4)\n",
      "memory usage: 492.2+ KB\n"
     ]
    }
   ],
   "source": [
    "ri_final = ri_col.sample(n=7000, replace=False, random_state=42)\n",
    "ri_final.info()"
   ]
  },
  {
   "cell_type": "markdown",
   "id": "6aa6b407",
   "metadata": {},
   "source": [
    "### Third File: 'Russia_border_Ukraine' dataset"
   ]
  },
  {
   "cell_type": "code",
   "execution_count": 14,
   "id": "96577449",
   "metadata": {},
   "outputs": [],
   "source": [
    "rbu = pd.read_csv('data/Russian_border_Ukraine.csv')"
   ]
  },
  {
   "cell_type": "markdown",
   "id": "4475f20e",
   "metadata": {},
   "source": [
    "##### Select only English tweets"
   ]
  },
  {
   "cell_type": "code",
   "execution_count": 15,
   "id": "45a4480d",
   "metadata": {},
   "outputs": [
    {
     "name": "stdout",
     "output_type": "stream",
     "text": [
      "<class 'pandas.core.frame.DataFrame'>\n",
      "Int64Index: 52616 entries, 0 to 53039\n",
      "Data columns (total 29 columns):\n",
      " #   Column            Non-Null Count  Dtype  \n",
      "---  ------            --------------  -----  \n",
      " 0   _type             52616 non-null  object \n",
      " 1   url               52616 non-null  object \n",
      " 2   date              52616 non-null  object \n",
      " 3   content           52616 non-null  object \n",
      " 4   renderedContent   52616 non-null  object \n",
      " 5   id                52616 non-null  int64  \n",
      " 6   user              52616 non-null  object \n",
      " 7   replyCount        52616 non-null  int64  \n",
      " 8   retweetCount      52616 non-null  int64  \n",
      " 9   likeCount         52616 non-null  int64  \n",
      " 10  quoteCount        52616 non-null  int64  \n",
      " 11  conversationId    52616 non-null  int64  \n",
      " 12  lang              52616 non-null  object \n",
      " 13  source            52616 non-null  object \n",
      " 14  sourceUrl         52616 non-null  object \n",
      " 15  sourceLabel       52616 non-null  object \n",
      " 16  outlinks          17148 non-null  object \n",
      " 17  tcooutlinks       17148 non-null  object \n",
      " 18  media             8193 non-null   object \n",
      " 19  retweetedTweet    0 non-null      float64\n",
      " 20  quotedTweet       3804 non-null   object \n",
      " 21  inReplyToTweetId  22412 non-null  float64\n",
      " 22  inReplyToUser     22412 non-null  object \n",
      " 23  mentionedUsers    24448 non-null  object \n",
      " 24  coordinates       569 non-null    object \n",
      " 25  place             569 non-null    object \n",
      " 26  hashtags          11256 non-null  object \n",
      " 27  cashtags          113 non-null    object \n",
      " 28  Searh             52616 non-null  object \n",
      "dtypes: float64(2), int64(6), object(21)\n",
      "memory usage: 12.0+ MB\n"
     ]
    }
   ],
   "source": [
    "rbu_en = rbu[rbu['lang']=='en']\n",
    "rbu_en.info()"
   ]
  },
  {
   "cell_type": "markdown",
   "id": "725cf2b1",
   "metadata": {},
   "source": [
    "##### Remove non-applicable columns"
   ]
  },
  {
   "cell_type": "code",
   "execution_count": 16,
   "id": "da2fe98c",
   "metadata": {},
   "outputs": [
    {
     "data": {
      "text/plain": [
       "(52616, 8)"
      ]
     },
     "execution_count": 16,
     "metadata": {},
     "output_type": "execute_result"
    }
   ],
   "source": [
    "rbu_col = rbu_en[['date','content','replyCount','retweetCount','likeCount','quoteCount','sourceLabel', 'Searh']]\n",
    "rbu_col.shape"
   ]
  },
  {
   "cell_type": "markdown",
   "id": "2fec57c3",
   "metadata": {},
   "source": [
    "##### Remove tweets with null values"
   ]
  },
  {
   "cell_type": "code",
   "execution_count": 17,
   "id": "8d9b39b1",
   "metadata": {},
   "outputs": [
    {
     "data": {
      "text/plain": [
       "date            0\n",
       "content         0\n",
       "replyCount      0\n",
       "retweetCount    0\n",
       "likeCount       0\n",
       "quoteCount      0\n",
       "sourceLabel     0\n",
       "Searh           0\n",
       "dtype: int64"
      ]
     },
     "execution_count": 17,
     "metadata": {},
     "output_type": "execute_result"
    }
   ],
   "source": [
    "rbu_col.isnull().sum().sort_values()"
   ]
  },
  {
   "cell_type": "markdown",
   "id": "cf90a94c",
   "metadata": {},
   "source": [
    "##### Remove duplicates"
   ]
  },
  {
   "cell_type": "code",
   "execution_count": 18,
   "id": "d74fcf26",
   "metadata": {},
   "outputs": [
    {
     "name": "stderr",
     "output_type": "stream",
     "text": [
      "C:\\Users\\Chelly Kearney\\AppData\\Local\\Temp\\ipykernel_792\\182262936.py:1: SettingWithCopyWarning: \n",
      "A value is trying to be set on a copy of a slice from a DataFrame\n",
      "\n",
      "See the caveats in the documentation: https://pandas.pydata.org/pandas-docs/stable/user_guide/indexing.html#returning-a-view-versus-a-copy\n",
      "  rbu_col.drop_duplicates(keep='first', inplace=True)\n"
     ]
    },
    {
     "data": {
      "text/plain": [
       "(52616, 8)"
      ]
     },
     "execution_count": 18,
     "metadata": {},
     "output_type": "execute_result"
    }
   ],
   "source": [
    "rbu_col.drop_duplicates(keep='first', inplace=True)\n",
    "rbu_col.shape"
   ]
  },
  {
   "cell_type": "markdown",
   "id": "e6697654",
   "metadata": {},
   "source": [
    "##### Reduce dataset size"
   ]
  },
  {
   "cell_type": "code",
   "execution_count": 19,
   "id": "ed5234de",
   "metadata": {},
   "outputs": [
    {
     "name": "stdout",
     "output_type": "stream",
     "text": [
      "<class 'pandas.core.frame.DataFrame'>\n",
      "Int64Index: 7000 entries, 22967 to 27266\n",
      "Data columns (total 8 columns):\n",
      " #   Column        Non-Null Count  Dtype \n",
      "---  ------        --------------  ----- \n",
      " 0   date          7000 non-null   object\n",
      " 1   content       7000 non-null   object\n",
      " 2   replyCount    7000 non-null   int64 \n",
      " 3   retweetCount  7000 non-null   int64 \n",
      " 4   likeCount     7000 non-null   int64 \n",
      " 5   quoteCount    7000 non-null   int64 \n",
      " 6   sourceLabel   7000 non-null   object\n",
      " 7   Searh         7000 non-null   object\n",
      "dtypes: int64(4), object(4)\n",
      "memory usage: 492.2+ KB\n"
     ]
    }
   ],
   "source": [
    "rbu_final = rbu_col.sample(n=7000, replace=False, random_state=42)\n",
    "rbu_final.info()"
   ]
  },
  {
   "cell_type": "markdown",
   "id": "f83b8d6e",
   "metadata": {},
   "source": [
    "### Fourth File: 'Russian_troops' dataset"
   ]
  },
  {
   "cell_type": "code",
   "execution_count": 20,
   "id": "0426d519",
   "metadata": {},
   "outputs": [],
   "source": [
    "rt = pd.read_csv('data/Russian_troops.csv')"
   ]
  },
  {
   "cell_type": "markdown",
   "id": "e10325ef",
   "metadata": {},
   "source": [
    "##### Select only English tweets"
   ]
  },
  {
   "cell_type": "code",
   "execution_count": 21,
   "id": "abfecdde",
   "metadata": {},
   "outputs": [
    {
     "name": "stdout",
     "output_type": "stream",
     "text": [
      "<class 'pandas.core.frame.DataFrame'>\n",
      "Int64Index: 126962 entries, 0 to 128404\n",
      "Data columns (total 29 columns):\n",
      " #   Column            Non-Null Count   Dtype  \n",
      "---  ------            --------------   -----  \n",
      " 0   _type             126962 non-null  object \n",
      " 1   url               126962 non-null  object \n",
      " 2   date              126962 non-null  object \n",
      " 3   content           126962 non-null  object \n",
      " 4   renderedContent   126962 non-null  object \n",
      " 5   id                126962 non-null  int64  \n",
      " 6   user              126962 non-null  object \n",
      " 7   replyCount        126962 non-null  int64  \n",
      " 8   retweetCount      126962 non-null  int64  \n",
      " 9   likeCount         126962 non-null  int64  \n",
      " 10  quoteCount        126962 non-null  int64  \n",
      " 11  conversationId    126962 non-null  int64  \n",
      " 12  lang              126962 non-null  object \n",
      " 13  source            126962 non-null  object \n",
      " 14  sourceUrl         126962 non-null  object \n",
      " 15  sourceLabel       126962 non-null  object \n",
      " 16  outlinks          46651 non-null   object \n",
      " 17  tcooutlinks       46651 non-null   object \n",
      " 18  media             14608 non-null   object \n",
      " 19  retweetedTweet    0 non-null       float64\n",
      " 20  quotedTweet       10554 non-null   object \n",
      " 21  inReplyToTweetId  56069 non-null   float64\n",
      " 22  inReplyToUser     56069 non-null   object \n",
      " 23  mentionedUsers    60969 non-null   object \n",
      " 24  coordinates       1408 non-null    object \n",
      " 25  place             1408 non-null    object \n",
      " 26  hashtags          21121 non-null   object \n",
      " 27  cashtags          343 non-null     object \n",
      " 28  Searh             126962 non-null  object \n",
      "dtypes: float64(2), int64(6), object(21)\n",
      "memory usage: 29.1+ MB\n"
     ]
    }
   ],
   "source": [
    "rt_en = rt[rt['lang']=='en']\n",
    "rt_en.info()"
   ]
  },
  {
   "cell_type": "markdown",
   "id": "a6dded8c",
   "metadata": {},
   "source": [
    "##### Remove non-applicable columns"
   ]
  },
  {
   "cell_type": "code",
   "execution_count": 22,
   "id": "8e0002da",
   "metadata": {},
   "outputs": [
    {
     "data": {
      "text/plain": [
       "(126962, 8)"
      ]
     },
     "execution_count": 22,
     "metadata": {},
     "output_type": "execute_result"
    }
   ],
   "source": [
    "rt_col = rt_en[['date','content','replyCount','retweetCount','likeCount','quoteCount','sourceLabel', 'Searh']]\n",
    "rt_col.shape"
   ]
  },
  {
   "cell_type": "markdown",
   "id": "56ddd0ab",
   "metadata": {},
   "source": [
    "##### Remove tweets with null values"
   ]
  },
  {
   "cell_type": "code",
   "execution_count": 23,
   "id": "0f8eb40a",
   "metadata": {},
   "outputs": [
    {
     "data": {
      "text/plain": [
       "date            0\n",
       "content         0\n",
       "replyCount      0\n",
       "retweetCount    0\n",
       "likeCount       0\n",
       "quoteCount      0\n",
       "sourceLabel     0\n",
       "Searh           0\n",
       "dtype: int64"
      ]
     },
     "execution_count": 23,
     "metadata": {},
     "output_type": "execute_result"
    }
   ],
   "source": [
    "rt_col.isnull().sum().sort_values()"
   ]
  },
  {
   "cell_type": "markdown",
   "id": "da0addcd",
   "metadata": {},
   "source": [
    "##### Remove duplicates"
   ]
  },
  {
   "cell_type": "code",
   "execution_count": 24,
   "id": "b11a0142",
   "metadata": {},
   "outputs": [
    {
     "name": "stderr",
     "output_type": "stream",
     "text": [
      "C:\\Users\\Chelly Kearney\\AppData\\Local\\Temp\\ipykernel_792\\1324322048.py:1: SettingWithCopyWarning: \n",
      "A value is trying to be set on a copy of a slice from a DataFrame\n",
      "\n",
      "See the caveats in the documentation: https://pandas.pydata.org/pandas-docs/stable/user_guide/indexing.html#returning-a-view-versus-a-copy\n",
      "  rt_col.drop_duplicates(keep='first',inplace=True)\n"
     ]
    },
    {
     "data": {
      "text/plain": [
       "(126958, 8)"
      ]
     },
     "execution_count": 24,
     "metadata": {},
     "output_type": "execute_result"
    }
   ],
   "source": [
    "rt_col.drop_duplicates(keep='first',inplace=True)\n",
    "rt_col.shape"
   ]
  },
  {
   "cell_type": "markdown",
   "id": "d816f601",
   "metadata": {},
   "source": [
    "##### Minimize dataset size"
   ]
  },
  {
   "cell_type": "code",
   "execution_count": 25,
   "id": "aee49a58",
   "metadata": {},
   "outputs": [
    {
     "name": "stdout",
     "output_type": "stream",
     "text": [
      "<class 'pandas.core.frame.DataFrame'>\n",
      "Int64Index: 7000 entries, 30477 to 53386\n",
      "Data columns (total 8 columns):\n",
      " #   Column        Non-Null Count  Dtype \n",
      "---  ------        --------------  ----- \n",
      " 0   date          7000 non-null   object\n",
      " 1   content       7000 non-null   object\n",
      " 2   replyCount    7000 non-null   int64 \n",
      " 3   retweetCount  7000 non-null   int64 \n",
      " 4   likeCount     7000 non-null   int64 \n",
      " 5   quoteCount    7000 non-null   int64 \n",
      " 6   sourceLabel   7000 non-null   object\n",
      " 7   Searh         7000 non-null   object\n",
      "dtypes: int64(4), object(4)\n",
      "memory usage: 492.2+ KB\n"
     ]
    }
   ],
   "source": [
    "rt_final = rt_col.sample(n=7000, replace=False,random_state=42)\n",
    "rt_final.info()"
   ]
  },
  {
   "cell_type": "markdown",
   "id": "3cd0fce6",
   "metadata": {},
   "source": [
    "### Fifth File: 'Ukraine_border' dataset"
   ]
  },
  {
   "cell_type": "code",
   "execution_count": 26,
   "id": "f12d33a9",
   "metadata": {},
   "outputs": [],
   "source": [
    "ub = pd.read_csv('data/Ukraine_border.csv')"
   ]
  },
  {
   "cell_type": "markdown",
   "id": "087f7895",
   "metadata": {},
   "source": [
    "##### Select only English tweets"
   ]
  },
  {
   "cell_type": "code",
   "execution_count": 27,
   "id": "80a1d715",
   "metadata": {},
   "outputs": [
    {
     "name": "stdout",
     "output_type": "stream",
     "text": [
      "<class 'pandas.core.frame.DataFrame'>\n",
      "Int64Index: 164732 entries, 0 to 166609\n",
      "Data columns (total 29 columns):\n",
      " #   Column            Non-Null Count   Dtype  \n",
      "---  ------            --------------   -----  \n",
      " 0   _type             164732 non-null  object \n",
      " 1   url               164732 non-null  object \n",
      " 2   date              164732 non-null  object \n",
      " 3   content           164732 non-null  object \n",
      " 4   renderedContent   164732 non-null  object \n",
      " 5   id                164732 non-null  int64  \n",
      " 6   user              164732 non-null  object \n",
      " 7   replyCount        164732 non-null  int64  \n",
      " 8   retweetCount      164732 non-null  int64  \n",
      " 9   likeCount         164732 non-null  int64  \n",
      " 10  quoteCount        164732 non-null  int64  \n",
      " 11  conversationId    164732 non-null  int64  \n",
      " 12  lang              164732 non-null  object \n",
      " 13  source            164732 non-null  object \n",
      " 14  sourceUrl         164732 non-null  object \n",
      " 15  sourceLabel       164732 non-null  object \n",
      " 16  outlinks          54248 non-null   object \n",
      " 17  tcooutlinks       54248 non-null   object \n",
      " 18  media             21159 non-null   object \n",
      " 19  retweetedTweet    0 non-null       float64\n",
      " 20  quotedTweet       14034 non-null   object \n",
      " 21  inReplyToTweetId  69396 non-null   float64\n",
      " 22  inReplyToUser     69396 non-null   object \n",
      " 23  mentionedUsers    80093 non-null   object \n",
      " 24  coordinates       1955 non-null    object \n",
      " 25  place             1955 non-null    object \n",
      " 26  hashtags          30561 non-null   object \n",
      " 27  cashtags          349 non-null     object \n",
      " 28  Searh             164732 non-null  object \n",
      "dtypes: float64(2), int64(6), object(21)\n",
      "memory usage: 37.7+ MB\n"
     ]
    }
   ],
   "source": [
    "ub_en = ub[ub['lang']=='en']\n",
    "ub_en.info()"
   ]
  },
  {
   "cell_type": "markdown",
   "id": "8546c0ca",
   "metadata": {},
   "source": [
    "##### Remove non-applicable columns"
   ]
  },
  {
   "cell_type": "code",
   "execution_count": 28,
   "id": "937ec044",
   "metadata": {},
   "outputs": [
    {
     "data": {
      "text/plain": [
       "(164732, 8)"
      ]
     },
     "execution_count": 28,
     "metadata": {},
     "output_type": "execute_result"
    }
   ],
   "source": [
    "ub_col = ub_en[['date','content','replyCount','retweetCount','likeCount','quoteCount','sourceLabel', 'Searh']]\n",
    "ub_col.shape"
   ]
  },
  {
   "cell_type": "markdown",
   "id": "a4393578",
   "metadata": {},
   "source": [
    "##### Remove tweets with null values"
   ]
  },
  {
   "cell_type": "code",
   "execution_count": 29,
   "id": "ddc596e5",
   "metadata": {},
   "outputs": [
    {
     "data": {
      "text/plain": [
       "date            0\n",
       "content         0\n",
       "replyCount      0\n",
       "retweetCount    0\n",
       "likeCount       0\n",
       "quoteCount      0\n",
       "sourceLabel     0\n",
       "Searh           0\n",
       "dtype: int64"
      ]
     },
     "execution_count": 29,
     "metadata": {},
     "output_type": "execute_result"
    }
   ],
   "source": [
    "ub_col.isnull().sum().sort_values()"
   ]
  },
  {
   "cell_type": "markdown",
   "id": "1e4a0ff4",
   "metadata": {},
   "source": [
    "##### Drop duplicates"
   ]
  },
  {
   "cell_type": "code",
   "execution_count": 30,
   "id": "798d3a75",
   "metadata": {},
   "outputs": [
    {
     "name": "stderr",
     "output_type": "stream",
     "text": [
      "C:\\Users\\Chelly Kearney\\AppData\\Local\\Temp\\ipykernel_792\\843069091.py:1: SettingWithCopyWarning: \n",
      "A value is trying to be set on a copy of a slice from a DataFrame\n",
      "\n",
      "See the caveats in the documentation: https://pandas.pydata.org/pandas-docs/stable/user_guide/indexing.html#returning-a-view-versus-a-copy\n",
      "  ub_col.drop_duplicates(keep='first',inplace=True)\n"
     ]
    },
    {
     "data": {
      "text/plain": [
       "(160722, 8)"
      ]
     },
     "execution_count": 30,
     "metadata": {},
     "output_type": "execute_result"
    }
   ],
   "source": [
    "ub_col.drop_duplicates(keep='first',inplace=True)\n",
    "ub_col.shape"
   ]
  },
  {
   "cell_type": "markdown",
   "id": "c8f059c2",
   "metadata": {},
   "source": [
    "##### Minimize dataset size"
   ]
  },
  {
   "cell_type": "code",
   "execution_count": 31,
   "id": "10b11a16",
   "metadata": {},
   "outputs": [
    {
     "name": "stdout",
     "output_type": "stream",
     "text": [
      "<class 'pandas.core.frame.DataFrame'>\n",
      "Int64Index: 7000 entries, 3754 to 80199\n",
      "Data columns (total 8 columns):\n",
      " #   Column        Non-Null Count  Dtype \n",
      "---  ------        --------------  ----- \n",
      " 0   date          7000 non-null   object\n",
      " 1   content       7000 non-null   object\n",
      " 2   replyCount    7000 non-null   int64 \n",
      " 3   retweetCount  7000 non-null   int64 \n",
      " 4   likeCount     7000 non-null   int64 \n",
      " 5   quoteCount    7000 non-null   int64 \n",
      " 6   sourceLabel   7000 non-null   object\n",
      " 7   Searh         7000 non-null   object\n",
      "dtypes: int64(4), object(4)\n",
      "memory usage: 492.2+ KB\n"
     ]
    }
   ],
   "source": [
    "ub_final = ub_col.sample(n=7000, replace=False, random_state=42)\n",
    "ub_final.info()"
   ]
  },
  {
   "cell_type": "markdown",
   "id": "fe5010e0",
   "metadata": {},
   "source": [
    "### Sixth File: 'Ukraine_nato' dataset"
   ]
  },
  {
   "cell_type": "code",
   "execution_count": 32,
   "id": "62451a1e",
   "metadata": {},
   "outputs": [],
   "source": [
    "un = pd.read_csv('data/Ukraine_nato.csv')"
   ]
  },
  {
   "cell_type": "markdown",
   "id": "4475dcfd",
   "metadata": {},
   "source": [
    "##### Select only English tweets"
   ]
  },
  {
   "cell_type": "code",
   "execution_count": 33,
   "id": "b6872a0f",
   "metadata": {},
   "outputs": [
    {
     "name": "stdout",
     "output_type": "stream",
     "text": [
      "<class 'pandas.core.frame.DataFrame'>\n",
      "Int64Index: 217862 entries, 0 to 245231\n",
      "Data columns (total 29 columns):\n",
      " #   Column            Non-Null Count   Dtype  \n",
      "---  ------            --------------   -----  \n",
      " 0   _type             217862 non-null  object \n",
      " 1   url               217862 non-null  object \n",
      " 2   date              217862 non-null  object \n",
      " 3   content           217862 non-null  object \n",
      " 4   renderedContent   217862 non-null  object \n",
      " 5   id                217862 non-null  int64  \n",
      " 6   user              217862 non-null  object \n",
      " 7   replyCount        217862 non-null  int64  \n",
      " 8   retweetCount      217862 non-null  int64  \n",
      " 9   likeCount         217862 non-null  int64  \n",
      " 10  quoteCount        217862 non-null  int64  \n",
      " 11  conversationId    217862 non-null  int64  \n",
      " 12  lang              217862 non-null  object \n",
      " 13  source            217862 non-null  object \n",
      " 14  sourceUrl         217862 non-null  object \n",
      " 15  sourceLabel       217862 non-null  object \n",
      " 16  outlinks          62803 non-null   object \n",
      " 17  tcooutlinks       62803 non-null   object \n",
      " 18  media             18365 non-null   object \n",
      " 19  retweetedTweet    0 non-null       float64\n",
      " 20  quotedTweet       17891 non-null   object \n",
      " 21  inReplyToTweetId  119183 non-null  float64\n",
      " 22  inReplyToUser     119183 non-null  object \n",
      " 23  mentionedUsers    132111 non-null  object \n",
      " 24  coordinates       2421 non-null    object \n",
      " 25  place             2421 non-null    object \n",
      " 26  hashtags          40134 non-null   object \n",
      " 27  cashtags          223 non-null     object \n",
      " 28  Searh             217862 non-null  object \n",
      "dtypes: float64(2), int64(6), object(21)\n",
      "memory usage: 49.9+ MB\n"
     ]
    }
   ],
   "source": [
    "un_en = un[un['lang']=='en']\n",
    "un_en.info()"
   ]
  },
  {
   "cell_type": "markdown",
   "id": "22c89227",
   "metadata": {},
   "source": [
    "##### Remove non-applicable columns"
   ]
  },
  {
   "cell_type": "code",
   "execution_count": 34,
   "id": "1001fa15",
   "metadata": {},
   "outputs": [
    {
     "data": {
      "text/plain": [
       "(217862, 8)"
      ]
     },
     "execution_count": 34,
     "metadata": {},
     "output_type": "execute_result"
    }
   ],
   "source": [
    "un_col = un_en[['date','content','replyCount','retweetCount','likeCount','quoteCount','sourceLabel', 'Searh']]\n",
    "un_col.shape"
   ]
  },
  {
   "cell_type": "markdown",
   "id": "544f784d",
   "metadata": {},
   "source": [
    "##### Remove tweets with null values"
   ]
  },
  {
   "cell_type": "code",
   "execution_count": 35,
   "id": "e5c2be94",
   "metadata": {},
   "outputs": [
    {
     "data": {
      "text/plain": [
       "date            0\n",
       "content         0\n",
       "replyCount      0\n",
       "retweetCount    0\n",
       "likeCount       0\n",
       "quoteCount      0\n",
       "sourceLabel     0\n",
       "Searh           0\n",
       "dtype: int64"
      ]
     },
     "execution_count": 35,
     "metadata": {},
     "output_type": "execute_result"
    }
   ],
   "source": [
    "un_col.isnull().sum()"
   ]
  },
  {
   "cell_type": "markdown",
   "id": "17beb3e2",
   "metadata": {},
   "source": [
    "##### Drop duplicates"
   ]
  },
  {
   "cell_type": "code",
   "execution_count": 36,
   "id": "0b015f30",
   "metadata": {},
   "outputs": [
    {
     "name": "stderr",
     "output_type": "stream",
     "text": [
      "C:\\Users\\Chelly Kearney\\AppData\\Local\\Temp\\ipykernel_792\\4233076063.py:1: SettingWithCopyWarning: \n",
      "A value is trying to be set on a copy of a slice from a DataFrame\n",
      "\n",
      "See the caveats in the documentation: https://pandas.pydata.org/pandas-docs/stable/user_guide/indexing.html#returning-a-view-versus-a-copy\n",
      "  un_col.drop_duplicates(keep='first',inplace=True)\n"
     ]
    },
    {
     "data": {
      "text/plain": [
       "(217861, 8)"
      ]
     },
     "execution_count": 36,
     "metadata": {},
     "output_type": "execute_result"
    }
   ],
   "source": [
    "un_col.drop_duplicates(keep='first',inplace=True)\n",
    "un_col.shape"
   ]
  },
  {
   "cell_type": "markdown",
   "id": "fe6a318f",
   "metadata": {},
   "source": [
    "##### Minimize dataset size"
   ]
  },
  {
   "cell_type": "code",
   "execution_count": 37,
   "id": "d819f726",
   "metadata": {},
   "outputs": [
    {
     "name": "stdout",
     "output_type": "stream",
     "text": [
      "<class 'pandas.core.frame.DataFrame'>\n",
      "Int64Index: 7000 entries, 136362 to 236472\n",
      "Data columns (total 8 columns):\n",
      " #   Column        Non-Null Count  Dtype \n",
      "---  ------        --------------  ----- \n",
      " 0   date          7000 non-null   object\n",
      " 1   content       7000 non-null   object\n",
      " 2   replyCount    7000 non-null   int64 \n",
      " 3   retweetCount  7000 non-null   int64 \n",
      " 4   likeCount     7000 non-null   int64 \n",
      " 5   quoteCount    7000 non-null   int64 \n",
      " 6   sourceLabel   7000 non-null   object\n",
      " 7   Searh         7000 non-null   object\n",
      "dtypes: int64(4), object(4)\n",
      "memory usage: 492.2+ KB\n"
     ]
    }
   ],
   "source": [
    "un_final = un_col.sample(n=7000, replace='False',random_state=42)\n",
    "un_final.info()"
   ]
  },
  {
   "cell_type": "markdown",
   "id": "54bb2b0f",
   "metadata": {},
   "source": [
    "### Seventh File: 'Ukraine_troops' dataset"
   ]
  },
  {
   "cell_type": "code",
   "execution_count": 38,
   "id": "8611343a",
   "metadata": {},
   "outputs": [],
   "source": [
    "ut = pd.read_csv('data/Ukraine_troops.csv')"
   ]
  },
  {
   "cell_type": "markdown",
   "id": "f1e2fa21",
   "metadata": {},
   "source": [
    "##### Select only English tweets"
   ]
  },
  {
   "cell_type": "code",
   "execution_count": 39,
   "id": "cb1dd9c9",
   "metadata": {},
   "outputs": [
    {
     "name": "stdout",
     "output_type": "stream",
     "text": [
      "<class 'pandas.core.frame.DataFrame'>\n",
      "Int64Index: 171479 entries, 0 to 172713\n",
      "Data columns (total 29 columns):\n",
      " #   Column            Non-Null Count   Dtype  \n",
      "---  ------            --------------   -----  \n",
      " 0   _type             171479 non-null  object \n",
      " 1   url               171479 non-null  object \n",
      " 2   date              171479 non-null  object \n",
      " 3   content           171479 non-null  object \n",
      " 4   renderedContent   171479 non-null  object \n",
      " 5   id                171479 non-null  int64  \n",
      " 6   user              171479 non-null  object \n",
      " 7   replyCount        171479 non-null  int64  \n",
      " 8   retweetCount      171479 non-null  int64  \n",
      " 9   likeCount         171479 non-null  int64  \n",
      " 10  quoteCount        171479 non-null  int64  \n",
      " 11  conversationId    171479 non-null  int64  \n",
      " 12  lang              171479 non-null  object \n",
      " 13  source            171479 non-null  object \n",
      " 14  sourceUrl         171479 non-null  object \n",
      " 15  sourceLabel       171479 non-null  object \n",
      " 16  outlinks          66106 non-null   object \n",
      " 17  tcooutlinks       66106 non-null   object \n",
      " 18  media             17731 non-null   object \n",
      " 19  retweetedTweet    0 non-null       float64\n",
      " 20  quotedTweet       11566 non-null   object \n",
      " 21  inReplyToTweetId  69672 non-null   float64\n",
      " 22  inReplyToUser     69672 non-null   object \n",
      " 23  mentionedUsers    80410 non-null   object \n",
      " 24  coordinates       1839 non-null    object \n",
      " 25  place             1839 non-null    object \n",
      " 26  hashtags          30454 non-null   object \n",
      " 27  cashtags          391 non-null     object \n",
      " 28  Searh             171479 non-null  object \n",
      "dtypes: float64(2), int64(6), object(21)\n",
      "memory usage: 39.2+ MB\n"
     ]
    }
   ],
   "source": [
    "ut_en = ut[ut['lang']=='en']\n",
    "ut_en.info()"
   ]
  },
  {
   "cell_type": "markdown",
   "id": "8c940dcf",
   "metadata": {},
   "source": [
    "##### Remove non-applicable columns"
   ]
  },
  {
   "cell_type": "code",
   "execution_count": 40,
   "id": "213df692",
   "metadata": {},
   "outputs": [
    {
     "data": {
      "text/plain": [
       "(171479, 8)"
      ]
     },
     "execution_count": 40,
     "metadata": {},
     "output_type": "execute_result"
    }
   ],
   "source": [
    "ut_col = ut_en[['date','content','replyCount','retweetCount','likeCount','quoteCount','sourceLabel','Searh']]\n",
    "ut_col.shape"
   ]
  },
  {
   "cell_type": "markdown",
   "id": "a3896a38",
   "metadata": {},
   "source": [
    "##### Remove tweets with null values"
   ]
  },
  {
   "cell_type": "code",
   "execution_count": 41,
   "id": "58faed9c",
   "metadata": {},
   "outputs": [
    {
     "data": {
      "text/plain": [
       "date            0\n",
       "content         0\n",
       "replyCount      0\n",
       "retweetCount    0\n",
       "likeCount       0\n",
       "quoteCount      0\n",
       "sourceLabel     0\n",
       "Searh           0\n",
       "dtype: int64"
      ]
     },
     "execution_count": 41,
     "metadata": {},
     "output_type": "execute_result"
    }
   ],
   "source": [
    "ut_col.isnull().sum()"
   ]
  },
  {
   "cell_type": "markdown",
   "id": "4d9dfea4",
   "metadata": {},
   "source": [
    "##### Drop duplicates"
   ]
  },
  {
   "cell_type": "code",
   "execution_count": 42,
   "id": "2a3e2db3",
   "metadata": {},
   "outputs": [
    {
     "name": "stderr",
     "output_type": "stream",
     "text": [
      "C:\\Users\\Chelly Kearney\\AppData\\Local\\Temp\\ipykernel_792\\3116044860.py:1: SettingWithCopyWarning: \n",
      "A value is trying to be set on a copy of a slice from a DataFrame\n",
      "\n",
      "See the caveats in the documentation: https://pandas.pydata.org/pandas-docs/stable/user_guide/indexing.html#returning-a-view-versus-a-copy\n",
      "  ut_col.drop_duplicates(keep='first',inplace=True)\n"
     ]
    },
    {
     "data": {
      "text/plain": [
       "(171475, 8)"
      ]
     },
     "execution_count": 42,
     "metadata": {},
     "output_type": "execute_result"
    }
   ],
   "source": [
    "ut_col.drop_duplicates(keep='first',inplace=True)\n",
    "ut_col.shape"
   ]
  },
  {
   "cell_type": "markdown",
   "id": "f4bfb560",
   "metadata": {},
   "source": [
    "##### Minimize dataset size"
   ]
  },
  {
   "cell_type": "code",
   "execution_count": 43,
   "id": "b75c1569",
   "metadata": {},
   "outputs": [
    {
     "name": "stdout",
     "output_type": "stream",
     "text": [
      "<class 'pandas.core.frame.DataFrame'>\n",
      "Int64Index: 7000 entries, 139911 to 61158\n",
      "Data columns (total 8 columns):\n",
      " #   Column        Non-Null Count  Dtype \n",
      "---  ------        --------------  ----- \n",
      " 0   date          7000 non-null   object\n",
      " 1   content       7000 non-null   object\n",
      " 2   replyCount    7000 non-null   int64 \n",
      " 3   retweetCount  7000 non-null   int64 \n",
      " 4   likeCount     7000 non-null   int64 \n",
      " 5   quoteCount    7000 non-null   int64 \n",
      " 6   sourceLabel   7000 non-null   object\n",
      " 7   Searh         7000 non-null   object\n",
      "dtypes: int64(4), object(4)\n",
      "memory usage: 492.2+ KB\n"
     ]
    }
   ],
   "source": [
    "ut_final = ut_col.sample(n=7000, replace=False, random_state=42)\n",
    "ut_final.info()"
   ]
  },
  {
   "cell_type": "markdown",
   "id": "602218c0",
   "metadata": {},
   "source": [
    "### Eight File: 'Ukraine_war' dataset"
   ]
  },
  {
   "cell_type": "code",
   "execution_count": 44,
   "id": "ef162a4a",
   "metadata": {},
   "outputs": [],
   "source": [
    "uw = pd.read_csv('data/Ukraine_war.csv')"
   ]
  },
  {
   "cell_type": "markdown",
   "id": "de21a892",
   "metadata": {},
   "source": [
    "##### Select only English tweets"
   ]
  },
  {
   "cell_type": "code",
   "execution_count": 45,
   "id": "c0b8a81f",
   "metadata": {},
   "outputs": [
    {
     "name": "stdout",
     "output_type": "stream",
     "text": [
      "<class 'pandas.core.frame.DataFrame'>\n",
      "Int64Index: 219866 entries, 0 to 231623\n",
      "Data columns (total 29 columns):\n",
      " #   Column            Non-Null Count   Dtype  \n",
      "---  ------            --------------   -----  \n",
      " 0   _type             219866 non-null  object \n",
      " 1   url               219866 non-null  object \n",
      " 2   date              219866 non-null  object \n",
      " 3   content           219866 non-null  object \n",
      " 4   renderedContent   219866 non-null  object \n",
      " 5   id                219866 non-null  int64  \n",
      " 6   user              219866 non-null  object \n",
      " 7   replyCount        219866 non-null  int64  \n",
      " 8   retweetCount      219866 non-null  int64  \n",
      " 9   likeCount         219866 non-null  int64  \n",
      " 10  quoteCount        219866 non-null  int64  \n",
      " 11  conversationId    219866 non-null  int64  \n",
      " 12  lang              219866 non-null  object \n",
      " 13  source            219866 non-null  object \n",
      " 14  sourceUrl         219866 non-null  object \n",
      " 15  sourceLabel       219866 non-null  object \n",
      " 16  outlinks          72675 non-null   object \n",
      " 17  tcooutlinks       72675 non-null   object \n",
      " 18  media             19768 non-null   object \n",
      " 19  retweetedTweet    0 non-null       float64\n",
      " 20  quotedTweet       18122 non-null   object \n",
      " 21  inReplyToTweetId  101295 non-null  float64\n",
      " 22  inReplyToUser     101295 non-null  object \n",
      " 23  mentionedUsers    116020 non-null  object \n",
      " 24  coordinates       2677 non-null    object \n",
      " 25  place             2677 non-null    object \n",
      " 26  hashtags          39825 non-null   object \n",
      " 27  cashtags          666 non-null     object \n",
      " 28  Searh             219866 non-null  object \n",
      "dtypes: float64(2), int64(6), object(21)\n",
      "memory usage: 50.3+ MB\n"
     ]
    }
   ],
   "source": [
    "uw_en = uw[uw['lang']=='en']\n",
    "uw_en.info()"
   ]
  },
  {
   "cell_type": "markdown",
   "id": "488cf3c1",
   "metadata": {},
   "source": [
    "##### Remove non-applicable columns"
   ]
  },
  {
   "cell_type": "code",
   "execution_count": 46,
   "id": "1ef8c6ea",
   "metadata": {},
   "outputs": [
    {
     "data": {
      "text/plain": [
       "(219866, 8)"
      ]
     },
     "execution_count": 46,
     "metadata": {},
     "output_type": "execute_result"
    }
   ],
   "source": [
    "uw_col = uw_en[['date','content','replyCount','retweetCount','likeCount','quoteCount','sourceLabel', 'Searh']]\n",
    "uw_col.shape"
   ]
  },
  {
   "cell_type": "markdown",
   "id": "9fa5ea66",
   "metadata": {},
   "source": [
    "##### Remove tweets with null values"
   ]
  },
  {
   "cell_type": "code",
   "execution_count": 47,
   "id": "51e5f674",
   "metadata": {},
   "outputs": [
    {
     "data": {
      "text/plain": [
       "date            0\n",
       "content         0\n",
       "replyCount      0\n",
       "retweetCount    0\n",
       "likeCount       0\n",
       "quoteCount      0\n",
       "sourceLabel     0\n",
       "Searh           0\n",
       "dtype: int64"
      ]
     },
     "execution_count": 47,
     "metadata": {},
     "output_type": "execute_result"
    }
   ],
   "source": [
    "uw_col.isnull().sum()"
   ]
  },
  {
   "cell_type": "markdown",
   "id": "00890a63",
   "metadata": {},
   "source": [
    "##### Drop duplicates"
   ]
  },
  {
   "cell_type": "code",
   "execution_count": 48,
   "id": "eb49b404",
   "metadata": {},
   "outputs": [
    {
     "name": "stderr",
     "output_type": "stream",
     "text": [
      "C:\\Users\\Chelly Kearney\\AppData\\Local\\Temp\\ipykernel_792\\1879255539.py:1: SettingWithCopyWarning: \n",
      "A value is trying to be set on a copy of a slice from a DataFrame\n",
      "\n",
      "See the caveats in the documentation: https://pandas.pydata.org/pandas-docs/stable/user_guide/indexing.html#returning-a-view-versus-a-copy\n",
      "  uw_col.drop_duplicates(keep='first',inplace=True)\n"
     ]
    },
    {
     "data": {
      "text/plain": [
       "(219865, 8)"
      ]
     },
     "execution_count": 48,
     "metadata": {},
     "output_type": "execute_result"
    }
   ],
   "source": [
    "uw_col.drop_duplicates(keep='first',inplace=True)\n",
    "uw_col.shape"
   ]
  },
  {
   "cell_type": "markdown",
   "id": "571fe65c",
   "metadata": {},
   "source": [
    "##### Minimize dataset size"
   ]
  },
  {
   "cell_type": "code",
   "execution_count": 49,
   "id": "ff7f4650",
   "metadata": {},
   "outputs": [
    {
     "name": "stdout",
     "output_type": "stream",
     "text": [
      "<class 'pandas.core.frame.DataFrame'>\n",
      "Int64Index: 7000 entries, 28172 to 203655\n",
      "Data columns (total 8 columns):\n",
      " #   Column        Non-Null Count  Dtype \n",
      "---  ------        --------------  ----- \n",
      " 0   date          7000 non-null   object\n",
      " 1   content       7000 non-null   object\n",
      " 2   replyCount    7000 non-null   int64 \n",
      " 3   retweetCount  7000 non-null   int64 \n",
      " 4   likeCount     7000 non-null   int64 \n",
      " 5   quoteCount    7000 non-null   int64 \n",
      " 6   sourceLabel   7000 non-null   object\n",
      " 7   Searh         7000 non-null   object\n",
      "dtypes: int64(4), object(4)\n",
      "memory usage: 492.2+ KB\n"
     ]
    }
   ],
   "source": [
    "uw_final = uw_col.sample(n=7000, replace=False, random_state=42)\n",
    "uw_final.info()"
   ]
  },
  {
   "cell_type": "markdown",
   "id": "947e50c7",
   "metadata": {},
   "source": [
    "### Build the dataset by combining the eight files"
   ]
  },
  {
   "cell_type": "code",
   "execution_count": 50,
   "id": "6f0dae3b",
   "metadata": {},
   "outputs": [
    {
     "data": {
      "text/plain": [
       "(56000, 8)"
      ]
     },
     "execution_count": 50,
     "metadata": {},
     "output_type": "execute_result"
    }
   ],
   "source": [
    "files = [swu_final, ri_final, rbu_final, rt_final, ub_final, un_final, ut_final, uw_final]\n",
    "data = pd.concat(files)\n",
    "data.shape"
   ]
  },
  {
   "cell_type": "markdown",
   "id": "fe64ae85",
   "metadata": {},
   "source": [
    "### Remove time portion from the date-time column"
   ]
  },
  {
   "cell_type": "code",
   "execution_count": 51,
   "id": "a5bbe441",
   "metadata": {},
   "outputs": [
    {
     "data": {
      "text/plain": [
       "array(['2022-02-26', '2022-03-03', '2022-03-01', '2022-02-21',\n",
       "       '2022-02-27', '2022-02-23', '2022-01-24', '2022-03-02',\n",
       "       '2022-02-18', '2022-01-27', '2022-03-04', '2022-02-22',\n",
       "       '2022-02-25', '2022-02-28', '2022-02-24', '2022-03-05',\n",
       "       '2022-02-14', '2022-02-12', '2022-02-16', '2022-02-15',\n",
       "       '2022-01-22', '2022-01-30', '2022-02-19', '2022-01-25',\n",
       "       '2022-01-21', '2022-02-20', '2022-01-15', '2022-01-23',\n",
       "       '2022-02-11', '2022-01-26', '2022-02-13', '2022-02-02',\n",
       "       '2022-02-10', '2022-02-17', '2022-01-19', '2022-01-14',\n",
       "       '2022-02-09', '2022-01-28', '2022-02-03', '2022-02-08',\n",
       "       '2022-02-01', '2022-02-07', '2022-01-31', '2022-01-20',\n",
       "       '2022-02-05', '2022-01-18', '2022-02-04', '2022-02-06',\n",
       "       '2022-01-29', '2022-01-17', '2022-01-11', '2022-01-13',\n",
       "       '2022-01-06', '2022-01-12', '2022-01-10', '2022-01-07',\n",
       "       '2022-01-09', '2022-01-03', '2021-12-31', '2022-01-02',\n",
       "       '2022-01-16', '2022-01-04', '2022-01-05', '2022-01-01',\n",
       "       '2022-01-08'], dtype=object)"
      ]
     },
     "execution_count": 51,
     "metadata": {},
     "output_type": "execute_result"
    }
   ],
   "source": [
    "data['date'] = data.date.str.slice(0,10)\n",
    "data['date'].unique()"
   ]
  },
  {
   "cell_type": "markdown",
   "id": "919d0793",
   "metadata": {},
   "source": [
    "### Create features using Sentiment Analysis\n",
    "(Note this method follows [satyajit1910](https://www.geeksforgeeks.org/twitter-sentiment-analysis-on-russia-ukraine-war-using-python/))"
   ]
  },
  {
   "cell_type": "markdown",
   "id": "c66819da",
   "metadata": {},
   "source": [
    "##### Remove RT, punctuation, etc from tweet"
   ]
  },
  {
   "cell_type": "code",
   "execution_count": 52,
   "id": "38cf2b6d",
   "metadata": {},
   "outputs": [
    {
     "data": {
      "text/plain": [
       "78698     #CDU #Heuchelei - Hollow words instead of real...\n",
       "20118     @AfPalasciano Ordinary people had 20 years to ...\n",
       "41746     Honored to join my House Colleagues to #StandW...\n",
       "116235    THERE. ARE. NO. BREAKAWAY. REGIONS. \\nEASTERN ...\n",
       "73360     “The fight is here. I need ammunition, not a r...\n",
       "60311     I stand with Ukraine.@walterlekh @RealCynicalF...\n",
       "103798    @Menlu_RI @jokowi @mohmahfudmd I stand with Uk...\n",
       "143999    @AdamKinzinger Agree, @RepKinzinger \\n\\nPutin ...\n",
       "44713     Rubio, you REALLY NOT GOING TO THE #SOTU becau...\n",
       "46026     @TonyHussein4 When the USA had skirmishes in A...\n",
       "Name: content, dtype: object"
      ]
     },
     "execution_count": 52,
     "metadata": {},
     "output_type": "execute_result"
    }
   ],
   "source": [
    "# Examine tweets before cleaning\n",
    "data['content'][0:10]"
   ]
  },
  {
   "cell_type": "code",
   "execution_count": 53,
   "id": "96faa716",
   "metadata": {},
   "outputs": [],
   "source": [
    "def remove_rt(x): return re.sub('RT @\\w+: ', \" \", x)\n",
    " \n",
    "def rt(x): return re.sub(\n",
    "    \"(@[A-Za-z0-9]+)|([^0-9A-Za-z \\t])|(\\w+:\\/\\/\\S+)\", \" \", x)\n",
    "\n",
    "data[\"content\"] = data.content.map(remove_rt).map(rt)\n",
    "data[\"content\"] = data.content.str.lower()"
   ]
  },
  {
   "cell_type": "code",
   "execution_count": 54,
   "id": "cdcb5257",
   "metadata": {},
   "outputs": [
    {
     "data": {
      "text/plain": [
       "78698      cdu  heuchelei   hollow words instead of real...\n",
       "20118       ordinary people had 20 years to kick this wa...\n",
       "41746     honored to join my house colleagues to  standw...\n",
       "116235    there  are  no  breakaway  regions   eastern u...\n",
       "73360      the fight is here  i need ammunition  not a r...\n",
       "60311              i stand with ukraine                    \n",
       "103798                     ri     i stand with ukraine     \n",
       "143999      agree      putin already got away with a de ...\n",
       "44713     rubio  you really not going to the  sotu becau...\n",
       "46026       when the usa had skirmishes in afghanistan  ...\n",
       "Name: content, dtype: object"
      ]
     },
     "execution_count": 54,
     "metadata": {},
     "output_type": "execute_result"
    }
   ],
   "source": [
    "# Examine tweets after cleaning\n",
    "data['content'][0:10]"
   ]
  },
  {
   "cell_type": "markdown",
   "id": "e77b0e22",
   "metadata": {},
   "source": [
    "##### Perform Sentiment Analysis using TextBlob library - add feature column classifying each tweet by 'sentiment'"
   ]
  },
  {
   "cell_type": "code",
   "execution_count": 55,
   "id": "bff7f87e",
   "metadata": {},
   "outputs": [
    {
     "data": {
      "text/html": [
       "<div>\n",
       "<style scoped>\n",
       "    .dataframe tbody tr th:only-of-type {\n",
       "        vertical-align: middle;\n",
       "    }\n",
       "\n",
       "    .dataframe tbody tr th {\n",
       "        vertical-align: top;\n",
       "    }\n",
       "\n",
       "    .dataframe thead th {\n",
       "        text-align: right;\n",
       "    }\n",
       "</style>\n",
       "<table border=\"1\" class=\"dataframe\">\n",
       "  <thead>\n",
       "    <tr style=\"text-align: right;\">\n",
       "      <th></th>\n",
       "      <th>content</th>\n",
       "      <th>sentiment</th>\n",
       "      <th>polarity</th>\n",
       "      <th>subjectivity</th>\n",
       "      <th>neg</th>\n",
       "      <th>neu</th>\n",
       "      <th>pos</th>\n",
       "    </tr>\n",
       "  </thead>\n",
       "  <tbody>\n",
       "    <tr>\n",
       "      <th>78698</th>\n",
       "      <td>cdu  heuchelei   hollow words instead of real...</td>\n",
       "      <td>positive</td>\n",
       "      <td>0.100000</td>\n",
       "      <td>0.1900</td>\n",
       "      <td>0.000</td>\n",
       "      <td>0.881</td>\n",
       "      <td>0.119</td>\n",
       "    </tr>\n",
       "    <tr>\n",
       "      <th>20118</th>\n",
       "      <td>ordinary people had 20 years to kick this wa...</td>\n",
       "      <td>negative</td>\n",
       "      <td>-0.128409</td>\n",
       "      <td>0.4125</td>\n",
       "      <td>0.000</td>\n",
       "      <td>1.000</td>\n",
       "      <td>0.000</td>\n",
       "    </tr>\n",
       "    <tr>\n",
       "      <th>41746</th>\n",
       "      <td>honored to join my house colleagues to  standw...</td>\n",
       "      <td>positive</td>\n",
       "      <td>0.000000</td>\n",
       "      <td>0.0000</td>\n",
       "      <td>0.000</td>\n",
       "      <td>0.500</td>\n",
       "      <td>0.500</td>\n",
       "    </tr>\n",
       "    <tr>\n",
       "      <th>116235</th>\n",
       "      <td>there  are  no  breakaway  regions   eastern u...</td>\n",
       "      <td>negative</td>\n",
       "      <td>0.000000</td>\n",
       "      <td>0.0000</td>\n",
       "      <td>0.145</td>\n",
       "      <td>0.855</td>\n",
       "      <td>0.000</td>\n",
       "    </tr>\n",
       "    <tr>\n",
       "      <th>73360</th>\n",
       "      <td>the fight is here  i need ammunition  not a r...</td>\n",
       "      <td>negative</td>\n",
       "      <td>0.000000</td>\n",
       "      <td>0.0000</td>\n",
       "      <td>0.126</td>\n",
       "      <td>0.784</td>\n",
       "      <td>0.089</td>\n",
       "    </tr>\n",
       "  </tbody>\n",
       "</table>\n",
       "</div>"
      ],
      "text/plain": [
       "                                                  content sentiment  polarity  \\\n",
       "78698    cdu  heuchelei   hollow words instead of real...  positive  0.100000   \n",
       "20118     ordinary people had 20 years to kick this wa...  negative -0.128409   \n",
       "41746   honored to join my house colleagues to  standw...  positive  0.000000   \n",
       "116235  there  are  no  breakaway  regions   eastern u...  negative  0.000000   \n",
       "73360    the fight is here  i need ammunition  not a r...  negative  0.000000   \n",
       "\n",
       "        subjectivity    neg    neu    pos  \n",
       "78698         0.1900  0.000  0.881  0.119  \n",
       "20118         0.4125  0.000  1.000  0.000  \n",
       "41746         0.0000  0.000  0.500  0.500  \n",
       "116235        0.0000  0.145  0.855  0.000  \n",
       "73360         0.0000  0.126  0.784  0.089  "
      ]
     },
     "execution_count": 55,
     "metadata": {},
     "output_type": "execute_result"
    }
   ],
   "source": [
    "data[['polarity', 'subjectivity']] = data['content'].apply(\n",
    "    lambda Text: pd.Series(TextBlob(Text).sentiment))\n",
    " \n",
    "for index, row in data['content'].iteritems():\n",
    "    score = SentimentIntensityAnalyzer().polarity_scores(row)\n",
    "    neg = score['neg']\n",
    "    neu = score['neu']\n",
    "    pos = score['pos']\n",
    "    comp = score['compound']\n",
    "     \n",
    "    if pos > neg:\n",
    "        data.loc[index, 'sentiment'] = \"positive\"\n",
    "    else:\n",
    "        data.loc[index, 'sentiment'] = \"negative\"\n",
    "         \n",
    "    data.loc[index, 'neg'] = neg\n",
    "    data.loc[index, 'neu'] = neu\n",
    "    data.loc[index, 'pos'] = pos\n",
    "    data.loc[index, 'compound'] = comp\n",
    "\n",
    "data[[\"content\", \"sentiment\", \"polarity\",\"subjectivity\", \"neg\", \"neu\", \"pos\"]].head(5)  "
   ]
  },
  {
   "cell_type": "markdown",
   "id": "b731701b",
   "metadata": {},
   "source": [
    "##### Visualize the Results"
   ]
  },
  {
   "cell_type": "code",
   "execution_count": 56,
   "id": "fbcb3f59",
   "metadata": {},
   "outputs": [
    {
     "data": {
      "image/png": "[encoded data removed]",
      "text/plain": [
       "<Figure size 640x480 with 1 Axes>"
      ]
     },
     "metadata": {},
     "output_type": "display_data"
    },
    {
     "data": {
      "text/plain": [
       "<Figure size 640x480 with 0 Axes>"
      ]
     },
     "metadata": {},
     "output_type": "display_data"
    }
   ],
   "source": [
    "total_pos = len(data.loc[data['sentiment']=='positive'])\n",
    "total_neg = len(data.loc[data['sentiment']=='negative'])\n",
    "total_tweets = len(data)\n",
    "pie_data = [total_pos/total_tweets, total_neg/total_tweets]\n",
    "keys = ['Pro-Ukraine', 'Other']\n",
    "mycolors = ['royalblue','khaki']\n",
    "plt.pie(pie_data, labels=keys, colors=mycolors, autopct='%.0f%%')\n",
    "plt.title('Classification of Tweets by Sentiment')\n",
    "plt.show()\n",
    "plt.savefig('images/pie_tweets');"
   ]
  },
  {
   "cell_type": "code",
   "execution_count": 57,
   "id": "f35c3362",
   "metadata": {},
   "outputs": [
    {
     "data": {
      "text/plain": [
       "array(['StandWithUkraine', 'Russia invade', 'Russian border Ukraine',\n",
       "       'Russian troops', 'Ukraine border', 'Ukraine NATO',\n",
       "       'Ukraine troops', 'Ukraine war'], dtype=object)"
      ]
     },
     "execution_count": 57,
     "metadata": {},
     "output_type": "execute_result"
    }
   ],
   "source": [
    "data['Searh'].unique()"
   ]
  },
  {
   "cell_type": "code",
   "execution_count": 58,
   "id": "eb4c02ba",
   "metadata": {},
   "outputs": [
    {
     "data": {
      "image/png": "[encoded data removed]",
      "text/plain": [
       "<Figure size 640x480 with 1 Axes>"
      ]
     },
     "metadata": {},
     "output_type": "display_data"
    }
   ],
   "source": [
    "pos_sent = data[data['sentiment']=='positive']\n",
    "total_sent = len(pos_sent)\n",
    "swu_pos = len(pos_sent.loc[pos_sent['Searh']=='StandWithUkraine'])\n",
    "ri_pos = len(pos_sent.loc[pos_sent['Searh']=='Russia invade'])\n",
    "rbu_pos = len(pos_sent.loc[pos_sent['Searh']=='Russian border Ukraine'])\n",
    "rt_pos = len(pos_sent.loc[pos_sent['Searh']=='Russian troops'])\n",
    "ub_pos = len(pos_sent.loc[pos_sent['Searh']=='Ukraine border'])\n",
    "un_pos = len(pos_sent.loc[pos_sent['Searh']=='Ukraine NATO'])\n",
    "ut_pos = len(pos_sent.loc[pos_sent['Searh']=='Ukraine troops'])\n",
    "uw_pos = len(pos_sent.loc[pos_sent['Searh']=='Ukraine war'])\n",
    "pie_data2 = [swu_pos/total_sent, ri_pos/total_sent, rbu_pos/total_sent, rt_pos/total_sent, ub_pos/total_sent,\n",
    "            un_pos/total_sent, ut_pos/total_sent, uw_pos/total_sent]\n",
    "\n",
    "keys = ['StandWithUkraine', 'RussiaInvade', 'RussianBorderUkraine', 'RussianTroops', 'UkraineBorder','UkraineNATO',\n",
    "       'UkrainTroops','UkraineWar']\n",
    "plt.pie(pie_data2, labels=keys, autopct='%.0f%%')\n",
    "plt.title('Pro-Ukrainian Tweets by HashTag')\n",
    "plt.show()"
   ]
  },
  {
   "cell_type": "markdown",
   "id": "d5c7b158",
   "metadata": {},
   "source": [
    "##### Evaluate sentiment analysis\n",
    "Randomly select 100 tweets, manually classify and compare to results."
   ]
  },
  {
   "cell_type": "code",
   "execution_count": 59,
   "id": "fc5df44f",
   "metadata": {},
   "outputs": [],
   "source": [
    "eval = data.sample(100)\n",
    "eval.to_csv('eval.csv')"
   ]
  },
  {
   "cell_type": "code",
   "execution_count": 60,
   "id": "71163df5",
   "metadata": {},
   "outputs": [],
   "source": [
    "eval = pd.read_csv('eval.csv')"
   ]
  },
  {
   "cell_type": "code",
   "execution_count": 62,
   "id": "3fd201ea",
   "metadata": {},
   "outputs": [],
   "source": [
    "# eval['eval'].value_counts()"
   ]
  },
  {
   "cell_type": "code",
   "execution_count": null,
   "id": "75af40a4",
   "metadata": {},
   "outputs": [],
   "source": [
    "eval['match'] = np.where((eval['eval']==eval['sentiment']),1, 0)\n",
    "eval['match'].value_counts()"
   ]
  },
  {
   "cell_type": "markdown",
   "id": "64b731da",
   "metadata": {},
   "source": [
    "### Explore other features"
   ]
  },
  {
   "cell_type": "code",
   "execution_count": 63,
   "id": "660eadee",
   "metadata": {},
   "outputs": [
    {
     "name": "stderr",
     "output_type": "stream",
     "text": [
      "C:\\Users\\Chelly Kearney\\AppData\\Local\\Temp\\ipykernel_792\\235230994.py:3: SettingWithCopyWarning: \n",
      "A value is trying to be set on a copy of a slice from a DataFrame.\n",
      "Try using .loc[row_indexer,col_indexer] = value instead\n",
      "\n",
      "See the caveats in the documentation: https://pandas.pydata.org/pandas-docs/stable/user_guide/indexing.html#returning-a-view-versus-a-copy\n",
      "  date['date'] = pd.to_datetime(date['date'], format ='%Y-%m-%d')\n"
     ]
    }
   ],
   "source": [
    "# Convert date to datetime\n",
    "date = data[['date','sentiment']]\n",
    "date['date'] = pd.to_datetime(date['date'], format ='%Y-%m-%d')"
   ]
  },
  {
   "cell_type": "code",
   "execution_count": 64,
   "id": "aafedcfb",
   "metadata": {},
   "outputs": [
    {
     "name": "stdout",
     "output_type": "stream",
     "text": [
      "<class 'pandas.core.frame.DataFrame'>\n",
      "Int64Index: 56000 entries, 78698 to 203655\n",
      "Data columns (total 2 columns):\n",
      " #   Column     Non-Null Count  Dtype         \n",
      "---  ------     --------------  -----         \n",
      " 0   date       56000 non-null  datetime64[ns]\n",
      " 1   sentiment  56000 non-null  object        \n",
      "dtypes: datetime64[ns](1), object(1)\n",
      "memory usage: 3.3+ MB\n"
     ]
    },
    {
     "data": {
      "text/html": [
       "<div>\n",
       "<style scoped>\n",
       "    .dataframe tbody tr th:only-of-type {\n",
       "        vertical-align: middle;\n",
       "    }\n",
       "\n",
       "    .dataframe tbody tr th {\n",
       "        vertical-align: top;\n",
       "    }\n",
       "\n",
       "    .dataframe thead th {\n",
       "        text-align: right;\n",
       "    }\n",
       "</style>\n",
       "<table border=\"1\" class=\"dataframe\">\n",
       "  <thead>\n",
       "    <tr style=\"text-align: right;\">\n",
       "      <th></th>\n",
       "      <th>date</th>\n",
       "      <th>sentiment</th>\n",
       "    </tr>\n",
       "  </thead>\n",
       "  <tbody>\n",
       "    <tr>\n",
       "      <th>78698</th>\n",
       "      <td>2022-02-26</td>\n",
       "      <td>positive</td>\n",
       "    </tr>\n",
       "    <tr>\n",
       "      <th>20118</th>\n",
       "      <td>2022-03-03</td>\n",
       "      <td>negative</td>\n",
       "    </tr>\n",
       "    <tr>\n",
       "      <th>41746</th>\n",
       "      <td>2022-03-01</td>\n",
       "      <td>positive</td>\n",
       "    </tr>\n",
       "    <tr>\n",
       "      <th>116235</th>\n",
       "      <td>2022-02-21</td>\n",
       "      <td>negative</td>\n",
       "    </tr>\n",
       "    <tr>\n",
       "      <th>73360</th>\n",
       "      <td>2022-02-26</td>\n",
       "      <td>negative</td>\n",
       "    </tr>\n",
       "  </tbody>\n",
       "</table>\n",
       "</div>"
      ],
      "text/plain": [
       "             date sentiment\n",
       "78698  2022-02-26  positive\n",
       "20118  2022-03-03  negative\n",
       "41746  2022-03-01  positive\n",
       "116235 2022-02-21  negative\n",
       "73360  2022-02-26  negative"
      ]
     },
     "execution_count": 64,
     "metadata": {},
     "output_type": "execute_result"
    }
   ],
   "source": [
    "date.info()\n",
    "date.head()"
   ]
  },
  {
   "cell_type": "code",
   "execution_count": 65,
   "id": "d8c8ac34",
   "metadata": {},
   "outputs": [
    {
     "data": {
      "image/png": "[encoded data removed]",
      "text/plain": [
       "<Figure size 640x480 with 1 Axes>"
      ]
     },
     "metadata": {},
     "output_type": "display_data"
    }
   ],
   "source": [
    "# date\n",
    "\n",
    "sns.countplot(x = 'date', data=date, hue='sentiment')\n",
    "plt.title('Sentiment by Date')\n",
    "plt.xticks(visible=False)\n",
    "plt.xlabel('January 1, 2022 to March 6, 2022')\n",
    "plt.legend(['Pro-Ukraine','Other'])\n",
    "plt.show();"
   ]
  },
  {
   "cell_type": "code",
   "execution_count": 66,
   "id": "dfc451fb",
   "metadata": {},
   "outputs": [
    {
     "data": {
      "image/png": "[encoded data removed]",
      "text/plain": [
       "<Figure size 640x480 with 1 Axes>"
      ]
     },
     "metadata": {},
     "output_type": "display_data"
    }
   ],
   "source": [
    "# reply count\n",
    "sns.boxplot(x='sentiment', y='replyCount', data=data)\n",
    "plt.ylim(0,25)\n",
    "plt.title('Number of Replies for Negative and Positive Tweets');"
   ]
  },
  {
   "cell_type": "code",
   "execution_count": 67,
   "id": "9f874686",
   "metadata": {},
   "outputs": [
    {
     "data": {
      "image/png": "[encoded data removed]",
      "text/plain": [
       "<Figure size 640x480 with 1 Axes>"
      ]
     },
     "metadata": {},
     "output_type": "display_data"
    }
   ],
   "source": [
    "# retweet count\n",
    "sns.boxplot(x='sentiment', y='retweetCount', data=data)\n",
    "plt.ylim(0,25)\n",
    "plt.title('Number of Retweets for Negative and Positive Tweets');"
   ]
  },
  {
   "cell_type": "code",
   "execution_count": 68,
   "id": "5e52d333",
   "metadata": {},
   "outputs": [
    {
     "data": {
      "image/png": "[encoded data removed]",
      "text/plain": [
       "<Figure size 640x480 with 1 Axes>"
      ]
     },
     "metadata": {},
     "output_type": "display_data"
    }
   ],
   "source": [
    "# like count\n",
    "sns.boxplot(x='sentiment', y='likeCount', data=data)\n",
    "plt.ylim(0,25)\n",
    "plt.title('Number of Likes for Negative and Positive Tweets');"
   ]
  },
  {
   "cell_type": "code",
   "execution_count": 69,
   "id": "dcaa4080",
   "metadata": {},
   "outputs": [
    {
     "data": {
      "image/png": "[encoded data removed]",
      "text/plain": [
       "<Figure size 640x480 with 1 Axes>"
      ]
     },
     "metadata": {},
     "output_type": "display_data"
    }
   ],
   "source": [
    "# quote count\n",
    "sns.boxplot(x='sentiment', y='quoteCount', data=data)\n",
    "plt.ylim(0,5)\n",
    "plt.title('Number of Quotes for Negative and Positive Tweets');"
   ]
  },
  {
   "cell_type": "code",
   "execution_count": 70,
   "id": "3fdf36b3",
   "metadata": {},
   "outputs": [
    {
     "data": {
      "text/plain": [
       "Twitter Web App          19853\n",
       "Twitter for iPhone       14849\n",
       "Twitter for Android      13031\n",
       "Twitter for iPad          1950\n",
       "WordPress.com             1078\n",
       "                         ...  \n",
       "Nintendo Switch Share        1\n",
       "Flashcrunch                  1\n",
       "STCK.PR0                     1\n",
       "Postfity.com                 1\n",
       "Rojname News                 1\n",
       "Name: sourceLabel, Length: 493, dtype: int64"
      ]
     },
     "execution_count": 70,
     "metadata": {},
     "output_type": "execute_result"
    }
   ],
   "source": [
    "# SourceLabel\n",
    "data['sourceLabel'].value_counts()"
   ]
  },
  {
   "cell_type": "code",
   "execution_count": 71,
   "id": "e8aa835d",
   "metadata": {},
   "outputs": [
    {
     "data": {
      "text/plain": [
       "Twitter Web App        19853\n",
       "Twitter for iPhone     14849\n",
       "Twitter for Android    13031\n",
       "Twitter for iPad        1950\n",
       "TweetDeck                927\n",
       "Name: sourceLabel, dtype: int64"
      ]
     },
     "execution_count": 71,
     "metadata": {},
     "output_type": "execute_result"
    }
   ],
   "source": [
    "# elminate tweets with only 1 unique value\n",
    "list = ['Twitter Web App', 'Twitter for iPhone', 'Twitter for Android', 'Twitter for iPad', 'TweetDeck']\n",
    "data_pp = data[data['sourceLabel'].isin(list)]\n",
    "data_pp['sourceLabel'].value_counts()"
   ]
  },
  {
   "cell_type": "code",
   "execution_count": 72,
   "id": "d9e08a56",
   "metadata": {},
   "outputs": [
    {
     "data": {
      "image/png": "[encoded data removed]",
      "text/plain": [
       "<Figure size 640x480 with 1 Axes>"
      ]
     },
     "metadata": {},
     "output_type": "display_data"
    }
   ],
   "source": [
    "sns.countplot(x='sourceLabel', data=data_pp, hue = 'sentiment')\n",
    "plt.xticks(rotation=90)\n",
    "plt.xlabel('Source')\n",
    "plt.title('Comparison of Sentiment by Source')\n",
    "plt.legend(['Pro-Ukraine', 'Other'])\n",
    "plt.savefig('images\\source.png',bbox_inches='tight');"
   ]
  },
  {
   "cell_type": "markdown",
   "id": "ab5b270b",
   "metadata": {},
   "source": [
    "## Modeling"
   ]
  },
  {
   "cell_type": "markdown",
   "id": "e9493213",
   "metadata": {},
   "source": [
    "### Build training and test sets\n",
    "* Eliminate hashtag - still needs preprocessing\n",
    "* Elminate quoteCount - zero for both sentiments, useless"
   ]
  },
  {
   "cell_type": "code",
   "execution_count": 73,
   "id": "78b56e15",
   "metadata": {},
   "outputs": [],
   "source": [
    "X = data_pp[['date','replyCount','retweetCount', 'likeCount', 'sourceLabel', 'Searh']]\n",
    "y = data_pp['sentiment']"
   ]
  },
  {
   "cell_type": "code",
   "execution_count": 74,
   "id": "eb8a6985",
   "metadata": {},
   "outputs": [],
   "source": [
    "X_train,X_test,y_train,y_test = train_test_split(X,y,random_state=42, stratify=y)"
   ]
  },
  {
   "cell_type": "markdown",
   "id": "50cf0863",
   "metadata": {},
   "source": [
    "### Build a Baseline Model"
   ]
  },
  {
   "cell_type": "code",
   "execution_count": 75,
   "id": "116ff5e0",
   "metadata": {},
   "outputs": [
    {
     "data": {
      "text/plain": [
       "negative    0.675571\n",
       "positive    0.324429\n",
       "Name: sentiment, dtype: float64"
      ]
     },
     "execution_count": 75,
     "metadata": {},
     "output_type": "execute_result"
    }
   ],
   "source": [
    "y_test.value_counts(normalize=True)"
   ]
  },
  {
   "cell_type": "markdown",
   "id": "e5de2e3e",
   "metadata": {},
   "source": [
    "### Make a Column Transformer"
   ]
  },
  {
   "cell_type": "code",
   "execution_count": 76,
   "id": "92230c72",
   "metadata": {},
   "outputs": [],
   "source": [
    "# Convert oject columns to a numeric value\n",
    "# Scale the numeric column\n",
    "selector = make_column_selector(dtype_include=object)    # Select the object categories\n",
    "transformer = make_column_transformer((OneHotEncoder(),selector), remainder=StandardScaler())"
   ]
  },
  {
   "cell_type": "markdown",
   "id": "1394bf21",
   "metadata": {},
   "source": [
    "### Classification Model Using Logistic Regression"
   ]
  },
  {
   "cell_type": "code",
   "execution_count": 77,
   "id": "cebb92bd",
   "metadata": {},
   "outputs": [],
   "source": [
    "lr_pipe = Pipeline([\n",
    "    ('transform', transformer),\n",
    "    ('lr', LogisticRegression(max_iter = 10000, random_state=42))\n",
    "]).fit(X_train,y_train)"
   ]
  },
  {
   "cell_type": "code",
   "execution_count": 78,
   "id": "891589b5",
   "metadata": {},
   "outputs": [
    {
     "name": "stdout",
     "output_type": "stream",
     "text": [
      "0.6758173722896962 0.6756500434679522\n"
     ]
    }
   ],
   "source": [
    "lr_train_acc = lr_pipe.score(X_train,y_train)\n",
    "lr_test_acc = lr_pipe.score(X_test,y_test)\n",
    "print(lr_train_acc,lr_test_acc)"
   ]
  },
  {
   "cell_type": "code",
   "execution_count": 79,
   "id": "84e2fac9",
   "metadata": {},
   "outputs": [
    {
     "data": {
      "text/plain": [
       "{'extractor__max_features': 20}"
      ]
     },
     "execution_count": 79,
     "metadata": {},
     "output_type": "execute_result"
    }
   ],
   "source": [
    "# Grid search to optimize LR\n",
    "lr_params = {'extractor__max_features':[1,15,20,25,30,None]}\n",
    "extractor = SelectFromModel(LogisticRegression(penalty='l1',solver='liblinear',random_state=42))\n",
    "lr_pipe = Pipeline([\n",
    "    ('transform', transformer),\n",
    "    ('extractor', extractor),\n",
    "    ('lr', LogisticRegression(max_iter = 10000, random_state=42))\n",
    "])\n",
    "lr_grid = GridSearchCV(lr_pipe,param_grid=lr_params).fit(X_train,y_train)\n",
    "lr_grid.best_params_"
   ]
  },
  {
   "cell_type": "code",
   "execution_count": 80,
   "id": "62e1bebd",
   "metadata": {},
   "outputs": [
    {
     "name": "stdout",
     "output_type": "stream",
     "text": [
      "0.6756066074768817 0.6755710108274717\n"
     ]
    }
   ],
   "source": [
    "# Optimum number of features = 20, run model with 20 features\n",
    "extractor = SelectFromModel(LogisticRegression(penalty='l1',solver='liblinear',random_state=42), max_features=20)\n",
    "lr_pipe = Pipeline([\n",
    "    ('transform', transformer),\n",
    "    ('extractor', extractor),\n",
    "    ('lr', LogisticRegression(max_iter = 10000, random_state=42))\n",
    "]).fit(X_train,y_train)\n",
    "lr_train_acc = lr_pipe.score(X_train,y_train)\n",
    "lr_test_acc = lr_pipe.score(X_test,y_test)\n",
    "print(lr_train_acc,lr_test_acc)"
   ]
  },
  {
   "cell_type": "code",
   "execution_count": 81,
   "id": "c4122d40",
   "metadata": {},
   "outputs": [
    {
     "data": {
      "text/html": [
       "<div>\n",
       "<style scoped>\n",
       "    .dataframe tbody tr th:only-of-type {\n",
       "        vertical-align: middle;\n",
       "    }\n",
       "\n",
       "    .dataframe tbody tr th {\n",
       "        vertical-align: top;\n",
       "    }\n",
       "\n",
       "    .dataframe thead th {\n",
       "        text-align: right;\n",
       "    }\n",
       "</style>\n",
       "<table border=\"1\" class=\"dataframe\">\n",
       "  <thead>\n",
       "    <tr style=\"text-align: right;\">\n",
       "      <th></th>\n",
       "      <th>feature</th>\n",
       "      <th>coefs</th>\n",
       "    </tr>\n",
       "  </thead>\n",
       "  <tbody>\n",
       "    <tr>\n",
       "      <th>1</th>\n",
       "      <td>date_2022-01-04</td>\n",
       "      <td>0.429925</td>\n",
       "    </tr>\n",
       "    <tr>\n",
       "      <th>3</th>\n",
       "      <td>date_2022-01-09</td>\n",
       "      <td>0.331992</td>\n",
       "    </tr>\n",
       "    <tr>\n",
       "      <th>4</th>\n",
       "      <td>date_2022-01-12</td>\n",
       "      <td>0.280953</td>\n",
       "    </tr>\n",
       "    <tr>\n",
       "      <th>0</th>\n",
       "      <td>date_2022-01-02</td>\n",
       "      <td>0.278580</td>\n",
       "    </tr>\n",
       "    <tr>\n",
       "      <th>8</th>\n",
       "      <td>date_2022-01-28</td>\n",
       "      <td>0.267496</td>\n",
       "    </tr>\n",
       "    <tr>\n",
       "      <th>9</th>\n",
       "      <td>date_2022-01-30</td>\n",
       "      <td>0.205849</td>\n",
       "    </tr>\n",
       "    <tr>\n",
       "      <th>15</th>\n",
       "      <td>date_2022-02-15</td>\n",
       "      <td>0.201284</td>\n",
       "    </tr>\n",
       "    <tr>\n",
       "      <th>13</th>\n",
       "      <td>date_2022-02-09</td>\n",
       "      <td>0.193377</td>\n",
       "    </tr>\n",
       "    <tr>\n",
       "      <th>7</th>\n",
       "      <td>date_2022-01-22</td>\n",
       "      <td>-0.157588</td>\n",
       "    </tr>\n",
       "    <tr>\n",
       "      <th>11</th>\n",
       "      <td>date_2022-02-03</td>\n",
       "      <td>-0.211039</td>\n",
       "    </tr>\n",
       "    <tr>\n",
       "      <th>18</th>\n",
       "      <td>Searh_Russian troops</td>\n",
       "      <td>-0.217294</td>\n",
       "    </tr>\n",
       "    <tr>\n",
       "      <th>16</th>\n",
       "      <td>sourceLabel_TweetDeck</td>\n",
       "      <td>-0.221933</td>\n",
       "    </tr>\n",
       "    <tr>\n",
       "      <th>12</th>\n",
       "      <td>date_2022-02-08</td>\n",
       "      <td>-0.231630</td>\n",
       "    </tr>\n",
       "    <tr>\n",
       "      <th>2</th>\n",
       "      <td>date_2022-01-06</td>\n",
       "      <td>-0.236212</td>\n",
       "    </tr>\n",
       "    <tr>\n",
       "      <th>10</th>\n",
       "      <td>date_2022-02-02</td>\n",
       "      <td>-0.242171</td>\n",
       "    </tr>\n",
       "    <tr>\n",
       "      <th>17</th>\n",
       "      <td>Searh_Russian border Ukraine</td>\n",
       "      <td>-0.249517</td>\n",
       "    </tr>\n",
       "    <tr>\n",
       "      <th>14</th>\n",
       "      <td>date_2022-02-10</td>\n",
       "      <td>-0.362021</td>\n",
       "    </tr>\n",
       "    <tr>\n",
       "      <th>6</th>\n",
       "      <td>date_2022-01-17</td>\n",
       "      <td>-0.418388</td>\n",
       "    </tr>\n",
       "    <tr>\n",
       "      <th>5</th>\n",
       "      <td>date_2022-01-16</td>\n",
       "      <td>-0.439809</td>\n",
       "    </tr>\n",
       "    <tr>\n",
       "      <th>19</th>\n",
       "      <td>Searh_Ukraine war</td>\n",
       "      <td>-1.173062</td>\n",
       "    </tr>\n",
       "  </tbody>\n",
       "</table>\n",
       "</div>"
      ],
      "text/plain": [
       "                         feature     coefs\n",
       "1                date_2022-01-04  0.429925\n",
       "3                date_2022-01-09  0.331992\n",
       "4                date_2022-01-12  0.280953\n",
       "0                date_2022-01-02  0.278580\n",
       "8                date_2022-01-28  0.267496\n",
       "9                date_2022-01-30  0.205849\n",
       "15               date_2022-02-15  0.201284\n",
       "13               date_2022-02-09  0.193377\n",
       "7                date_2022-01-22 -0.157588\n",
       "11               date_2022-02-03 -0.211039\n",
       "18          Searh_Russian troops -0.217294\n",
       "16         sourceLabel_TweetDeck -0.221933\n",
       "12               date_2022-02-08 -0.231630\n",
       "2                date_2022-01-06 -0.236212\n",
       "10               date_2022-02-02 -0.242171\n",
       "17  Searh_Russian border Ukraine -0.249517\n",
       "14               date_2022-02-10 -0.362021\n",
       "6                date_2022-01-17 -0.418388\n",
       "5                date_2022-01-16 -0.439809\n",
       "19             Searh_Ukraine war -1.173062"
      ]
     },
     "execution_count": 81,
     "metadata": {},
     "output_type": "execute_result"
    }
   ],
   "source": [
    "feature_names = lr_pipe.named_steps['transform'].get_feature_names_out() \n",
    "selected_features =feature_names[ [int(i[1:]) for i in lr_pipe.named_steps['extractor'].get_feature_names_out()]]\n",
    "clean_names = [i.split('__')[-1] for i in selected_features]\n",
    "coef_df = pd.DataFrame({'feature': clean_names, 'coefs': lr_pipe.named_steps['lr'].coef_[0]})\n",
    "#coef_df['coefs'] = coef_df['coefs'].apply(abs)\n",
    "coef_df = coef_df.sort_values(by = 'coefs', ascending = False)\n",
    "coef_df[0:20]"
   ]
  },
  {
   "cell_type": "code",
   "execution_count": null,
   "id": "1ef40675",
   "metadata": {},
   "outputs": [],
   "source": []
  },
  {
   "cell_type": "markdown",
   "id": "24210af2",
   "metadata": {},
   "source": [
    "### Classification Model using K-Nearest Neighbors"
   ]
  },
  {
   "cell_type": "code",
   "execution_count": 137,
   "id": "1fbf4428",
   "metadata": {},
   "outputs": [
    {
     "data": {
      "text/plain": [
       "{'knn__n_neighbors': 6}"
      ]
     },
     "execution_count": 137,
     "metadata": {},
     "output_type": "execute_result"
    }
   ],
   "source": [
    "knn_params = {'knn__n_neighbors':np.array(range(1,10,5))}\n",
    "\n",
    "knn_pipe = Pipeline([\n",
    "    ('transform', transformer),\n",
    "    ('knn', KNeighborsClassifier())\n",
    "])\n",
    "\n",
    "import warnings\n",
    "warnings.filterwarnings('ignore')\n",
    "knn_grid = GridSearchCV(knn_pipe,param_grid = knn_params).fit(X_train,y_train)\n",
    "knn_grid.best_params_"
   ]
  },
  {
   "cell_type": "code",
   "execution_count": 141,
   "id": "22ed6199",
   "metadata": {},
   "outputs": [],
   "source": [
    "# Run the model with optimum k value\n",
    "knn_pipe = Pipeline([\n",
    "    ('transform', transformer),\n",
    "    ('knn', KNeighborsClassifier(n_neighbors=6))\n",
    "]).fit(X_train,y_train)"
   ]
  },
  {
   "cell_type": "code",
   "execution_count": 142,
   "id": "d824b0be",
   "metadata": {},
   "outputs": [
    {
     "name": "stdout",
     "output_type": "stream",
     "text": [
      "0.7178715928449745 0.6676515212009901\n"
     ]
    }
   ],
   "source": [
    "knn_train_preds = knn_pipe.predict(X_train)\n",
    "knn_train_acc = accuracy_score(y_train,knn_train_preds)\n",
    "knn_test_preds = knn_pipe.predict(X_test)\n",
    "knn_test_acc = accuracy_score(y_test,knn_test_preds)\n",
    "print(knn_train_acc,knn_test_acc)"
   ]
  },
  {
   "cell_type": "code",
   "execution_count": 143,
   "id": "d726945d",
   "metadata": {},
   "outputs": [
    {
     "data": {
      "image/png": "[encoded data removed]",
      "text/plain": [
       "<Figure size 640x480 with 2 Axes>"
      ]
     },
     "metadata": {},
     "output_type": "display_data"
    }
   ],
   "source": [
    "knn_confusion_mat  = confusion_matrix(y_test, knn_test_preds, labels=knn_pipe.classes_)\n",
    "disp = ConfusionMatrixDisplay(confusion_matrix=knn_confusion_mat ,display_labels = ['no', 'yes'])\n",
    "disp.plot()\n",
    "plt.show()"
   ]
  },
  {
   "cell_type": "markdown",
   "id": "94e12421",
   "metadata": {},
   "source": [
    "### Classification Model using Decision Trees"
   ]
  },
  {
   "cell_type": "code",
   "execution_count": 82,
   "id": "5d6b75ff",
   "metadata": {},
   "outputs": [
    {
     "name": "stderr",
     "output_type": "stream",
     "text": [
      "C:\\anaconda3\\lib\\site-packages\\sklearn\\model_selection\\_validation.py:372: FitFailedWarning: \n",
      "5 fits failed out of a total of 20.\n",
      "The score on these train-test partitions for these parameters will be set to nan.\n",
      "If these failures are not expected, you can try to debug them by setting error_score='raise'.\n",
      "\n",
      "Below are more details about the failures:\n",
      "--------------------------------------------------------------------------------\n",
      "5 fits failed with the following error:\n",
      "Traceback (most recent call last):\n",
      "  File \"C:\\anaconda3\\lib\\site-packages\\sklearn\\model_selection\\_validation.py\", line 680, in _fit_and_score\n",
      "    estimator.fit(X_train, y_train, **fit_params)\n",
      "  File \"C:\\anaconda3\\lib\\site-packages\\sklearn\\pipeline.py\", line 394, in fit\n",
      "    self._final_estimator.fit(Xt, y, **fit_params_last_step)\n",
      "  File \"C:\\anaconda3\\lib\\site-packages\\sklearn\\tree\\_classes.py\", line 937, in fit\n",
      "    super().fit(\n",
      "  File \"C:\\anaconda3\\lib\\site-packages\\sklearn\\tree\\_classes.py\", line 305, in fit\n",
      "    if max_depth <= 0:\n",
      "TypeError: '<=' not supported between instances of 'str' and 'int'\n",
      "\n",
      "  warnings.warn(some_fits_failed_message, FitFailedWarning)\n",
      "C:\\anaconda3\\lib\\site-packages\\sklearn\\model_selection\\_search.py:969: UserWarning: One or more of the test scores are non-finite: [       nan 0.67558026 0.67299839 0.66909918]\n",
      "  warnings.warn(\n"
     ]
    },
    {
     "data": {
      "text/plain": [
       "{'dt__max_depth': 3}"
      ]
     },
     "execution_count": 82,
     "metadata": {},
     "output_type": "execute_result"
    }
   ],
   "source": [
    "dt_pipe = Pipeline([\n",
    "    ('transform', transformer),\n",
    "    ('dt', DecisionTreeClassifier())\n",
    "])\n",
    "dt_params = {'dt__max_depth': ['None', 3,8,12]}\n",
    "dt_grid = GridSearchCV(dt_pipe,param_grid=dt_params).fit(X_train,y_train)\n",
    "dt_grid.best_params_"
   ]
  },
  {
   "cell_type": "code",
   "execution_count": 83,
   "id": "6488131a",
   "metadata": {},
   "outputs": [],
   "source": [
    "# Run the model using optimum max_depth\n",
    "dt_pipe = Pipeline([\n",
    "    ('transform', transformer),\n",
    "    ('dt', DecisionTreeClassifier(max_depth = 3))\n",
    "]).fit(X_train,y_train)"
   ]
  },
  {
   "cell_type": "code",
   "execution_count": 84,
   "id": "c08e8e83",
   "metadata": {},
   "outputs": [
    {
     "name": "stdout",
     "output_type": "stream",
     "text": [
      "0.6756066074768817 0.6755710108274717\n"
     ]
    }
   ],
   "source": [
    "dt_train_acc = dt_pipe.score(X_train,y_train)\n",
    "dt_test_acc = dt_pipe.score(X_test,y_test)\n",
    "print(dt_train_acc,dt_test_acc)"
   ]
  },
  {
   "cell_type": "code",
   "execution_count": 106,
   "id": "2c6fdad3",
   "metadata": {},
   "outputs": [
    {
     "data": {
      "text/plain": [
       "[Text(0.5, 0.875, 'onehotencoder__Searh_Ukraine war <= 0.5\\ngini = 0.438\\nsamples = 37957\\nvalue = [25644, 12313]'),\n",
       " Text(0.25, 0.625, 'onehotencoder__Searh_StandWithUkraine <= 0.5\\ngini = 0.455\\nsamples = 33203\\nvalue = [21602, 11601]'),\n",
       " Text(0.125, 0.375, 'onehotencoder__Searh_Ukraine NATO <= 0.5\\ngini = 0.45\\nsamples = 28233\\nvalue = [18601, 9632]'),\n",
       " Text(0.0625, 0.125, 'gini = 0.444\\nsamples = 23372\\nvalue = [15590, 7782]'),\n",
       " Text(0.1875, 0.125, 'gini = 0.471\\nsamples = 4861\\nvalue = [3011, 1850]'),\n",
       " Text(0.375, 0.375, 'remainder__likeCount <= -0.015\\ngini = 0.478\\nsamples = 4970\\nvalue = [3001, 1969]'),\n",
       " Text(0.3125, 0.125, 'gini = 0.475\\nsamples = 4422\\nvalue = [2710, 1712]'),\n",
       " Text(0.4375, 0.125, 'gini = 0.498\\nsamples = 548\\nvalue = [291, 257]'),\n",
       " Text(0.75, 0.625, 'remainder__retweetCount <= -0.048\\ngini = 0.255\\nsamples = 4754\\nvalue = [4042, 712]'),\n",
       " Text(0.625, 0.375, 'onehotencoder__date_2022-02-22 <= 0.5\\ngini = 0.266\\nsamples = 3798\\nvalue = [3199, 599]'),\n",
       " Text(0.5625, 0.125, 'gini = 0.263\\nsamples = 3726\\nvalue = [3145, 581]'),\n",
       " Text(0.6875, 0.125, 'gini = 0.375\\nsamples = 72\\nvalue = [54, 18]'),\n",
       " Text(0.875, 0.375, 'onehotencoder__date_2022-01-25 <= 0.5\\ngini = 0.208\\nsamples = 956\\nvalue = [843, 113]'),\n",
       " Text(0.8125, 0.125, 'gini = 0.2\\nsamples = 940\\nvalue = [834, 106]'),\n",
       " Text(0.9375, 0.125, 'gini = 0.492\\nsamples = 16\\nvalue = [9, 7]')]"
      ]
     },
     "execution_count": 106,
     "metadata": {},
     "output_type": "execute_result"
    },
    {
     "data": {
      "image/png": "[encoded data removed]",
      "text/plain": [
       "<Figure size 640x480 with 1 Axes>"
      ]
     },
     "metadata": {},
     "output_type": "display_data"
    }
   ],
   "source": [
    "# Extract Rules\n",
    "plot_tree(dt_pipe.named_steps['dt'], feature_names = dt_pipe.named_steps['transform'].get_feature_names_out(), fontsize=4)"
   ]
  },
  {
   "cell_type": "markdown",
   "id": "93a64d8e",
   "metadata": {},
   "source": [
    "## Evaluation"
   ]
  },
  {
   "cell_type": "markdown",
   "id": "d56938c9",
   "metadata": {},
   "source": [
    "##### Build a Table to Compare Model Results"
   ]
  },
  {
   "cell_type": "code",
   "execution_count": 207,
   "id": "3800c98d",
   "metadata": {},
   "outputs": [
    {
     "data": {
      "text/html": [
       "<div>\n",
       "<style scoped>\n",
       "    .dataframe tbody tr th:only-of-type {\n",
       "        vertical-align: middle;\n",
       "    }\n",
       "\n",
       "    .dataframe tbody tr th {\n",
       "        vertical-align: top;\n",
       "    }\n",
       "\n",
       "    .dataframe thead th {\n",
       "        text-align: right;\n",
       "    }\n",
       "</style>\n",
       "<table border=\"1\" class=\"dataframe\">\n",
       "  <thead>\n",
       "    <tr style=\"text-align: right;\">\n",
       "      <th></th>\n",
       "      <th>Train Accuracy</th>\n",
       "      <th>Test Accuracy</th>\n",
       "    </tr>\n",
       "    <tr>\n",
       "      <th>Model</th>\n",
       "      <th></th>\n",
       "      <th></th>\n",
       "    </tr>\n",
       "  </thead>\n",
       "  <tbody>\n",
       "    <tr>\n",
       "      <th>Logistic Regression</th>\n",
       "      <td>0.688325</td>\n",
       "      <td>0.688094</td>\n",
       "    </tr>\n",
       "    <tr>\n",
       "      <th>K-Nearest Neighbors</th>\n",
       "      <td>0.717872</td>\n",
       "      <td>0.667652</td>\n",
       "    </tr>\n",
       "    <tr>\n",
       "      <th>Decision Tree</th>\n",
       "      <td>0.688299</td>\n",
       "      <td>0.688333</td>\n",
       "    </tr>\n",
       "  </tbody>\n",
       "</table>\n",
       "</div>"
      ],
      "text/plain": [
       "                     Train Accuracy  Test Accuracy\n",
       "Model                                             \n",
       "Logistic Regression        0.688325       0.688094\n",
       "K-Nearest Neighbors        0.717872       0.667652\n",
       "Decision Tree              0.688299       0.688333"
      ]
     },
     "execution_count": 207,
     "metadata": {},
     "output_type": "execute_result"
    }
   ],
   "source": [
    "Model=['Logistic Regression','K-Nearest Neighbors','Decision Tree'] #,'Support Vector Machine']\n",
    "Train = [lr_train_acc,knn_train_acc,dt_train_acc] #,svc_train_acc]\n",
    "Test = [lr_test_acc,knn_test_acc,dt_test_acc] #,svc_test_acc]\n",
    "#Prec = [lr_test_pre,knn_test_pre,dt_test_pre,svc_test_pre]\n",
    "#Rec = [lr_test_rec,knn_test_rec,dt_test_rec,svc_test_rec]\n",
    "Results = pd.DataFrame({'Model':Model,'Train Accuracy':Train,'Test Accuracy':Test}) #, 'Test Precision':Prec, 'Test Recall':Rec})\n",
    "Results.set_index('Model')"
   ]
  },
  {
   "cell_type": "markdown",
   "id": "89f65ff0",
   "metadata": {},
   "source": [
    "## Deployment"
   ]
  },
  {
   "cell_type": "markdown",
   "id": "2d91b4de",
   "metadata": {},
   "source": [
    "These are preliminary results. If we can build a successful model, we could scrape tweets and run through our model to track sentiment for a given time period."
   ]
  },
  {
   "cell_type": "code",
   "execution_count": null,
   "id": "cfd3d04d",
   "metadata": {},
   "outputs": [],
   "source": []
  }
 ],
 "metadata": {
  "kernelspec": {
   "display_name": "Python 3 (ipykernel)",
   "language": "python",
   "name": "python3"
  },
  "language_info": {
   "codemirror_mode": {
    "name": "ipython",
    "version": 3
   },
   "file_extension": ".py",
   "mimetype": "text/x-python",
   "name": "python",
   "nbconvert_exporter": "python",
   "pygments_lexer": "ipython3",
   "version": "3.9.13"
  }
 },
 "nbformat": 4,
 "nbformat_minor": 5
}
