{
 "cells": [
  {
   "cell_type": "markdown",
   "id": "e5234677",
   "metadata": {},
   "source": [
    "# Capstone Project: Can We Track Pro-Ukrainian Sentiment Through Tweets?"
   ]
  },
  {
   "cell_type": "markdown",
   "id": "3475226b",
   "metadata": {},
   "source": [
    "**Overview:** This project uses Natural Language Processing to classify tweets as Pro-Ukrainian following the Russian invasion of Uktraine, and then compares the performance of Classification models on a tweet dataset."
   ]
  },
  {
   "cell_type": "code",
   "execution_count": 84,
   "id": "2516598c",
   "metadata": {},
   "outputs": [
    {
     "name": "stderr",
     "output_type": "stream",
     "text": [
      "[nltk_data] Downloading package vader_lexicon to C:\\Users\\Chelly\n",
      "[nltk_data]     Kearney\\AppData\\Roaming\\nltk_data...\n"
     ]
    },
    {
     "data": {
      "text/plain": [
       "True"
      ]
     },
     "execution_count": 84,
     "metadata": {},
     "output_type": "execute_result"
    }
   ],
   "source": [
    "import pandas as pd\n",
    "import numpy as np\n",
    "import seaborn as sns\n",
    "import plotly.express as px\n",
    "import matplotlib.pyplot as plt\n",
    "import matplotlib.patches as mpatches\n",
    "import nltk\n",
    "import re\n",
    "import sys\n",
    "import os\n",
    "import nltk\n",
    "import string\n",
    "from textblob import TextBlob\n",
    "\n",
    "from sklearn.compose import make_column_selector, make_column_transformer\n",
    "from sklearn.preprocessing import OneHotEncoder, StandardScaler, PolynomialFeatures\n",
    "from sklearn.linear_model import LogisticRegression\n",
    "from sklearn.feature_selection import SelectFromModel\n",
    "from sklearn.pipeline import Pipeline\n",
    "from sklearn.model_selection import train_test_split, GridSearchCV\n",
    "from sklearn.metrics import ConfusionMatrixDisplay, RocCurveDisplay, accuracy_score, precision_score, recall_score, plot_confusion_matrix, confusion_matrix\n",
    "from sklearn.neighbors import KNeighborsClassifier\n",
    "from sklearn.tree import DecisionTreeClassifier, export_text, plot_tree\n",
    "from sklearn.svm import SVC\n",
    "from nltk.stem import PorterStemmer, WordNetLemmatizer\n",
    "from nltk import word_tokenize\n",
    "from nltk.sentiment.vader import SentimentIntensityAnalyzer\n",
    "\n",
    "nltk.download('vader_lexicon')"
   ]
  },
  {
   "cell_type": "markdown",
   "id": "7b30ce28",
   "metadata": {},
   "source": [
    "## Business Understanding"
   ]
  },
  {
   "cell_type": "markdown",
   "id": "15d0c84b",
   "metadata": {},
   "source": [
    "On February 24, 2022, Russia invaded Ukraine. This led to the largest refugee and humanitarian crisis within Europe since the Yugoslav Wars in the 1990s. According to a report by the [Council on Foreign Relations](https://www.cfr.org/article/how-much-aid-has-us-sent-ukraine-here-are-six-charts), forty-seven countries have provided military aid to Ukraine. The U.S. alone has directed more than \\\\$75 billion in assistance for humanitarian, financial, and military support. Ukraine expects a \\\\$38 billion budget deficit this year and the Ukrainian government is requesting an additional \\$14 billion in foreign aid for rapid reconstruction of critical infrastructure [(Reuters).](https://www.reuters.com/world/europe/ukraine-says-its-received-167-bln-foreign-aid-this-year-2023-05-11/). Continued foreign aid is heavily dependent on public support for Ukraine. \n",
    "\n",
    "The goal of this project is to determine if we can track public sentiment for Ukraine through tweets."
   ]
  },
  {
   "cell_type": "markdown",
   "id": "3c727dda",
   "metadata": {},
   "source": [
    "## Data Understanding"
   ]
  },
  {
   "cell_type": "markdown",
   "id": "3e443b06",
   "metadata": {},
   "source": [
    "The dataset used for this project comes from Daria Purtova on [Kaggle.](https://www.kaggle.com/datasets/foklacu/ukraine-war-tweets-dataset-65-days) Purtova compiled tweets between January 1, 2022 to March 6, 2022. She searched on the following phrases and compiled results into 8 separate CSV files based on the search phrases.\n",
    "\n",
    "* ukraine war\n",
    "* ukraine troops\n",
    "* ukraine border\n",
    "* ukraine NATO\n",
    "* StandWithUkraine\n",
    "* russian troops\n",
    "* russian border ukraine\n",
    "* russia invade\n",
    "\n",
    "Each file consisted of 29 features. Some of the columns were identifiers, not unique, redundant or not populated enough to be useful. Nine of the features were useful for this study. They include the following:\n",
    "\n",
    "* **Date** - the date the tweet was posted (object)\n",
    "* **Content** - the text of the tweet (object)\n",
    "* **replyCount** - the number of replies to the tweet (int64)\n",
    "* **retweetCount** - the number of times the tweet was retweeted (int64)\n",
    "* **likeCount** - the number of times the tweet was liked (int64)\n",
    "* **quoteCount** - the number of times the tweet was quoted (int64)\n",
    "* **SourceLabel** - the type of app from which the tweet was sent (e.g. iPhone, Android, Web app) (object)\n",
    "* **hashtags** - hashtags included in the text\n",
    "* **Searh** - the search phrase used to compile the text\n",
    "\n",
    "The language of the text was one of the features, but only English texts were used for this study. Only texts that included hashtags were used for this study. To save on computational time, 7000 tweets were randomnly selected from each of the 8 CSV files to make the final dataset."
   ]
  },
  {
   "cell_type": "markdown",
   "id": "40e74ddf",
   "metadata": {},
   "source": [
    "## Data Preparation"
   ]
  },
  {
   "cell_type": "markdown",
   "id": "4e8030fc",
   "metadata": {},
   "source": [
    "To save on computational time - clean each file separately and reduce. Then combine files to build dataset."
   ]
  },
  {
   "cell_type": "markdown",
   "id": "e2fe6111",
   "metadata": {},
   "source": [
    "### First File: 'StandWithUkraine' dataset"
   ]
  },
  {
   "cell_type": "code",
   "execution_count": 145,
   "id": "311bd363",
   "metadata": {},
   "outputs": [],
   "source": [
    "swu = pd.read_csv('data/StandWithUkraine.csv')"
   ]
  },
  {
   "cell_type": "markdown",
   "id": "14b8e1c6",
   "metadata": {},
   "source": [
    "##### Select only English tweets"
   ]
  },
  {
   "cell_type": "code",
   "execution_count": 146,
   "id": "33fdb216",
   "metadata": {},
   "outputs": [
    {
     "name": "stdout",
     "output_type": "stream",
     "text": [
      "<class 'pandas.core.frame.DataFrame'>\n",
      "Int64Index: 87819 entries, 0 to 148144\n",
      "Data columns (total 29 columns):\n",
      " #   Column            Non-Null Count  Dtype  \n",
      "---  ------            --------------  -----  \n",
      " 0   _type             87819 non-null  object \n",
      " 1   url               87819 non-null  object \n",
      " 2   date              87819 non-null  object \n",
      " 3   content           87819 non-null  object \n",
      " 4   renderedContent   87819 non-null  object \n",
      " 5   id                87819 non-null  int64  \n",
      " 6   user              87819 non-null  object \n",
      " 7   replyCount        87819 non-null  int64  \n",
      " 8   retweetCount      87819 non-null  int64  \n",
      " 9   likeCount         87819 non-null  int64  \n",
      " 10  quoteCount        87819 non-null  int64  \n",
      " 11  conversationId    87819 non-null  int64  \n",
      " 12  lang              87819 non-null  object \n",
      " 13  source            87819 non-null  object \n",
      " 14  sourceUrl         87819 non-null  object \n",
      " 15  sourceLabel       87819 non-null  object \n",
      " 16  outlinks          34642 non-null  object \n",
      " 17  tcooutlinks       34642 non-null  object \n",
      " 18  media             19443 non-null  object \n",
      " 19  retweetedTweet    0 non-null      float64\n",
      " 20  quotedTweet       21495 non-null  object \n",
      " 21  inReplyToTweetId  27959 non-null  float64\n",
      " 22  inReplyToUser     27959 non-null  object \n",
      " 23  mentionedUsers    38210 non-null  object \n",
      " 24  coordinates       2397 non-null   object \n",
      " 25  place             2397 non-null   object \n",
      " 26  hashtags          69582 non-null  object \n",
      " 27  cashtags          53 non-null     object \n",
      " 28  Searh             87819 non-null  object \n",
      "dtypes: float64(2), int64(6), object(21)\n",
      "memory usage: 20.1+ MB\n"
     ]
    }
   ],
   "source": [
    "swu_en = swu[swu['lang']=='en']\n",
    "swu_en.info()"
   ]
  },
  {
   "cell_type": "markdown",
   "id": "e72398da",
   "metadata": {},
   "source": [
    "##### Remove non-applicable columns\n",
    "Some columns have redundant information (SourceURL and SourceLabel). Some have so few entries as to be useful. Some columns are not unique to a tweet (type)."
   ]
  },
  {
   "cell_type": "code",
   "execution_count": 147,
   "id": "e852ba97",
   "metadata": {},
   "outputs": [
    {
     "data": {
      "text/plain": [
       "(87819, 9)"
      ]
     },
     "execution_count": 147,
     "metadata": {},
     "output_type": "execute_result"
    }
   ],
   "source": [
    "swu_col = swu_en[['date','content','replyCount','retweetCount','likeCount','quoteCount','sourceLabel', 'hashtags','Searh']]\n",
    "swu_col.shape"
   ]
  },
  {
   "cell_type": "markdown",
   "id": "e26ea884",
   "metadata": {},
   "source": [
    "##### Remove tweets with null values"
   ]
  },
  {
   "cell_type": "code",
   "execution_count": 148,
   "id": "b1d73f76",
   "metadata": {},
   "outputs": [
    {
     "data": {
      "text/plain": [
       "date                0\n",
       "content             0\n",
       "replyCount          0\n",
       "retweetCount        0\n",
       "likeCount           0\n",
       "quoteCount          0\n",
       "sourceLabel         0\n",
       "Searh               0\n",
       "hashtags        18237\n",
       "dtype: int64"
      ]
     },
     "execution_count": 148,
     "metadata": {},
     "output_type": "execute_result"
    }
   ],
   "source": [
    "swu_col.isnull().sum().sort_values()"
   ]
  },
  {
   "cell_type": "code",
   "execution_count": 149,
   "id": "36d35bce",
   "metadata": {},
   "outputs": [
    {
     "data": {
      "text/plain": [
       "(69582, 9)"
      ]
     },
     "execution_count": 149,
     "metadata": {},
     "output_type": "execute_result"
    }
   ],
   "source": [
    "swu_data = swu_col.dropna(subset = ['hashtags'])\n",
    "swu_data.shape"
   ]
  },
  {
   "cell_type": "markdown",
   "id": "44454b18",
   "metadata": {},
   "source": [
    "##### Remove duplicates"
   ]
  },
  {
   "cell_type": "code",
   "execution_count": 150,
   "id": "32cf9bac",
   "metadata": {},
   "outputs": [
    {
     "data": {
      "text/plain": [
       "(69581, 9)"
      ]
     },
     "execution_count": 150,
     "metadata": {},
     "output_type": "execute_result"
    }
   ],
   "source": [
    "swu_data.drop_duplicates(keep='first', inplace=True)\n",
    "swu_data.shape"
   ]
  },
  {
   "cell_type": "markdown",
   "id": "68050b93",
   "metadata": {},
   "source": [
    "##### Reduce the dataset to minimize computation time"
   ]
  },
  {
   "cell_type": "code",
   "execution_count": 151,
   "id": "a3946c55",
   "metadata": {},
   "outputs": [
    {
     "name": "stdout",
     "output_type": "stream",
     "text": [
      "<class 'pandas.core.frame.DataFrame'>\n",
      "Int64Index: 7000 entries, 25804 to 72031\n",
      "Data columns (total 9 columns):\n",
      " #   Column        Non-Null Count  Dtype \n",
      "---  ------        --------------  ----- \n",
      " 0   date          7000 non-null   object\n",
      " 1   content       7000 non-null   object\n",
      " 2   replyCount    7000 non-null   int64 \n",
      " 3   retweetCount  7000 non-null   int64 \n",
      " 4   likeCount     7000 non-null   int64 \n",
      " 5   quoteCount    7000 non-null   int64 \n",
      " 6   sourceLabel   7000 non-null   object\n",
      " 7   hashtags      7000 non-null   object\n",
      " 8   Searh         7000 non-null   object\n",
      "dtypes: int64(4), object(5)\n",
      "memory usage: 546.9+ KB\n"
     ]
    }
   ],
   "source": [
    "swu_final = swu_data.sample(n=7000, replace=False, random_state=42)\n",
    "swu_final.info()"
   ]
  },
  {
   "cell_type": "markdown",
   "id": "a192d74f",
   "metadata": {},
   "source": [
    "### Second File: 'Russia_invade' dataset"
   ]
  },
  {
   "cell_type": "code",
   "execution_count": 152,
   "id": "cafc8ccd",
   "metadata": {},
   "outputs": [],
   "source": [
    "ri = pd.read_csv('data/Russia_invade.csv')"
   ]
  },
  {
   "cell_type": "markdown",
   "id": "b9500ee8",
   "metadata": {},
   "source": [
    "##### Select only English tweets"
   ]
  },
  {
   "cell_type": "code",
   "execution_count": 153,
   "id": "0ba99be2",
   "metadata": {},
   "outputs": [
    {
     "name": "stdout",
     "output_type": "stream",
     "text": [
      "<class 'pandas.core.frame.DataFrame'>\n",
      "Int64Index: 165649 entries, 0 to 170834\n",
      "Data columns (total 29 columns):\n",
      " #   Column            Non-Null Count   Dtype  \n",
      "---  ------            --------------   -----  \n",
      " 0   _type             165649 non-null  object \n",
      " 1   url               165649 non-null  object \n",
      " 2   date              165649 non-null  object \n",
      " 3   content           165649 non-null  object \n",
      " 4   renderedContent   165649 non-null  object \n",
      " 5   id                165649 non-null  int64  \n",
      " 6   user              165649 non-null  object \n",
      " 7   replyCount        165649 non-null  int64  \n",
      " 8   retweetCount      165649 non-null  int64  \n",
      " 9   likeCount         165649 non-null  int64  \n",
      " 10  quoteCount        165649 non-null  int64  \n",
      " 11  conversationId    165649 non-null  int64  \n",
      " 12  lang              165649 non-null  object \n",
      " 13  source            165649 non-null  object \n",
      " 14  sourceUrl         165649 non-null  object \n",
      " 15  sourceLabel       165649 non-null  object \n",
      " 16  outlinks          37949 non-null   object \n",
      " 17  tcooutlinks       37949 non-null   object \n",
      " 18  media             11160 non-null   object \n",
      " 19  retweetedTweet    0 non-null       float64\n",
      " 20  quotedTweet       11743 non-null   object \n",
      " 21  inReplyToTweetId  92217 non-null   float64\n",
      " 22  inReplyToUser     92217 non-null   object \n",
      " 23  mentionedUsers    98023 non-null   object \n",
      " 24  coordinates       1657 non-null    object \n",
      " 25  place             1657 non-null    object \n",
      " 26  hashtags          18389 non-null   object \n",
      " 27  cashtags          671 non-null     object \n",
      " 28  Searh             165649 non-null  object \n",
      "dtypes: float64(2), int64(6), object(21)\n",
      "memory usage: 37.9+ MB\n"
     ]
    }
   ],
   "source": [
    "ri_en = ri[ri['lang']=='en']\n",
    "ri_en.info()"
   ]
  },
  {
   "cell_type": "markdown",
   "id": "929694e8",
   "metadata": {},
   "source": [
    "##### Remove non-applicable columns"
   ]
  },
  {
   "cell_type": "code",
   "execution_count": 154,
   "id": "08027260",
   "metadata": {},
   "outputs": [
    {
     "data": {
      "text/plain": [
       "(165649, 9)"
      ]
     },
     "execution_count": 154,
     "metadata": {},
     "output_type": "execute_result"
    }
   ],
   "source": [
    "ri_col = ri_en[['date','content','replyCount','retweetCount','likeCount','quoteCount','sourceLabel', 'hashtags','Searh']]\n",
    "ri_col.shape"
   ]
  },
  {
   "cell_type": "markdown",
   "id": "0310b534",
   "metadata": {},
   "source": [
    "##### Remove tweets with null values"
   ]
  },
  {
   "cell_type": "code",
   "execution_count": 155,
   "id": "8c73cea1",
   "metadata": {},
   "outputs": [
    {
     "data": {
      "text/plain": [
       "date                 0\n",
       "content              0\n",
       "replyCount           0\n",
       "retweetCount         0\n",
       "likeCount            0\n",
       "quoteCount           0\n",
       "sourceLabel          0\n",
       "Searh                0\n",
       "hashtags        147260\n",
       "dtype: int64"
      ]
     },
     "execution_count": 155,
     "metadata": {},
     "output_type": "execute_result"
    }
   ],
   "source": [
    "ri_col.isnull().sum().sort_values()"
   ]
  },
  {
   "cell_type": "code",
   "execution_count": 156,
   "id": "36bf5b7c",
   "metadata": {},
   "outputs": [
    {
     "data": {
      "text/plain": [
       "(18389, 9)"
      ]
     },
     "execution_count": 156,
     "metadata": {},
     "output_type": "execute_result"
    }
   ],
   "source": [
    "ri_data = ri_col.dropna(subset = ['hashtags'])\n",
    "ri_data.shape"
   ]
  },
  {
   "cell_type": "markdown",
   "id": "b675495c",
   "metadata": {},
   "source": [
    "##### Remove duplicates"
   ]
  },
  {
   "cell_type": "code",
   "execution_count": 157,
   "id": "31e577e6",
   "metadata": {},
   "outputs": [
    {
     "data": {
      "text/plain": [
       "(18389, 9)"
      ]
     },
     "execution_count": 157,
     "metadata": {},
     "output_type": "execute_result"
    }
   ],
   "source": [
    "ri_data.drop_duplicates(keep='first', inplace=True)\n",
    "ri_data.shape"
   ]
  },
  {
   "cell_type": "markdown",
   "id": "af0d429a",
   "metadata": {},
   "source": [
    "##### Reduce dataset to minimize computational time"
   ]
  },
  {
   "cell_type": "code",
   "execution_count": 158,
   "id": "5133ae37",
   "metadata": {},
   "outputs": [
    {
     "name": "stdout",
     "output_type": "stream",
     "text": [
      "<class 'pandas.core.frame.DataFrame'>\n",
      "Int64Index: 7000 entries, 166767 to 8829\n",
      "Data columns (total 9 columns):\n",
      " #   Column        Non-Null Count  Dtype \n",
      "---  ------        --------------  ----- \n",
      " 0   date          7000 non-null   object\n",
      " 1   content       7000 non-null   object\n",
      " 2   replyCount    7000 non-null   int64 \n",
      " 3   retweetCount  7000 non-null   int64 \n",
      " 4   likeCount     7000 non-null   int64 \n",
      " 5   quoteCount    7000 non-null   int64 \n",
      " 6   sourceLabel   7000 non-null   object\n",
      " 7   hashtags      7000 non-null   object\n",
      " 8   Searh         7000 non-null   object\n",
      "dtypes: int64(4), object(5)\n",
      "memory usage: 546.9+ KB\n"
     ]
    }
   ],
   "source": [
    "ri_final = ri_data.sample(n=7000, replace=False, random_state=42)\n",
    "ri_final.info()"
   ]
  },
  {
   "cell_type": "markdown",
   "id": "6aa6b407",
   "metadata": {},
   "source": [
    "### Third File: 'Russia_border_Ukraine' dataset"
   ]
  },
  {
   "cell_type": "code",
   "execution_count": 159,
   "id": "96577449",
   "metadata": {},
   "outputs": [],
   "source": [
    "rbu = pd.read_csv('data/Russian_border_Ukraine.csv')"
   ]
  },
  {
   "cell_type": "markdown",
   "id": "4475f20e",
   "metadata": {},
   "source": [
    "##### Select only English tweets"
   ]
  },
  {
   "cell_type": "code",
   "execution_count": 160,
   "id": "45a4480d",
   "metadata": {},
   "outputs": [
    {
     "name": "stdout",
     "output_type": "stream",
     "text": [
      "<class 'pandas.core.frame.DataFrame'>\n",
      "Int64Index: 52616 entries, 0 to 53039\n",
      "Data columns (total 29 columns):\n",
      " #   Column            Non-Null Count  Dtype  \n",
      "---  ------            --------------  -----  \n",
      " 0   _type             52616 non-null  object \n",
      " 1   url               52616 non-null  object \n",
      " 2   date              52616 non-null  object \n",
      " 3   content           52616 non-null  object \n",
      " 4   renderedContent   52616 non-null  object \n",
      " 5   id                52616 non-null  int64  \n",
      " 6   user              52616 non-null  object \n",
      " 7   replyCount        52616 non-null  int64  \n",
      " 8   retweetCount      52616 non-null  int64  \n",
      " 9   likeCount         52616 non-null  int64  \n",
      " 10  quoteCount        52616 non-null  int64  \n",
      " 11  conversationId    52616 non-null  int64  \n",
      " 12  lang              52616 non-null  object \n",
      " 13  source            52616 non-null  object \n",
      " 14  sourceUrl         52616 non-null  object \n",
      " 15  sourceLabel       52616 non-null  object \n",
      " 16  outlinks          17148 non-null  object \n",
      " 17  tcooutlinks       17148 non-null  object \n",
      " 18  media             8193 non-null   object \n",
      " 19  retweetedTweet    0 non-null      float64\n",
      " 20  quotedTweet       3804 non-null   object \n",
      " 21  inReplyToTweetId  22412 non-null  float64\n",
      " 22  inReplyToUser     22412 non-null  object \n",
      " 23  mentionedUsers    24448 non-null  object \n",
      " 24  coordinates       569 non-null    object \n",
      " 25  place             569 non-null    object \n",
      " 26  hashtags          11256 non-null  object \n",
      " 27  cashtags          113 non-null    object \n",
      " 28  Searh             52616 non-null  object \n",
      "dtypes: float64(2), int64(6), object(21)\n",
      "memory usage: 12.0+ MB\n"
     ]
    }
   ],
   "source": [
    "rbu_en = rbu[rbu['lang']=='en']\n",
    "rbu_en.info()"
   ]
  },
  {
   "cell_type": "markdown",
   "id": "725cf2b1",
   "metadata": {},
   "source": [
    "##### Remove non-applicable columns"
   ]
  },
  {
   "cell_type": "code",
   "execution_count": 161,
   "id": "da2fe98c",
   "metadata": {},
   "outputs": [
    {
     "data": {
      "text/plain": [
       "(52616, 9)"
      ]
     },
     "execution_count": 161,
     "metadata": {},
     "output_type": "execute_result"
    }
   ],
   "source": [
    "rbu_col = rbu_en[['date','content','replyCount','retweetCount','likeCount','quoteCount','sourceLabel', 'hashtags','Searh']]\n",
    "rbu_col.shape"
   ]
  },
  {
   "cell_type": "markdown",
   "id": "2fec57c3",
   "metadata": {},
   "source": [
    "##### Remove tweets with null values"
   ]
  },
  {
   "cell_type": "code",
   "execution_count": 162,
   "id": "8d9b39b1",
   "metadata": {},
   "outputs": [
    {
     "data": {
      "text/plain": [
       "date                0\n",
       "content             0\n",
       "replyCount          0\n",
       "retweetCount        0\n",
       "likeCount           0\n",
       "quoteCount          0\n",
       "sourceLabel         0\n",
       "Searh               0\n",
       "hashtags        41360\n",
       "dtype: int64"
      ]
     },
     "execution_count": 162,
     "metadata": {},
     "output_type": "execute_result"
    }
   ],
   "source": [
    "rbu_col.isnull().sum().sort_values()"
   ]
  },
  {
   "cell_type": "code",
   "execution_count": 163,
   "id": "1c127ae5",
   "metadata": {},
   "outputs": [
    {
     "data": {
      "text/plain": [
       "(11256, 9)"
      ]
     },
     "execution_count": 163,
     "metadata": {},
     "output_type": "execute_result"
    }
   ],
   "source": [
    "rbu_data = rbu_col.dropna(subset = ['hashtags'])\n",
    "rbu_data.shape"
   ]
  },
  {
   "cell_type": "markdown",
   "id": "cf90a94c",
   "metadata": {},
   "source": [
    "##### Remove duplicates"
   ]
  },
  {
   "cell_type": "code",
   "execution_count": 164,
   "id": "d74fcf26",
   "metadata": {},
   "outputs": [
    {
     "data": {
      "text/plain": [
       "(11256, 9)"
      ]
     },
     "execution_count": 164,
     "metadata": {},
     "output_type": "execute_result"
    }
   ],
   "source": [
    "rbu_data.drop_duplicates(keep='first', inplace=True)\n",
    "rbu_data.shape"
   ]
  },
  {
   "cell_type": "markdown",
   "id": "e6697654",
   "metadata": {},
   "source": [
    "##### Reduce dataset size"
   ]
  },
  {
   "cell_type": "code",
   "execution_count": 165,
   "id": "ed5234de",
   "metadata": {},
   "outputs": [
    {
     "name": "stdout",
     "output_type": "stream",
     "text": [
      "<class 'pandas.core.frame.DataFrame'>\n",
      "Int64Index: 7000 entries, 10490 to 38557\n",
      "Data columns (total 9 columns):\n",
      " #   Column        Non-Null Count  Dtype \n",
      "---  ------        --------------  ----- \n",
      " 0   date          7000 non-null   object\n",
      " 1   content       7000 non-null   object\n",
      " 2   replyCount    7000 non-null   int64 \n",
      " 3   retweetCount  7000 non-null   int64 \n",
      " 4   likeCount     7000 non-null   int64 \n",
      " 5   quoteCount    7000 non-null   int64 \n",
      " 6   sourceLabel   7000 non-null   object\n",
      " 7   hashtags      7000 non-null   object\n",
      " 8   Searh         7000 non-null   object\n",
      "dtypes: int64(4), object(5)\n",
      "memory usage: 546.9+ KB\n"
     ]
    }
   ],
   "source": [
    "rbu_final = rbu_data.sample(n=7000, replace=False, random_state=42)\n",
    "rbu_final.info()"
   ]
  },
  {
   "cell_type": "markdown",
   "id": "f83b8d6e",
   "metadata": {},
   "source": [
    "### Fourth File: 'Russian_troops' dataset"
   ]
  },
  {
   "cell_type": "code",
   "execution_count": 166,
   "id": "0426d519",
   "metadata": {},
   "outputs": [],
   "source": [
    "rt = pd.read_csv('data/Russian_troops.csv')"
   ]
  },
  {
   "cell_type": "markdown",
   "id": "e10325ef",
   "metadata": {},
   "source": [
    "##### Select only English tweets"
   ]
  },
  {
   "cell_type": "code",
   "execution_count": 167,
   "id": "abfecdde",
   "metadata": {},
   "outputs": [
    {
     "name": "stdout",
     "output_type": "stream",
     "text": [
      "<class 'pandas.core.frame.DataFrame'>\n",
      "Int64Index: 126962 entries, 0 to 128404\n",
      "Data columns (total 29 columns):\n",
      " #   Column            Non-Null Count   Dtype  \n",
      "---  ------            --------------   -----  \n",
      " 0   _type             126962 non-null  object \n",
      " 1   url               126962 non-null  object \n",
      " 2   date              126962 non-null  object \n",
      " 3   content           126962 non-null  object \n",
      " 4   renderedContent   126962 non-null  object \n",
      " 5   id                126962 non-null  int64  \n",
      " 6   user              126962 non-null  object \n",
      " 7   replyCount        126962 non-null  int64  \n",
      " 8   retweetCount      126962 non-null  int64  \n",
      " 9   likeCount         126962 non-null  int64  \n",
      " 10  quoteCount        126962 non-null  int64  \n",
      " 11  conversationId    126962 non-null  int64  \n",
      " 12  lang              126962 non-null  object \n",
      " 13  source            126962 non-null  object \n",
      " 14  sourceUrl         126962 non-null  object \n",
      " 15  sourceLabel       126962 non-null  object \n",
      " 16  outlinks          46651 non-null   object \n",
      " 17  tcooutlinks       46651 non-null   object \n",
      " 18  media             14608 non-null   object \n",
      " 19  retweetedTweet    0 non-null       float64\n",
      " 20  quotedTweet       10554 non-null   object \n",
      " 21  inReplyToTweetId  56069 non-null   float64\n",
      " 22  inReplyToUser     56069 non-null   object \n",
      " 23  mentionedUsers    60969 non-null   object \n",
      " 24  coordinates       1408 non-null    object \n",
      " 25  place             1408 non-null    object \n",
      " 26  hashtags          21121 non-null   object \n",
      " 27  cashtags          343 non-null     object \n",
      " 28  Searh             126962 non-null  object \n",
      "dtypes: float64(2), int64(6), object(21)\n",
      "memory usage: 29.1+ MB\n"
     ]
    }
   ],
   "source": [
    "rt_en = rt[rt['lang']=='en']\n",
    "rt_en.info()"
   ]
  },
  {
   "cell_type": "markdown",
   "id": "a6dded8c",
   "metadata": {},
   "source": [
    "##### Remove non-applicable columns"
   ]
  },
  {
   "cell_type": "code",
   "execution_count": 168,
   "id": "8e0002da",
   "metadata": {},
   "outputs": [
    {
     "data": {
      "text/plain": [
       "(126962, 9)"
      ]
     },
     "execution_count": 168,
     "metadata": {},
     "output_type": "execute_result"
    }
   ],
   "source": [
    "rt_col = rt_en[['date','content','replyCount','retweetCount','likeCount','quoteCount','sourceLabel', 'hashtags','Searh']]\n",
    "rt_col.shape"
   ]
  },
  {
   "cell_type": "markdown",
   "id": "56ddd0ab",
   "metadata": {},
   "source": [
    "##### Remove tweets with null values"
   ]
  },
  {
   "cell_type": "code",
   "execution_count": 169,
   "id": "0f8eb40a",
   "metadata": {},
   "outputs": [
    {
     "data": {
      "text/plain": [
       "date                 0\n",
       "content              0\n",
       "replyCount           0\n",
       "retweetCount         0\n",
       "likeCount            0\n",
       "quoteCount           0\n",
       "sourceLabel          0\n",
       "Searh                0\n",
       "hashtags        105841\n",
       "dtype: int64"
      ]
     },
     "execution_count": 169,
     "metadata": {},
     "output_type": "execute_result"
    }
   ],
   "source": [
    "rt_col.isnull().sum().sort_values()"
   ]
  },
  {
   "cell_type": "code",
   "execution_count": 170,
   "id": "b86bfb8f",
   "metadata": {},
   "outputs": [
    {
     "data": {
      "text/plain": [
       "(21121, 9)"
      ]
     },
     "execution_count": 170,
     "metadata": {},
     "output_type": "execute_result"
    }
   ],
   "source": [
    "rt_data = rt_col.dropna(subset = ['hashtags'])\n",
    "rt_data.shape"
   ]
  },
  {
   "cell_type": "markdown",
   "id": "da0addcd",
   "metadata": {},
   "source": [
    "##### Remove duplicates"
   ]
  },
  {
   "cell_type": "code",
   "execution_count": 171,
   "id": "b11a0142",
   "metadata": {},
   "outputs": [
    {
     "data": {
      "text/plain": [
       "(21119, 9)"
      ]
     },
     "execution_count": 171,
     "metadata": {},
     "output_type": "execute_result"
    }
   ],
   "source": [
    "rt_data.drop_duplicates(keep='first',inplace=True)\n",
    "rt_data.shape"
   ]
  },
  {
   "cell_type": "markdown",
   "id": "d816f601",
   "metadata": {},
   "source": [
    "##### Minimize dataset size"
   ]
  },
  {
   "cell_type": "code",
   "execution_count": 172,
   "id": "aee49a58",
   "metadata": {},
   "outputs": [
    {
     "name": "stdout",
     "output_type": "stream",
     "text": [
      "<class 'pandas.core.frame.DataFrame'>\n",
      "Int64Index: 7000 entries, 39817 to 67389\n",
      "Data columns (total 9 columns):\n",
      " #   Column        Non-Null Count  Dtype \n",
      "---  ------        --------------  ----- \n",
      " 0   date          7000 non-null   object\n",
      " 1   content       7000 non-null   object\n",
      " 2   replyCount    7000 non-null   int64 \n",
      " 3   retweetCount  7000 non-null   int64 \n",
      " 4   likeCount     7000 non-null   int64 \n",
      " 5   quoteCount    7000 non-null   int64 \n",
      " 6   sourceLabel   7000 non-null   object\n",
      " 7   hashtags      7000 non-null   object\n",
      " 8   Searh         7000 non-null   object\n",
      "dtypes: int64(4), object(5)\n",
      "memory usage: 546.9+ KB\n"
     ]
    }
   ],
   "source": [
    "rt_final = rt_data.sample(n=7000, replace=False,random_state=42)\n",
    "rt_final.info()"
   ]
  },
  {
   "cell_type": "markdown",
   "id": "3cd0fce6",
   "metadata": {},
   "source": [
    "### Fifth File: 'Ukraine_border' dataset"
   ]
  },
  {
   "cell_type": "code",
   "execution_count": 173,
   "id": "f12d33a9",
   "metadata": {},
   "outputs": [],
   "source": [
    "ub = pd.read_csv('data/Ukraine_border.csv')"
   ]
  },
  {
   "cell_type": "markdown",
   "id": "087f7895",
   "metadata": {},
   "source": [
    "##### Select only English tweets"
   ]
  },
  {
   "cell_type": "code",
   "execution_count": 174,
   "id": "80a1d715",
   "metadata": {},
   "outputs": [
    {
     "name": "stdout",
     "output_type": "stream",
     "text": [
      "<class 'pandas.core.frame.DataFrame'>\n",
      "Int64Index: 164732 entries, 0 to 166609\n",
      "Data columns (total 29 columns):\n",
      " #   Column            Non-Null Count   Dtype  \n",
      "---  ------            --------------   -----  \n",
      " 0   _type             164732 non-null  object \n",
      " 1   url               164732 non-null  object \n",
      " 2   date              164732 non-null  object \n",
      " 3   content           164732 non-null  object \n",
      " 4   renderedContent   164732 non-null  object \n",
      " 5   id                164732 non-null  int64  \n",
      " 6   user              164732 non-null  object \n",
      " 7   replyCount        164732 non-null  int64  \n",
      " 8   retweetCount      164732 non-null  int64  \n",
      " 9   likeCount         164732 non-null  int64  \n",
      " 10  quoteCount        164732 non-null  int64  \n",
      " 11  conversationId    164732 non-null  int64  \n",
      " 12  lang              164732 non-null  object \n",
      " 13  source            164732 non-null  object \n",
      " 14  sourceUrl         164732 non-null  object \n",
      " 15  sourceLabel       164732 non-null  object \n",
      " 16  outlinks          54248 non-null   object \n",
      " 17  tcooutlinks       54248 non-null   object \n",
      " 18  media             21159 non-null   object \n",
      " 19  retweetedTweet    0 non-null       float64\n",
      " 20  quotedTweet       14034 non-null   object \n",
      " 21  inReplyToTweetId  69396 non-null   float64\n",
      " 22  inReplyToUser     69396 non-null   object \n",
      " 23  mentionedUsers    80093 non-null   object \n",
      " 24  coordinates       1955 non-null    object \n",
      " 25  place             1955 non-null    object \n",
      " 26  hashtags          30561 non-null   object \n",
      " 27  cashtags          349 non-null     object \n",
      " 28  Searh             164732 non-null  object \n",
      "dtypes: float64(2), int64(6), object(21)\n",
      "memory usage: 37.7+ MB\n"
     ]
    }
   ],
   "source": [
    "ub_en = ub[ub['lang']=='en']\n",
    "ub_en.info()"
   ]
  },
  {
   "cell_type": "markdown",
   "id": "8546c0ca",
   "metadata": {},
   "source": [
    "##### Remove non-applicable columns"
   ]
  },
  {
   "cell_type": "code",
   "execution_count": 175,
   "id": "937ec044",
   "metadata": {},
   "outputs": [
    {
     "data": {
      "text/plain": [
       "(164732, 9)"
      ]
     },
     "execution_count": 175,
     "metadata": {},
     "output_type": "execute_result"
    }
   ],
   "source": [
    "ub_col = ub_en[['date','content','replyCount','retweetCount','likeCount','quoteCount','sourceLabel', 'hashtags','Searh']]\n",
    "ub_col.shape"
   ]
  },
  {
   "cell_type": "markdown",
   "id": "a4393578",
   "metadata": {},
   "source": [
    "##### Remove tweets with null values"
   ]
  },
  {
   "cell_type": "code",
   "execution_count": 176,
   "id": "ddc596e5",
   "metadata": {},
   "outputs": [
    {
     "data": {
      "text/plain": [
       "date                 0\n",
       "content              0\n",
       "replyCount           0\n",
       "retweetCount         0\n",
       "likeCount            0\n",
       "quoteCount           0\n",
       "sourceLabel          0\n",
       "Searh                0\n",
       "hashtags        134171\n",
       "dtype: int64"
      ]
     },
     "execution_count": 176,
     "metadata": {},
     "output_type": "execute_result"
    }
   ],
   "source": [
    "ub_col.isnull().sum().sort_values()"
   ]
  },
  {
   "cell_type": "code",
   "execution_count": 177,
   "id": "93750765",
   "metadata": {},
   "outputs": [
    {
     "data": {
      "text/plain": [
       "(30561, 9)"
      ]
     },
     "execution_count": 177,
     "metadata": {},
     "output_type": "execute_result"
    }
   ],
   "source": [
    "ub_data = ub_col.dropna(subset=['hashtags'])\n",
    "ub_data.shape"
   ]
  },
  {
   "cell_type": "markdown",
   "id": "1e4a0ff4",
   "metadata": {},
   "source": [
    "##### Drop duplicates"
   ]
  },
  {
   "cell_type": "code",
   "execution_count": 178,
   "id": "798d3a75",
   "metadata": {},
   "outputs": [
    {
     "data": {
      "text/plain": [
       "(29900, 9)"
      ]
     },
     "execution_count": 178,
     "metadata": {},
     "output_type": "execute_result"
    }
   ],
   "source": [
    "ub_data.drop_duplicates(keep='first',inplace=True)\n",
    "ub_data.shape"
   ]
  },
  {
   "cell_type": "markdown",
   "id": "c8f059c2",
   "metadata": {},
   "source": [
    "##### Minimize dataset size"
   ]
  },
  {
   "cell_type": "code",
   "execution_count": 179,
   "id": "10b11a16",
   "metadata": {},
   "outputs": [
    {
     "name": "stdout",
     "output_type": "stream",
     "text": [
      "<class 'pandas.core.frame.DataFrame'>\n",
      "Int64Index: 7000 entries, 80034 to 136353\n",
      "Data columns (total 9 columns):\n",
      " #   Column        Non-Null Count  Dtype \n",
      "---  ------        --------------  ----- \n",
      " 0   date          7000 non-null   object\n",
      " 1   content       7000 non-null   object\n",
      " 2   replyCount    7000 non-null   int64 \n",
      " 3   retweetCount  7000 non-null   int64 \n",
      " 4   likeCount     7000 non-null   int64 \n",
      " 5   quoteCount    7000 non-null   int64 \n",
      " 6   sourceLabel   7000 non-null   object\n",
      " 7   hashtags      7000 non-null   object\n",
      " 8   Searh         7000 non-null   object\n",
      "dtypes: int64(4), object(5)\n",
      "memory usage: 546.9+ KB\n"
     ]
    }
   ],
   "source": [
    "ub_final = ub_data.sample(n=7000, replace=False, random_state=42)\n",
    "ub_final.info()"
   ]
  },
  {
   "cell_type": "markdown",
   "id": "fe5010e0",
   "metadata": {},
   "source": [
    "### Sixth File: 'Ukraine_nato' dataset"
   ]
  },
  {
   "cell_type": "code",
   "execution_count": 180,
   "id": "62451a1e",
   "metadata": {},
   "outputs": [],
   "source": [
    "un = pd.read_csv('data/Ukraine_nato.csv')"
   ]
  },
  {
   "cell_type": "markdown",
   "id": "4475dcfd",
   "metadata": {},
   "source": [
    "##### Select only English tweets"
   ]
  },
  {
   "cell_type": "code",
   "execution_count": 181,
   "id": "b6872a0f",
   "metadata": {},
   "outputs": [
    {
     "name": "stdout",
     "output_type": "stream",
     "text": [
      "<class 'pandas.core.frame.DataFrame'>\n",
      "Int64Index: 217862 entries, 0 to 245231\n",
      "Data columns (total 29 columns):\n",
      " #   Column            Non-Null Count   Dtype  \n",
      "---  ------            --------------   -----  \n",
      " 0   _type             217862 non-null  object \n",
      " 1   url               217862 non-null  object \n",
      " 2   date              217862 non-null  object \n",
      " 3   content           217862 non-null  object \n",
      " 4   renderedContent   217862 non-null  object \n",
      " 5   id                217862 non-null  int64  \n",
      " 6   user              217862 non-null  object \n",
      " 7   replyCount        217862 non-null  int64  \n",
      " 8   retweetCount      217862 non-null  int64  \n",
      " 9   likeCount         217862 non-null  int64  \n",
      " 10  quoteCount        217862 non-null  int64  \n",
      " 11  conversationId    217862 non-null  int64  \n",
      " 12  lang              217862 non-null  object \n",
      " 13  source            217862 non-null  object \n",
      " 14  sourceUrl         217862 non-null  object \n",
      " 15  sourceLabel       217862 non-null  object \n",
      " 16  outlinks          62803 non-null   object \n",
      " 17  tcooutlinks       62803 non-null   object \n",
      " 18  media             18365 non-null   object \n",
      " 19  retweetedTweet    0 non-null       float64\n",
      " 20  quotedTweet       17891 non-null   object \n",
      " 21  inReplyToTweetId  119183 non-null  float64\n",
      " 22  inReplyToUser     119183 non-null  object \n",
      " 23  mentionedUsers    132111 non-null  object \n",
      " 24  coordinates       2421 non-null    object \n",
      " 25  place             2421 non-null    object \n",
      " 26  hashtags          40134 non-null   object \n",
      " 27  cashtags          223 non-null     object \n",
      " 28  Searh             217862 non-null  object \n",
      "dtypes: float64(2), int64(6), object(21)\n",
      "memory usage: 49.9+ MB\n"
     ]
    }
   ],
   "source": [
    "un_en = un[un['lang']=='en']\n",
    "un_en.info()"
   ]
  },
  {
   "cell_type": "markdown",
   "id": "22c89227",
   "metadata": {},
   "source": [
    "##### Remove non-applicable columns"
   ]
  },
  {
   "cell_type": "code",
   "execution_count": 182,
   "id": "1001fa15",
   "metadata": {},
   "outputs": [
    {
     "data": {
      "text/plain": [
       "(217862, 9)"
      ]
     },
     "execution_count": 182,
     "metadata": {},
     "output_type": "execute_result"
    }
   ],
   "source": [
    "un_col = un_en[['date','content','replyCount','retweetCount','likeCount','quoteCount','sourceLabel', 'hashtags','Searh']]\n",
    "un_col.shape"
   ]
  },
  {
   "cell_type": "markdown",
   "id": "544f784d",
   "metadata": {},
   "source": [
    "##### Remove tweets with null values"
   ]
  },
  {
   "cell_type": "code",
   "execution_count": 183,
   "id": "e5c2be94",
   "metadata": {},
   "outputs": [
    {
     "data": {
      "text/plain": [
       "date                 0\n",
       "content              0\n",
       "replyCount           0\n",
       "retweetCount         0\n",
       "likeCount            0\n",
       "quoteCount           0\n",
       "sourceLabel          0\n",
       "hashtags        177728\n",
       "Searh                0\n",
       "dtype: int64"
      ]
     },
     "execution_count": 183,
     "metadata": {},
     "output_type": "execute_result"
    }
   ],
   "source": [
    "un_col.isnull().sum()"
   ]
  },
  {
   "cell_type": "code",
   "execution_count": 184,
   "id": "d77ab802",
   "metadata": {},
   "outputs": [
    {
     "data": {
      "text/plain": [
       "(40134, 9)"
      ]
     },
     "execution_count": 184,
     "metadata": {},
     "output_type": "execute_result"
    }
   ],
   "source": [
    "un_data = un_col.dropna(subset=['hashtags'])\n",
    "un_data.shape"
   ]
  },
  {
   "cell_type": "markdown",
   "id": "17beb3e2",
   "metadata": {},
   "source": [
    "##### Drop duplicates"
   ]
  },
  {
   "cell_type": "code",
   "execution_count": 185,
   "id": "0b015f30",
   "metadata": {},
   "outputs": [
    {
     "data": {
      "text/plain": [
       "(40134, 9)"
      ]
     },
     "execution_count": 185,
     "metadata": {},
     "output_type": "execute_result"
    }
   ],
   "source": [
    "un_data.drop_duplicates(keep='first',inplace=True)\n",
    "un_data.shape"
   ]
  },
  {
   "cell_type": "markdown",
   "id": "fe6a318f",
   "metadata": {},
   "source": [
    "##### Minimize dataset size"
   ]
  },
  {
   "cell_type": "code",
   "execution_count": 186,
   "id": "d819f726",
   "metadata": {},
   "outputs": [
    {
     "name": "stdout",
     "output_type": "stream",
     "text": [
      "<class 'pandas.core.frame.DataFrame'>\n",
      "Int64Index: 7000 entries, 98072 to 52428\n",
      "Data columns (total 9 columns):\n",
      " #   Column        Non-Null Count  Dtype \n",
      "---  ------        --------------  ----- \n",
      " 0   date          7000 non-null   object\n",
      " 1   content       7000 non-null   object\n",
      " 2   replyCount    7000 non-null   int64 \n",
      " 3   retweetCount  7000 non-null   int64 \n",
      " 4   likeCount     7000 non-null   int64 \n",
      " 5   quoteCount    7000 non-null   int64 \n",
      " 6   sourceLabel   7000 non-null   object\n",
      " 7   hashtags      7000 non-null   object\n",
      " 8   Searh         7000 non-null   object\n",
      "dtypes: int64(4), object(5)\n",
      "memory usage: 546.9+ KB\n"
     ]
    }
   ],
   "source": [
    "un_final = un_data.sample(n=7000, replace='False',random_state=42)\n",
    "un_final.info()"
   ]
  },
  {
   "cell_type": "markdown",
   "id": "54bb2b0f",
   "metadata": {},
   "source": [
    "### Seventh File: 'Ukraine_troops' dataset"
   ]
  },
  {
   "cell_type": "code",
   "execution_count": 187,
   "id": "8611343a",
   "metadata": {},
   "outputs": [],
   "source": [
    "ut = pd.read_csv('data/Ukraine_troops.csv')"
   ]
  },
  {
   "cell_type": "markdown",
   "id": "f1e2fa21",
   "metadata": {},
   "source": [
    "##### Select only English tweets"
   ]
  },
  {
   "cell_type": "code",
   "execution_count": 188,
   "id": "cb1dd9c9",
   "metadata": {},
   "outputs": [
    {
     "name": "stdout",
     "output_type": "stream",
     "text": [
      "<class 'pandas.core.frame.DataFrame'>\n",
      "Int64Index: 171479 entries, 0 to 172713\n",
      "Data columns (total 29 columns):\n",
      " #   Column            Non-Null Count   Dtype  \n",
      "---  ------            --------------   -----  \n",
      " 0   _type             171479 non-null  object \n",
      " 1   url               171479 non-null  object \n",
      " 2   date              171479 non-null  object \n",
      " 3   content           171479 non-null  object \n",
      " 4   renderedContent   171479 non-null  object \n",
      " 5   id                171479 non-null  int64  \n",
      " 6   user              171479 non-null  object \n",
      " 7   replyCount        171479 non-null  int64  \n",
      " 8   retweetCount      171479 non-null  int64  \n",
      " 9   likeCount         171479 non-null  int64  \n",
      " 10  quoteCount        171479 non-null  int64  \n",
      " 11  conversationId    171479 non-null  int64  \n",
      " 12  lang              171479 non-null  object \n",
      " 13  source            171479 non-null  object \n",
      " 14  sourceUrl         171479 non-null  object \n",
      " 15  sourceLabel       171479 non-null  object \n",
      " 16  outlinks          66106 non-null   object \n",
      " 17  tcooutlinks       66106 non-null   object \n",
      " 18  media             17731 non-null   object \n",
      " 19  retweetedTweet    0 non-null       float64\n",
      " 20  quotedTweet       11566 non-null   object \n",
      " 21  inReplyToTweetId  69672 non-null   float64\n",
      " 22  inReplyToUser     69672 non-null   object \n",
      " 23  mentionedUsers    80410 non-null   object \n",
      " 24  coordinates       1839 non-null    object \n",
      " 25  place             1839 non-null    object \n",
      " 26  hashtags          30454 non-null   object \n",
      " 27  cashtags          391 non-null     object \n",
      " 28  Searh             171479 non-null  object \n",
      "dtypes: float64(2), int64(6), object(21)\n",
      "memory usage: 39.2+ MB\n"
     ]
    }
   ],
   "source": [
    "ut_en = ut[ut['lang']=='en']\n",
    "ut_en.info()"
   ]
  },
  {
   "cell_type": "markdown",
   "id": "8c940dcf",
   "metadata": {},
   "source": [
    "##### Remove non-applicable columns"
   ]
  },
  {
   "cell_type": "code",
   "execution_count": 189,
   "id": "213df692",
   "metadata": {},
   "outputs": [
    {
     "data": {
      "text/plain": [
       "(171479, 9)"
      ]
     },
     "execution_count": 189,
     "metadata": {},
     "output_type": "execute_result"
    }
   ],
   "source": [
    "ut_col = ut_en[['date','content','replyCount','retweetCount','likeCount','quoteCount','sourceLabel', 'hashtags','Searh']]\n",
    "ut_col.shape"
   ]
  },
  {
   "cell_type": "markdown",
   "id": "a3896a38",
   "metadata": {},
   "source": [
    "##### Remove tweets with null values"
   ]
  },
  {
   "cell_type": "code",
   "execution_count": 190,
   "id": "58faed9c",
   "metadata": {},
   "outputs": [
    {
     "data": {
      "text/plain": [
       "date                 0\n",
       "content              0\n",
       "replyCount           0\n",
       "retweetCount         0\n",
       "likeCount            0\n",
       "quoteCount           0\n",
       "sourceLabel          0\n",
       "hashtags        141025\n",
       "Searh                0\n",
       "dtype: int64"
      ]
     },
     "execution_count": 190,
     "metadata": {},
     "output_type": "execute_result"
    }
   ],
   "source": [
    "ut_col.isnull().sum()"
   ]
  },
  {
   "cell_type": "code",
   "execution_count": 191,
   "id": "bf036999",
   "metadata": {},
   "outputs": [
    {
     "data": {
      "text/plain": [
       "(30454, 9)"
      ]
     },
     "execution_count": 191,
     "metadata": {},
     "output_type": "execute_result"
    }
   ],
   "source": [
    "ut_data = ut_col.dropna(subset=['hashtags'])\n",
    "ut_data.shape"
   ]
  },
  {
   "cell_type": "markdown",
   "id": "4d9dfea4",
   "metadata": {},
   "source": [
    "##### Drop duplicates"
   ]
  },
  {
   "cell_type": "code",
   "execution_count": 192,
   "id": "2a3e2db3",
   "metadata": {},
   "outputs": [
    {
     "data": {
      "text/plain": [
       "(30452, 9)"
      ]
     },
     "execution_count": 192,
     "metadata": {},
     "output_type": "execute_result"
    }
   ],
   "source": [
    "ut_data.drop_duplicates(keep='first',inplace=True)\n",
    "ut_data.shape"
   ]
  },
  {
   "cell_type": "markdown",
   "id": "f4bfb560",
   "metadata": {},
   "source": [
    "##### Minimize dataset size"
   ]
  },
  {
   "cell_type": "code",
   "execution_count": 193,
   "id": "b75c1569",
   "metadata": {},
   "outputs": [
    {
     "name": "stdout",
     "output_type": "stream",
     "text": [
      "<class 'pandas.core.frame.DataFrame'>\n",
      "Int64Index: 7000 entries, 167716 to 14589\n",
      "Data columns (total 9 columns):\n",
      " #   Column        Non-Null Count  Dtype \n",
      "---  ------        --------------  ----- \n",
      " 0   date          7000 non-null   object\n",
      " 1   content       7000 non-null   object\n",
      " 2   replyCount    7000 non-null   int64 \n",
      " 3   retweetCount  7000 non-null   int64 \n",
      " 4   likeCount     7000 non-null   int64 \n",
      " 5   quoteCount    7000 non-null   int64 \n",
      " 6   sourceLabel   7000 non-null   object\n",
      " 7   hashtags      7000 non-null   object\n",
      " 8   Searh         7000 non-null   object\n",
      "dtypes: int64(4), object(5)\n",
      "memory usage: 546.9+ KB\n"
     ]
    }
   ],
   "source": [
    "ut_final = ut_data.sample(n=7000, replace=False, random_state=42)\n",
    "ut_final.info()"
   ]
  },
  {
   "cell_type": "markdown",
   "id": "602218c0",
   "metadata": {},
   "source": [
    "### Eight File: 'Ukraine_war' dataset"
   ]
  },
  {
   "cell_type": "code",
   "execution_count": 194,
   "id": "ef162a4a",
   "metadata": {},
   "outputs": [],
   "source": [
    "uw = pd.read_csv('data/Ukraine_war.csv')"
   ]
  },
  {
   "cell_type": "markdown",
   "id": "de21a892",
   "metadata": {},
   "source": [
    "##### Select only English tweets"
   ]
  },
  {
   "cell_type": "code",
   "execution_count": 196,
   "id": "c0b8a81f",
   "metadata": {},
   "outputs": [
    {
     "name": "stdout",
     "output_type": "stream",
     "text": [
      "<class 'pandas.core.frame.DataFrame'>\n",
      "Int64Index: 219866 entries, 0 to 231623\n",
      "Data columns (total 29 columns):\n",
      " #   Column            Non-Null Count   Dtype  \n",
      "---  ------            --------------   -----  \n",
      " 0   _type             219866 non-null  object \n",
      " 1   url               219866 non-null  object \n",
      " 2   date              219866 non-null  object \n",
      " 3   content           219866 non-null  object \n",
      " 4   renderedContent   219866 non-null  object \n",
      " 5   id                219866 non-null  int64  \n",
      " 6   user              219866 non-null  object \n",
      " 7   replyCount        219866 non-null  int64  \n",
      " 8   retweetCount      219866 non-null  int64  \n",
      " 9   likeCount         219866 non-null  int64  \n",
      " 10  quoteCount        219866 non-null  int64  \n",
      " 11  conversationId    219866 non-null  int64  \n",
      " 12  lang              219866 non-null  object \n",
      " 13  source            219866 non-null  object \n",
      " 14  sourceUrl         219866 non-null  object \n",
      " 15  sourceLabel       219866 non-null  object \n",
      " 16  outlinks          72675 non-null   object \n",
      " 17  tcooutlinks       72675 non-null   object \n",
      " 18  media             19768 non-null   object \n",
      " 19  retweetedTweet    0 non-null       float64\n",
      " 20  quotedTweet       18122 non-null   object \n",
      " 21  inReplyToTweetId  101295 non-null  float64\n",
      " 22  inReplyToUser     101295 non-null  object \n",
      " 23  mentionedUsers    116020 non-null  object \n",
      " 24  coordinates       2677 non-null    object \n",
      " 25  place             2677 non-null    object \n",
      " 26  hashtags          39825 non-null   object \n",
      " 27  cashtags          666 non-null     object \n",
      " 28  Searh             219866 non-null  object \n",
      "dtypes: float64(2), int64(6), object(21)\n",
      "memory usage: 50.3+ MB\n"
     ]
    }
   ],
   "source": [
    "uw_en = uw[uw['lang']=='en']\n",
    "uw_en.info()"
   ]
  },
  {
   "cell_type": "markdown",
   "id": "488cf3c1",
   "metadata": {},
   "source": [
    "##### Remove non-applicable columns"
   ]
  },
  {
   "cell_type": "code",
   "execution_count": 197,
   "id": "1ef8c6ea",
   "metadata": {},
   "outputs": [
    {
     "data": {
      "text/plain": [
       "(219866, 9)"
      ]
     },
     "execution_count": 197,
     "metadata": {},
     "output_type": "execute_result"
    }
   ],
   "source": [
    "uw_col = uw_en[['date','content','replyCount','retweetCount','likeCount','quoteCount','sourceLabel', 'hashtags','Searh']]\n",
    "uw_col.shape"
   ]
  },
  {
   "cell_type": "markdown",
   "id": "9fa5ea66",
   "metadata": {},
   "source": [
    "##### Remove tweets with null values"
   ]
  },
  {
   "cell_type": "code",
   "execution_count": 198,
   "id": "51e5f674",
   "metadata": {},
   "outputs": [
    {
     "data": {
      "text/plain": [
       "date                 0\n",
       "content              0\n",
       "replyCount           0\n",
       "retweetCount         0\n",
       "likeCount            0\n",
       "quoteCount           0\n",
       "sourceLabel          0\n",
       "hashtags        180041\n",
       "Searh                0\n",
       "dtype: int64"
      ]
     },
     "execution_count": 198,
     "metadata": {},
     "output_type": "execute_result"
    }
   ],
   "source": [
    "uw_col.isnull().sum()"
   ]
  },
  {
   "cell_type": "code",
   "execution_count": 199,
   "id": "30ca48bc",
   "metadata": {},
   "outputs": [
    {
     "data": {
      "text/plain": [
       "(39825, 9)"
      ]
     },
     "execution_count": 199,
     "metadata": {},
     "output_type": "execute_result"
    }
   ],
   "source": [
    "uw_data = uw_col.dropna(subset = ['hashtags'])\n",
    "uw_data.shape"
   ]
  },
  {
   "cell_type": "markdown",
   "id": "00890a63",
   "metadata": {},
   "source": [
    "##### Drop duplicates"
   ]
  },
  {
   "cell_type": "code",
   "execution_count": 200,
   "id": "eb49b404",
   "metadata": {},
   "outputs": [
    {
     "data": {
      "text/plain": [
       "(39825, 9)"
      ]
     },
     "execution_count": 200,
     "metadata": {},
     "output_type": "execute_result"
    }
   ],
   "source": [
    "uw_data.drop_duplicates(keep='first',inplace=True)\n",
    "uw_data.shape"
   ]
  },
  {
   "cell_type": "markdown",
   "id": "571fe65c",
   "metadata": {},
   "source": [
    "##### Minimize dataset size"
   ]
  },
  {
   "cell_type": "code",
   "execution_count": 201,
   "id": "ff7f4650",
   "metadata": {},
   "outputs": [
    {
     "name": "stdout",
     "output_type": "stream",
     "text": [
      "<class 'pandas.core.frame.DataFrame'>\n",
      "Int64Index: 7000 entries, 160532 to 68304\n",
      "Data columns (total 9 columns):\n",
      " #   Column        Non-Null Count  Dtype \n",
      "---  ------        --------------  ----- \n",
      " 0   date          7000 non-null   object\n",
      " 1   content       7000 non-null   object\n",
      " 2   replyCount    7000 non-null   int64 \n",
      " 3   retweetCount  7000 non-null   int64 \n",
      " 4   likeCount     7000 non-null   int64 \n",
      " 5   quoteCount    7000 non-null   int64 \n",
      " 6   sourceLabel   7000 non-null   object\n",
      " 7   hashtags      7000 non-null   object\n",
      " 8   Searh         7000 non-null   object\n",
      "dtypes: int64(4), object(5)\n",
      "memory usage: 546.9+ KB\n"
     ]
    }
   ],
   "source": [
    "uw_final = uw_data.sample(n=7000, replace=False, random_state=42)\n",
    "uw_final.info()"
   ]
  },
  {
   "cell_type": "markdown",
   "id": "947e50c7",
   "metadata": {},
   "source": [
    "### Build the dataset by combining the eight files"
   ]
  },
  {
   "cell_type": "code",
   "execution_count": 202,
   "id": "6f0dae3b",
   "metadata": {},
   "outputs": [
    {
     "data": {
      "text/plain": [
       "(56000, 9)"
      ]
     },
     "execution_count": 202,
     "metadata": {},
     "output_type": "execute_result"
    }
   ],
   "source": [
    "files = [swu_final, ri_final, rbu_final, rt_final, ub_final, un_final, ut_final, uw_final]\n",
    "data = pd.concat(files)\n",
    "data.shape"
   ]
  },
  {
   "cell_type": "markdown",
   "id": "fe64ae85",
   "metadata": {},
   "source": [
    "### Remove time portion from the date-time column"
   ]
  },
  {
   "cell_type": "code",
   "execution_count": 75,
   "id": "a5bbe441",
   "metadata": {},
   "outputs": [
    {
     "data": {
      "text/plain": [
       "array(['2022-03-03', '2022-03-05', '2022-03-04', '2022-02-22',\n",
       "       '2022-02-08', '2022-02-17', '2022-03-02', '2022-02-26',\n",
       "       '2022-02-20', '2022-02-28', '2022-02-21', '2022-02-27',\n",
       "       '2022-01-24', '2022-02-23', '2022-01-26', '2022-03-01',\n",
       "       '2022-01-22', '2022-02-24', '2022-01-23', '2022-02-25',\n",
       "       '2022-01-28', '2022-01-25', '2022-02-13', '2022-02-16',\n",
       "       '2022-01-19', '2022-02-14', '2022-02-18', '2022-02-05',\n",
       "       '2022-02-12', '2022-01-27', '2022-02-15', '2022-02-02',\n",
       "       '2022-02-19', '2022-01-29', '2022-02-03', '2022-02-07',\n",
       "       '2022-02-09', '2022-02-10', '2022-01-31', '2022-02-01',\n",
       "       '2022-01-30', '2022-02-11', '2022-02-04', '2022-01-07',\n",
       "       '2022-02-06', '2022-01-21', '2022-01-14', '2022-01-20',\n",
       "       '2022-01-15', '2022-01-17', '2022-01-13', '2022-01-11',\n",
       "       '2021-12-31', '2022-01-18', '2022-01-12', '2022-01-10',\n",
       "       '2022-01-05', '2022-01-02', '2022-01-04', '2022-01-08',\n",
       "       '2022-01-16', '2022-01-09', '2022-01-03', '2022-01-06',\n",
       "       '2022-01-01'], dtype=object)"
      ]
     },
     "execution_count": 75,
     "metadata": {},
     "output_type": "execute_result"
    }
   ],
   "source": [
    "data['date'] = data.date.str.slice(0,10)\n",
    "data['date'].unique()"
   ]
  },
  {
   "cell_type": "markdown",
   "id": "919d0793",
   "metadata": {},
   "source": [
    "### Create features using Sentiment Analysis\n",
    "(Note this method follows [satyajit1910](https://www.geeksforgeeks.org/twitter-sentiment-analysis-on-russia-ukraine-war-using-python/))"
   ]
  },
  {
   "cell_type": "markdown",
   "id": "c66819da",
   "metadata": {},
   "source": [
    "##### Remove RT, punctuation, etc from tweet"
   ]
  },
  {
   "cell_type": "code",
   "execution_count": 76,
   "id": "38cf2b6d",
   "metadata": {},
   "outputs": [
    {
     "data": {
      "text/plain": [
       "25804     Standing in front of the Senate House, to #Sta...\n",
       "7747      @elingenieritu Putin is Trump's idol. @Russia ...\n",
       "19173     @ragipsoylu It’s just like, your people are ki...\n",
       "113401    What a sad day. I’m with Ukraine. I stand with...\n",
       "138047    Now, from 🇺🇦 SHMURATKO.\\n\\nSuperb airy jumps, ...\n",
       "129237    Good to stand with #Ukraine MPs 🇺🇦 @lesiavasyl...\n",
       "30733     Statement by K2 Integrity Co-CEOs Jeremy Kroll...\n",
       "71996     26/02/2022 #StandWithUkraine *verified* https:...\n",
       "34923     The situation in Kyiv shows why second amendme...\n",
       "121840    #StandWithUkraine prayers with you all. The Ru...\n",
       "Name: content, dtype: object"
      ]
     },
     "execution_count": 76,
     "metadata": {},
     "output_type": "execute_result"
    }
   ],
   "source": [
    "# Examine tweets before cleaning\n",
    "data['content'][0:10]"
   ]
  },
  {
   "cell_type": "code",
   "execution_count": 209,
   "id": "96faa716",
   "metadata": {},
   "outputs": [],
   "source": [
    "def remove_rt(x): return re.sub('RT @\\w+: ', \" \", x)\n",
    " \n",
    "def rt(x): return re.sub(\n",
    "    \"(@[A-Za-z0-9]+)|([^0-9A-Za-z \\t])|(\\w+:\\/\\/\\S+)\", \" \", x)\n",
    "\n",
    "data[\"content\"] = data.content.map(remove_rt).map(rt)\n",
    "data[\"content\"] = data.content.str.lower()"
   ]
  },
  {
   "cell_type": "code",
   "execution_count": 210,
   "id": "cdcb5257",
   "metadata": {},
   "outputs": [
    {
     "data": {
      "text/plain": [
       "25804     standing in front of the senate house  to  sta...\n",
       "7747        putin is trump s idol    need to overthrow h...\n",
       "19173       it s just like  your people are killed  none...\n",
       "113401    what a sad day  i m with ukraine  i stand with...\n",
       "138047    now  from    shmuratko   superb airy jumps  wi...\n",
       "129237    good to stand with  ukraine mps      and   shk...\n",
       "30733     statement by k2 integrity co ceos jeremy kroll...\n",
       "71996             26 02 2022  standwithukraine  verified   \n",
       "34923     the situation in kyiv shows why second amendme...\n",
       "121840     standwithukraine prayers with you all  the ru...\n",
       "Name: content, dtype: object"
      ]
     },
     "execution_count": 210,
     "metadata": {},
     "output_type": "execute_result"
    }
   ],
   "source": [
    "# Examine tweets after cleaning\n",
    "data['content'][0:10]"
   ]
  },
  {
   "cell_type": "markdown",
   "id": "e77b0e22",
   "metadata": {},
   "source": [
    "##### Perform Sentiment Analysis using TextBlob library - add feature column classifying each tweet by 'sentiment'"
   ]
  },
  {
   "cell_type": "code",
   "execution_count": 211,
   "id": "bff7f87e",
   "metadata": {},
   "outputs": [
    {
     "data": {
      "text/html": [
       "<div>\n",
       "<style scoped>\n",
       "    .dataframe tbody tr th:only-of-type {\n",
       "        vertical-align: middle;\n",
       "    }\n",
       "\n",
       "    .dataframe tbody tr th {\n",
       "        vertical-align: top;\n",
       "    }\n",
       "\n",
       "    .dataframe thead th {\n",
       "        text-align: right;\n",
       "    }\n",
       "</style>\n",
       "<table border=\"1\" class=\"dataframe\">\n",
       "  <thead>\n",
       "    <tr style=\"text-align: right;\">\n",
       "      <th></th>\n",
       "      <th>content</th>\n",
       "      <th>sentiment</th>\n",
       "      <th>polarity</th>\n",
       "      <th>subjectivity</th>\n",
       "      <th>neg</th>\n",
       "      <th>neu</th>\n",
       "      <th>pos</th>\n",
       "    </tr>\n",
       "  </thead>\n",
       "  <tbody>\n",
       "    <tr>\n",
       "      <th>25804</th>\n",
       "      <td>standing in front of the senate house  to  sta...</td>\n",
       "      <td>negative</td>\n",
       "      <td>0.000000</td>\n",
       "      <td>0.000000</td>\n",
       "      <td>0.000</td>\n",
       "      <td>1.000</td>\n",
       "      <td>0.000</td>\n",
       "    </tr>\n",
       "    <tr>\n",
       "      <th>7747</th>\n",
       "      <td>putin is trump s idol    need to overthrow h...</td>\n",
       "      <td>negative</td>\n",
       "      <td>0.000000</td>\n",
       "      <td>0.000000</td>\n",
       "      <td>0.000</td>\n",
       "      <td>1.000</td>\n",
       "      <td>0.000</td>\n",
       "    </tr>\n",
       "    <tr>\n",
       "      <th>19173</th>\n",
       "      <td>it s just like  your people are killed  none...</td>\n",
       "      <td>negative</td>\n",
       "      <td>-0.140000</td>\n",
       "      <td>0.473333</td>\n",
       "      <td>0.124</td>\n",
       "      <td>0.779</td>\n",
       "      <td>0.096</td>\n",
       "    </tr>\n",
       "    <tr>\n",
       "      <th>113401</th>\n",
       "      <td>what a sad day  i m with ukraine  i stand with...</td>\n",
       "      <td>negative</td>\n",
       "      <td>-0.500000</td>\n",
       "      <td>1.000000</td>\n",
       "      <td>0.279</td>\n",
       "      <td>0.721</td>\n",
       "      <td>0.000</td>\n",
       "    </tr>\n",
       "    <tr>\n",
       "      <th>138047</th>\n",
       "      <td>now  from    shmuratko   superb airy jumps  wi...</td>\n",
       "      <td>positive</td>\n",
       "      <td>0.833333</td>\n",
       "      <td>0.883333</td>\n",
       "      <td>0.000</td>\n",
       "      <td>0.582</td>\n",
       "      <td>0.418</td>\n",
       "    </tr>\n",
       "  </tbody>\n",
       "</table>\n",
       "</div>"
      ],
      "text/plain": [
       "                                                  content sentiment  polarity  \\\n",
       "25804   standing in front of the senate house  to  sta...  negative  0.000000   \n",
       "7747      putin is trump s idol    need to overthrow h...  negative  0.000000   \n",
       "19173     it s just like  your people are killed  none...  negative -0.140000   \n",
       "113401  what a sad day  i m with ukraine  i stand with...  negative -0.500000   \n",
       "138047  now  from    shmuratko   superb airy jumps  wi...  positive  0.833333   \n",
       "\n",
       "        subjectivity    neg    neu    pos  \n",
       "25804       0.000000  0.000  1.000  0.000  \n",
       "7747        0.000000  0.000  1.000  0.000  \n",
       "19173       0.473333  0.124  0.779  0.096  \n",
       "113401      1.000000  0.279  0.721  0.000  \n",
       "138047      0.883333  0.000  0.582  0.418  "
      ]
     },
     "execution_count": 211,
     "metadata": {},
     "output_type": "execute_result"
    }
   ],
   "source": [
    "data[['polarity', 'subjectivity']] = data['content'].apply(\n",
    "    lambda Text: pd.Series(TextBlob(Text).sentiment))\n",
    " \n",
    "for index, row in data['content'].iteritems():\n",
    "    score = SentimentIntensityAnalyzer().polarity_scores(row)\n",
    "    neg = score['neg']\n",
    "    neu = score['neu']\n",
    "    pos = score['pos']\n",
    "    comp = score['compound']\n",
    "     \n",
    "    if pos > neg:\n",
    "        data.loc[index, 'sentiment'] = \"positive\"\n",
    "    else:\n",
    "        data.loc[index, 'sentiment'] = \"negative\"\n",
    "         \n",
    "    data.loc[index, 'neg'] = neg\n",
    "    data.loc[index, 'neu'] = neu\n",
    "    data.loc[index, 'pos'] = pos\n",
    "    data.loc[index, 'compound'] = comp\n",
    "\n",
    "data[[\"content\", \"sentiment\", \"polarity\",\"subjectivity\", \"neg\", \"neu\", \"pos\"]].head(5)  "
   ]
  },
  {
   "cell_type": "markdown",
   "id": "b731701b",
   "metadata": {},
   "source": [
    "##### Visualize the Results"
   ]
  },
  {
   "cell_type": "code",
   "execution_count": 212,
   "id": "fbcb3f59",
   "metadata": {},
   "outputs": [
    {
     "data": {
      "image/png": "[encoded data removed]",
      "text/plain": [
       "<Figure size 640x480 with 1 Axes>"
      ]
     },
     "metadata": {},
     "output_type": "display_data"
    },
    {
     "data": {
      "text/plain": [
       "<Figure size 640x480 with 0 Axes>"
      ]
     },
     "metadata": {},
     "output_type": "display_data"
    }
   ],
   "source": [
    "total_pos = len(data.loc[data['sentiment']=='positive'])\n",
    "total_neg = len(data.loc[data['sentiment']=='negative'])\n",
    "total_tweets = len(data)\n",
    "pie_data = [total_pos/total_tweets, total_neg/total_tweets]\n",
    "keys = ['Pro-Ukraine', 'Other']\n",
    "mycolors = ['royalblue','khaki']\n",
    "plt.pie(pie_data, labels=keys, colors=mycolors, autopct='%.0f%%')\n",
    "plt.title('Classification of Tweets by Sentiment')\n",
    "plt.show()\n",
    "plt.savefig('images/pie_tweets');"
   ]
  },
  {
   "cell_type": "code",
   "execution_count": 95,
   "id": "f35c3362",
   "metadata": {},
   "outputs": [
    {
     "data": {
      "text/plain": [
       "array(['StandWithUkraine', 'Russia invade', 'Russian border Ukraine',\n",
       "       'Russian troops', 'Ukraine border', 'Ukraine NATO',\n",
       "       'Ukraine troops', 'Ukraine war'], dtype=object)"
      ]
     },
     "execution_count": 95,
     "metadata": {},
     "output_type": "execute_result"
    }
   ],
   "source": [
    "data['Searh'].unique()"
   ]
  },
  {
   "cell_type": "code",
   "execution_count": 100,
   "id": "eb4c02ba",
   "metadata": {},
   "outputs": [
    {
     "data": {
      "image/png": "[encoded data removed]",
      "text/plain": [
       "<Figure size 640x480 with 1 Axes>"
      ]
     },
     "metadata": {},
     "output_type": "display_data"
    }
   ],
   "source": [
    "pos_sent = data[data['sentiment']=='positive']\n",
    "total_sent = len(pos_sent)\n",
    "swu_pos = len(pos_sent.loc[pos_sent['Searh']=='StandWithUkraine'])\n",
    "ri_pos = len(pos_sent.loc[pos_sent['Searh']=='Russia invade'])\n",
    "rbu_pos = len(pos_sent.loc[pos_sent['Searh']=='Russian border Ukraine'])\n",
    "rt_pos = len(pos_sent.loc[pos_sent['Searh']=='Russian troops'])\n",
    "ub_pos = len(pos_sent.loc[pos_sent['Searh']=='Ukraine border'])\n",
    "un_pos = len(pos_sent.loc[pos_sent['Searh']=='Ukraine NATO'])\n",
    "ut_pos = len(pos_sent.loc[pos_sent['Searh']=='Ukraine troops'])\n",
    "uw_pos = len(pos_sent.loc[pos_sent['Searh']=='Ukraine war'])\n",
    "pie_data2 = [swu_pos/total_sent, ri_pos/total_sent, rbu_pos/total_sent, rt_pos/total_sent, ub_pos/total_sent,\n",
    "            un_pos/total_sent, ut_pos/total_sent, uw_pos/total_sent]\n",
    "\n",
    "keys = ['StandWithUkraine', 'RussiaInvade', 'RussianBorderUkraine', 'RussianTroops', 'UkraineBorder','UkraineNATO',\n",
    "       'UkrainTroops','UkraineWar']\n",
    "plt.pie(pie_data2, labels=keys, autopct='%.0f%%')\n",
    "plt.title('Pro-Ukrainian Tweets by HashTag')\n",
    "plt.show()"
   ]
  },
  {
   "cell_type": "markdown",
   "id": "64b731da",
   "metadata": {},
   "source": [
    "### Explore other features"
   ]
  },
  {
   "cell_type": "code",
   "execution_count": 111,
   "id": "d8c8ac34",
   "metadata": {},
   "outputs": [
    {
     "data": {
      "image/png": "[encoded data removed]",
      "text/plain": [
       "<Figure size 640x480 with 1 Axes>"
      ]
     },
     "metadata": {},
     "output_type": "display_data"
    }
   ],
   "source": [
    "# date\n",
    "sns.countplot(x = 'date', data=data, hue='sentiment')\n",
    "plt.xticks(visible=False)\n",
    "plt.title('Sentiment by Date (Note Dates are NOT in order)')\n",
    "plt.show()"
   ]
  },
  {
   "cell_type": "code",
   "execution_count": 116,
   "id": "dfc451fb",
   "metadata": {},
   "outputs": [
    {
     "data": {
      "image/png": "[encoded data removed]",
      "text/plain": [
       "<Figure size 640x480 with 1 Axes>"
      ]
     },
     "metadata": {},
     "output_type": "display_data"
    }
   ],
   "source": [
    "# reply count\n",
    "sns.boxplot(x='sentiment', y='replyCount', data=data)\n",
    "plt.ylim(0,25)\n",
    "plt.title('Number of Replies for Negative and Positive Tweets');"
   ]
  },
  {
   "cell_type": "code",
   "execution_count": 117,
   "id": "9f874686",
   "metadata": {},
   "outputs": [
    {
     "data": {
      "image/png": "[encoded data removed]",
      "text/plain": [
       "<Figure size 640x480 with 1 Axes>"
      ]
     },
     "metadata": {},
     "output_type": "display_data"
    }
   ],
   "source": [
    "# retweet count\n",
    "sns.boxplot(x='sentiment', y='retweetCount', data=data)\n",
    "plt.ylim(0,25)\n",
    "plt.title('Number of Retweets for Negative and Positive Tweets');"
   ]
  },
  {
   "cell_type": "code",
   "execution_count": 118,
   "id": "5e52d333",
   "metadata": {},
   "outputs": [
    {
     "data": {
      "image/png": "[encoded data removed]",
      "text/plain": [
       "<Figure size 640x480 with 1 Axes>"
      ]
     },
     "metadata": {},
     "output_type": "display_data"
    }
   ],
   "source": [
    "# like count\n",
    "sns.boxplot(x='sentiment', y='likeCount', data=data)\n",
    "plt.ylim(0,25)\n",
    "plt.title('Number of Likes for Negative and Positive Tweets');"
   ]
  },
  {
   "cell_type": "code",
   "execution_count": 120,
   "id": "dcaa4080",
   "metadata": {},
   "outputs": [
    {
     "data": {
      "image/png": "[encoded data removed]",
      "text/plain": [
       "<Figure size 640x480 with 1 Axes>"
      ]
     },
     "metadata": {},
     "output_type": "display_data"
    }
   ],
   "source": [
    "# quote count\n",
    "sns.boxplot(x='sentiment', y='quoteCount', data=data)\n",
    "plt.ylim(0,5)\n",
    "plt.title('Number of Quotes for Negative and Positive Tweets');"
   ]
  },
  {
   "cell_type": "code",
   "execution_count": 122,
   "id": "3fdf36b3",
   "metadata": {},
   "outputs": [
    {
     "data": {
      "text/plain": [
       "Twitter Web App              20794\n",
       "Twitter for iPhone           13416\n",
       "Twitter for Android          12924\n",
       "Twitter for iPad              1510\n",
       "TweetDeck                     1447\n",
       "                             ...  \n",
       "Hypefury                         1\n",
       "Denim Social - Publishing        1\n",
       "ETFWorld.co.uk                   1\n",
       "StockSwapApp                     1\n",
       "omgoa                            1\n",
       "Name: sourceLabel, Length: 417, dtype: int64"
      ]
     },
     "execution_count": 122,
     "metadata": {},
     "output_type": "execute_result"
    }
   ],
   "source": [
    "# SourceLabel\n",
    "data['sourceLabel'].value_counts()"
   ]
  },
  {
   "cell_type": "code",
   "execution_count": 123,
   "id": "e8aa835d",
   "metadata": {},
   "outputs": [
    {
     "data": {
      "text/plain": [
       "Twitter Web App        20794\n",
       "Twitter for iPhone     13416\n",
       "Twitter for Android    12924\n",
       "Twitter for iPad        1510\n",
       "TweetDeck               1447\n",
       "Name: sourceLabel, dtype: int64"
      ]
     },
     "execution_count": 123,
     "metadata": {},
     "output_type": "execute_result"
    }
   ],
   "source": [
    "# elminate tweets with only 1 unique value\n",
    "list = ['Twitter Web App', 'Twitter for iPhone', 'Twitter for Android', 'Twitter for iPad', 'TweetDeck']\n",
    "data_pp = data[data['sourceLabel'].isin(list)]\n",
    "data_pp['sourceLabel'].value_counts()"
   ]
  },
  {
   "cell_type": "code",
   "execution_count": 127,
   "id": "d9e08a56",
   "metadata": {},
   "outputs": [
    {
     "data": {
      "image/png": "[encoded data removed]",
      "text/plain": [
       "<Figure size 640x480 with 1 Axes>"
      ]
     },
     "metadata": {},
     "output_type": "display_data"
    }
   ],
   "source": [
    "sns.countplot(x='sourceLabel', data=data_pp, hue = 'sentiment')\n",
    "plt.xticks(rotation=90)\n",
    "plt.title('Comparison of Sentiment by Source');"
   ]
  },
  {
   "cell_type": "markdown",
   "id": "24300379",
   "metadata": {},
   "source": [
    "##### Need to deal with hashtag feature but need to apply an NLP model"
   ]
  },
  {
   "cell_type": "markdown",
   "id": "ab5b270b",
   "metadata": {},
   "source": [
    "## Modeling"
   ]
  },
  {
   "cell_type": "markdown",
   "id": "e9493213",
   "metadata": {},
   "source": [
    "### Build training and test sets\n",
    "* Eliminate hashtag - still needs preprocessing\n",
    "* Elminate quoteCount - zero for both sentiments, useless"
   ]
  },
  {
   "cell_type": "code",
   "execution_count": 128,
   "id": "78b56e15",
   "metadata": {},
   "outputs": [],
   "source": [
    "X = data_pp[['date','replyCount','retweetCount', 'likeCount', 'sourceLabel', 'Searh']]\n",
    "y = data_pp['sentiment']"
   ]
  },
  {
   "cell_type": "code",
   "execution_count": 129,
   "id": "eb8a6985",
   "metadata": {},
   "outputs": [],
   "source": [
    "X_train,X_test,y_train,y_test = train_test_split(X,y,random_state=42, stratify=y)"
   ]
  },
  {
   "cell_type": "markdown",
   "id": "50cf0863",
   "metadata": {},
   "source": [
    "### Build a Baseline Model"
   ]
  },
  {
   "cell_type": "code",
   "execution_count": 130,
   "id": "116ff5e0",
   "metadata": {},
   "outputs": [
    {
     "data": {
      "text/plain": [
       "negative    0.688333\n",
       "positive    0.311667\n",
       "Name: sentiment, dtype: float64"
      ]
     },
     "execution_count": 130,
     "metadata": {},
     "output_type": "execute_result"
    }
   ],
   "source": [
    "y_test.value_counts(normalize=True)"
   ]
  },
  {
   "cell_type": "markdown",
   "id": "e5de2e3e",
   "metadata": {},
   "source": [
    "### Make a Column Transformer"
   ]
  },
  {
   "cell_type": "code",
   "execution_count": 131,
   "id": "92230c72",
   "metadata": {},
   "outputs": [],
   "source": [
    "# Convert oject columns to a numeric value\n",
    "# Scale the numeric column\n",
    "selector = make_column_selector(dtype_include=object)    # Select the object categories\n",
    "transformer = make_column_transformer((OneHotEncoder(),selector), remainder=StandardScaler())"
   ]
  },
  {
   "cell_type": "markdown",
   "id": "1394bf21",
   "metadata": {},
   "source": [
    "### Classification Model Using Logistic Regression"
   ]
  },
  {
   "cell_type": "code",
   "execution_count": 133,
   "id": "cebb92bd",
   "metadata": {},
   "outputs": [],
   "source": [
    "lr_pipe = Pipeline([\n",
    "    ('transform', transformer),\n",
    "    ('lr', LogisticRegression(max_iter = 10000, random_state=42))\n",
    "]).fit(X_train,y_train)"
   ]
  },
  {
   "cell_type": "code",
   "execution_count": 134,
   "id": "891589b5",
   "metadata": {},
   "outputs": [
    {
     "name": "stdout",
     "output_type": "stream",
     "text": [
      "0.6883251703577513 0.6880939072107323\n"
     ]
    }
   ],
   "source": [
    "lr_train_acc = lr_pipe.score(X_train,y_train)\n",
    "lr_test_acc = lr_pipe.score(X_test,y_test)\n",
    "print(lr_train_acc,lr_test_acc)"
   ]
  },
  {
   "cell_type": "code",
   "execution_count": 139,
   "id": "c4122d40",
   "metadata": {},
   "outputs": [
    {
     "data": {
      "text/html": [
       "<div>\n",
       "<style scoped>\n",
       "    .dataframe tbody tr th:only-of-type {\n",
       "        vertical-align: middle;\n",
       "    }\n",
       "\n",
       "    .dataframe tbody tr th {\n",
       "        vertical-align: top;\n",
       "    }\n",
       "\n",
       "    .dataframe thead th {\n",
       "        text-align: right;\n",
       "    }\n",
       "</style>\n",
       "<table border=\"1\" class=\"dataframe\">\n",
       "  <thead>\n",
       "    <tr style=\"text-align: right;\">\n",
       "      <th></th>\n",
       "      <th>feature</th>\n",
       "      <th>coefs</th>\n",
       "    </tr>\n",
       "  </thead>\n",
       "  <tbody>\n",
       "    <tr>\n",
       "      <th>68</th>\n",
       "      <td>Searh_Ukraine war</td>\n",
       "      <td>1.057207</td>\n",
       "    </tr>\n",
       "    <tr>\n",
       "      <th>2</th>\n",
       "      <td>date_2022-01-05</td>\n",
       "      <td>0.509284</td>\n",
       "    </tr>\n",
       "    <tr>\n",
       "      <th>31</th>\n",
       "      <td>date_2022-02-05</td>\n",
       "      <td>0.489166</td>\n",
       "    </tr>\n",
       "    <tr>\n",
       "      <th>0</th>\n",
       "      <td>date_2021-12-31</td>\n",
       "      <td>0.411564</td>\n",
       "    </tr>\n",
       "    <tr>\n",
       "      <th>1</th>\n",
       "      <td>date_2022-01-03</td>\n",
       "      <td>0.406030</td>\n",
       "    </tr>\n",
       "    <tr>\n",
       "      <th>3</th>\n",
       "      <td>date_2022-01-06</td>\n",
       "      <td>0.395772</td>\n",
       "    </tr>\n",
       "    <tr>\n",
       "      <th>8</th>\n",
       "      <td>date_2022-01-11</td>\n",
       "      <td>0.348758</td>\n",
       "    </tr>\n",
       "    <tr>\n",
       "      <th>65</th>\n",
       "      <td>Searh_StandWithUkraine</td>\n",
       "      <td>0.292974</td>\n",
       "    </tr>\n",
       "    <tr>\n",
       "      <th>9</th>\n",
       "      <td>date_2022-01-12</td>\n",
       "      <td>0.279454</td>\n",
       "    </tr>\n",
       "    <tr>\n",
       "      <th>15</th>\n",
       "      <td>date_2022-01-18</td>\n",
       "      <td>0.273146</td>\n",
       "    </tr>\n",
       "  </tbody>\n",
       "</table>\n",
       "</div>"
      ],
      "text/plain": [
       "                   feature     coefs\n",
       "68       Searh_Ukraine war  1.057207\n",
       "2          date_2022-01-05  0.509284\n",
       "31         date_2022-02-05  0.489166\n",
       "0          date_2021-12-31  0.411564\n",
       "1          date_2022-01-03  0.406030\n",
       "3          date_2022-01-06  0.395772\n",
       "8          date_2022-01-11  0.348758\n",
       "65  Searh_StandWithUkraine  0.292974\n",
       "9          date_2022-01-12  0.279454\n",
       "15         date_2022-01-18  0.273146"
      ]
     },
     "execution_count": 139,
     "metadata": {},
     "output_type": "execute_result"
    }
   ],
   "source": [
    "extractor = SelectFromModel(LogisticRegression(penalty='l1',solver='liblinear',random_state=42))\n",
    "lr_pipe = Pipeline([\n",
    "    ('transform', transformer),\n",
    "    ('extractor', extractor),\n",
    "    ('lr', LogisticRegression(max_iter = 10000, random_state=42))\n",
    "]).fit(X_train,y_train)\n",
    "feature_names = lr_pipe.named_steps['transform'].get_feature_names_out() \n",
    "selected_features =feature_names[ [int(i[1:]) for i in lr_pipe.named_steps['extractor'].get_feature_names_out()]]\n",
    "clean_names = [i.split('__')[-1] for i in selected_features]\n",
    "coef_df = pd.DataFrame({'feature': clean_names, 'coefs': lr_pipe.named_steps['lr'].coef_[0]})\n",
    "coef_df['coefs'] = coef_df['coefs'].apply(abs)\n",
    "coef_df = coef_df.sort_values(by = 'coefs', ascending = False)\n",
    "coef_df[0:10]"
   ]
  },
  {
   "cell_type": "markdown",
   "id": "24210af2",
   "metadata": {},
   "source": [
    "### Classification Model using K-Nearest Neighbors"
   ]
  },
  {
   "cell_type": "code",
   "execution_count": 137,
   "id": "1fbf4428",
   "metadata": {},
   "outputs": [
    {
     "data": {
      "text/plain": [
       "{'knn__n_neighbors': 6}"
      ]
     },
     "execution_count": 137,
     "metadata": {},
     "output_type": "execute_result"
    }
   ],
   "source": [
    "knn_params = {'knn__n_neighbors':np.array(range(1,10,5))}\n",
    "\n",
    "knn_pipe = Pipeline([\n",
    "    ('transform', transformer),\n",
    "    ('knn', KNeighborsClassifier())\n",
    "])\n",
    "\n",
    "import warnings\n",
    "warnings.filterwarnings('ignore')\n",
    "knn_grid = GridSearchCV(knn_pipe,param_grid = knn_params).fit(X_train,y_train)\n",
    "knn_grid.best_params_"
   ]
  },
  {
   "cell_type": "code",
   "execution_count": 141,
   "id": "22ed6199",
   "metadata": {},
   "outputs": [],
   "source": [
    "# Run the model with optimum k value\n",
    "knn_pipe = Pipeline([\n",
    "    ('transform', transformer),\n",
    "    ('knn', KNeighborsClassifier(n_neighbors=6))\n",
    "]).fit(X_train,y_train)"
   ]
  },
  {
   "cell_type": "code",
   "execution_count": 142,
   "id": "d824b0be",
   "metadata": {},
   "outputs": [
    {
     "name": "stdout",
     "output_type": "stream",
     "text": [
      "0.7178715928449745 0.6676515212009901\n"
     ]
    }
   ],
   "source": [
    "knn_train_preds = knn_pipe.predict(X_train)\n",
    "knn_train_acc = accuracy_score(y_train,knn_train_preds)\n",
    "knn_test_preds = knn_pipe.predict(X_test)\n",
    "knn_test_acc = accuracy_score(y_test,knn_test_preds)\n",
    "print(knn_train_acc,knn_test_acc)"
   ]
  },
  {
   "cell_type": "code",
   "execution_count": 143,
   "id": "d726945d",
   "metadata": {},
   "outputs": [
    {
     "data": {
      "image/png": "[encoded data removed]",
      "text/plain": [
       "<Figure size 640x480 with 2 Axes>"
      ]
     },
     "metadata": {},
     "output_type": "display_data"
    }
   ],
   "source": [
    "knn_confusion_mat  = confusion_matrix(y_test, knn_test_preds, labels=knn_pipe.classes_)\n",
    "disp = ConfusionMatrixDisplay(confusion_matrix=knn_confusion_mat ,display_labels = ['no', 'yes'])\n",
    "disp.plot()\n",
    "plt.show()"
   ]
  },
  {
   "cell_type": "markdown",
   "id": "94e12421",
   "metadata": {},
   "source": [
    "### Classification Model using Decision Trees"
   ]
  },
  {
   "cell_type": "code",
   "execution_count": 203,
   "id": "5d6b75ff",
   "metadata": {},
   "outputs": [
    {
     "data": {
      "text/plain": [
       "{'dt__max_depth': 3}"
      ]
     },
     "execution_count": 203,
     "metadata": {},
     "output_type": "execute_result"
    }
   ],
   "source": [
    "dt_pipe = Pipeline([\n",
    "    ('transform', transformer),\n",
    "    ('dt', DecisionTreeClassifier())\n",
    "])\n",
    "dt_params = {'dt__max_depth': ['None', 3,8,12]}\n",
    "dt_grid = GridSearchCV(dt_pipe,param_grid=dt_params).fit(X_train,y_train)\n",
    "dt_grid.best_params_"
   ]
  },
  {
   "cell_type": "code",
   "execution_count": 205,
   "id": "6488131a",
   "metadata": {},
   "outputs": [],
   "source": [
    "# Run the model using optimum max_depth\n",
    "dt_pipe = Pipeline([\n",
    "    ('transform', transformer),\n",
    "    ('dt', DecisionTreeClassifier(max_depth = 3))\n",
    "]).fit(X_train,y_train)"
   ]
  },
  {
   "cell_type": "code",
   "execution_count": 206,
   "id": "c08e8e83",
   "metadata": {},
   "outputs": [
    {
     "name": "stdout",
     "output_type": "stream",
     "text": [
      "0.6882985519591142 0.688333466421784\n"
     ]
    }
   ],
   "source": [
    "dt_train_acc = dt_pipe.score(X_train,y_train)\n",
    "dt_test_acc = dt_pipe.score(X_test,y_test)\n",
    "print(dt_train_acc,dt_test_acc)"
   ]
  },
  {
   "cell_type": "markdown",
   "id": "93a64d8e",
   "metadata": {},
   "source": [
    "## Evaluation"
   ]
  },
  {
   "cell_type": "markdown",
   "id": "d56938c9",
   "metadata": {},
   "source": [
    "##### Build a Table to Compare Model Results"
   ]
  },
  {
   "cell_type": "code",
   "execution_count": 207,
   "id": "3800c98d",
   "metadata": {},
   "outputs": [
    {
     "data": {
      "text/html": [
       "<div>\n",
       "<style scoped>\n",
       "    .dataframe tbody tr th:only-of-type {\n",
       "        vertical-align: middle;\n",
       "    }\n",
       "\n",
       "    .dataframe tbody tr th {\n",
       "        vertical-align: top;\n",
       "    }\n",
       "\n",
       "    .dataframe thead th {\n",
       "        text-align: right;\n",
       "    }\n",
       "</style>\n",
       "<table border=\"1\" class=\"dataframe\">\n",
       "  <thead>\n",
       "    <tr style=\"text-align: right;\">\n",
       "      <th></th>\n",
       "      <th>Train Accuracy</th>\n",
       "      <th>Test Accuracy</th>\n",
       "    </tr>\n",
       "    <tr>\n",
       "      <th>Model</th>\n",
       "      <th></th>\n",
       "      <th></th>\n",
       "    </tr>\n",
       "  </thead>\n",
       "  <tbody>\n",
       "    <tr>\n",
       "      <th>Logistic Regression</th>\n",
       "      <td>0.688325</td>\n",
       "      <td>0.688094</td>\n",
       "    </tr>\n",
       "    <tr>\n",
       "      <th>K-Nearest Neighbors</th>\n",
       "      <td>0.717872</td>\n",
       "      <td>0.667652</td>\n",
       "    </tr>\n",
       "    <tr>\n",
       "      <th>Decision Tree</th>\n",
       "      <td>0.688299</td>\n",
       "      <td>0.688333</td>\n",
       "    </tr>\n",
       "  </tbody>\n",
       "</table>\n",
       "</div>"
      ],
      "text/plain": [
       "                     Train Accuracy  Test Accuracy\n",
       "Model                                             \n",
       "Logistic Regression        0.688325       0.688094\n",
       "K-Nearest Neighbors        0.717872       0.667652\n",
       "Decision Tree              0.688299       0.688333"
      ]
     },
     "execution_count": 207,
     "metadata": {},
     "output_type": "execute_result"
    }
   ],
   "source": [
    "Model=['Logistic Regression','K-Nearest Neighbors','Decision Tree'] #,'Support Vector Machine']\n",
    "Train = [lr_train_acc,knn_train_acc,dt_train_acc] #,svc_train_acc]\n",
    "Test = [lr_test_acc,knn_test_acc,dt_test_acc] #,svc_test_acc]\n",
    "#Prec = [lr_test_pre,knn_test_pre,dt_test_pre,svc_test_pre]\n",
    "#Rec = [lr_test_rec,knn_test_rec,dt_test_rec,svc_test_rec]\n",
    "Results = pd.DataFrame({'Model':Model,'Train Accuracy':Train,'Test Accuracy':Test}) #, 'Test Precision':Prec, 'Test Recall':Rec})\n",
    "Results.set_index('Model')"
   ]
  },
  {
   "cell_type": "markdown",
   "id": "89f65ff0",
   "metadata": {},
   "source": [
    "## Deployment"
   ]
  },
  {
   "cell_type": "markdown",
   "id": "2d91b4de",
   "metadata": {},
   "source": [
    "These are preliminary results. If we can build a successful model, we could scrape tweets and run through our model to track sentiment for a given time period."
   ]
  },
  {
   "cell_type": "code",
   "execution_count": null,
   "id": "cfd3d04d",
   "metadata": {},
   "outputs": [],
   "source": []
  }
 ],
 "metadata": {
  "kernelspec": {
   "display_name": "Python 3 (ipykernel)",
   "language": "python",
   "name": "python3"
  },
  "language_info": {
   "codemirror_mode": {
    "name": "ipython",
    "version": 3
   },
   "file_extension": ".py",
   "mimetype": "text/x-python",
   "name": "python",
   "nbconvert_exporter": "python",
   "pygments_lexer": "ipython3",
   "version": "3.9.13"
  }
 },
 "nbformat": 4,
 "nbformat_minor": 5
}
